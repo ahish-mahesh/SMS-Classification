{
  "cells": [
    {
      "cell_type": "markdown",
      "metadata": {
        "id": "view-in-github",
        "colab_type": "text"
      },
      "source": [
        "<a href=\"https://colab.research.google.com/github/ahish-mahesh/SMS-Classification/blob/main/SmS_classification.ipynb\" target=\"_parent\"><img src=\"https://colab.research.google.com/assets/colab-badge.svg\" alt=\"Open In Colab\"/></a>"
      ]
    },
    {
      "cell_type": "markdown",
      "metadata": {
        "id": "koLfvxDXV2mQ"
      },
      "source": [
        "#       Semi Supervised Learning for SMS Classification\n",
        "\n",
        "\n",
        "### nltk (natural language toolkit) is used for text preprocessing pipeline.\n",
        "#### #1 Stopwords removal\n",
        "#### #2 Extration of nouns\n",
        "#### #3 Stemming (using porter stemmer algorithm)"
      ]
    },
    {
      "cell_type": "code",
      "execution_count": null,
      "metadata": {
        "id": "oWx2ShgoV2mS",
        "outputId": "2fae3af3-e199-404a-c732-b6476c1f8b21"
      },
      "outputs": [
        {
          "name": "stderr",
          "output_type": "stream",
          "text": [
            "[nltk_data] Downloading package punkt to\n",
            "[nltk_data]     /Users/seshasaisuhashdesu/nltk_data...\n",
            "[nltk_data]   Package punkt is already up-to-date!\n",
            "[nltk_data] Downloading package wordnet to\n",
            "[nltk_data]     /Users/seshasaisuhashdesu/nltk_data...\n",
            "[nltk_data]   Package wordnet is already up-to-date!\n",
            "[nltk_data] Downloading package stopwords to\n",
            "[nltk_data]     /Users/seshasaisuhashdesu/nltk_data...\n",
            "[nltk_data]   Package stopwords is already up-to-date!\n",
            "[nltk_data] Downloading package averaged_perceptron_tagger to\n",
            "[nltk_data]     /Users/seshasaisuhashdesu/nltk_data...\n",
            "[nltk_data]   Package averaged_perceptron_tagger is already up-to-\n",
            "[nltk_data]       date!\n"
          ]
        },
        {
          "data": {
            "text/plain": [
              "True"
            ]
          },
          "execution_count": 1,
          "metadata": {},
          "output_type": "execute_result"
        }
      ],
      "source": [
        "import difflib as dl\n",
        "import pandas as pd\n",
        "import math\n",
        "import re\n",
        "import numpy as np\n",
        "#from fuzzywuzzy import fuzz\n",
        "#from fuzzywuzzy import process\n",
        "import csv\n",
        "import nltk\n",
        "#from nltk import word_tokenize\n",
        "from operator import add\n",
        "from functools import reduce\n",
        "from collections import Counter\n",
        "import nltk\n",
        "from nltk.stem import WordNetLemmatizer\n",
        "from nltk.corpus import stopwords\n",
        "nltk.download('punkt')\n",
        "nltk.download('wordnet')\n",
        "nltk.download('stopwords')\n",
        "nltk.download('averaged_perceptron_tagger')"
      ]
    },
    {
      "cell_type": "markdown",
      "metadata": {
        "id": "txFm_haFV2mU"
      },
      "source": [
        "### 30% of the ham messages are used as positive labeled dataset.\n",
        "### #Dataset: column v1 contains the class labels and column v2 contains the messages."
      ]
    },
    {
      "cell_type": "code",
      "execution_count": null,
      "metadata": {
        "id": "-hRpnMmAV2mU",
        "outputId": "992e7d8f-a3db-46e1-bbf4-9d9b9b7c1153"
      },
      "outputs": [
        {
          "name": "stdout",
          "output_type": "stream",
          "text": [
            "4825\n",
            "       v1                                                 v2 Unnamed: 2  \\\n",
            "2676  ham  * Am on a train back from northampton so i'm a...        NaN   \n",
            "2201  ham  A boy was late 2 home. His father: \\POWER OF F...        NaN   \n",
            "1636  ham  No shit, but I wasn't that surprised, so I wen...        NaN   \n",
            "652   ham  Wait, do you know if wesleys in town? I bet sh...        NaN   \n",
            "3498  ham  I hope you arnt pissed off but id would really...        NaN   \n",
            "\n",
            "     Unnamed: 3 Unnamed: 4  \n",
            "2676        NaN        NaN  \n",
            "2201        NaN        NaN  \n",
            "1636        NaN        NaN  \n",
            "652         NaN        NaN  \n",
            "3498        NaN        NaN  \n"
          ]
        }
      ],
      "source": [
        "df=pd.read_csv(\"spam.csv\",encoding='latin-1')\n",
        "df_filtered = df[df['v1'] == \"ham\"]\n",
        "print(len(df_filtered))\n",
        "from sklearn.model_selection import train_test_split\n",
        "X_train, X_test = train_test_split(df_filtered, test_size=.3)\n",
        "temp_X_train=X_train\n",
        "df_filtered=X_test\n",
        "txt=\"\"\n",
        "for i in range(len(df_filtered)):\n",
        "    txt=df_filtered.iloc[i][\"v2\"]+\" \"+txt\n",
        "print(df_filtered.head())"
      ]
    },
    {
      "cell_type": "markdown",
      "metadata": {
        "id": "of19-iacV2mU"
      },
      "source": [
        "### Preprocessing is done by\n",
        "#### #1 converting uppercase to lowercase.\n",
        "#### #2 removing extra spaces and line breaks.\n",
        "#### #3 removing stopwords\n",
        "#### #4 extracting nouns\n",
        "#### #5 lemmatizing the words"
      ]
    },
    {
      "cell_type": "code",
      "execution_count": null,
      "metadata": {
        "id": "ejL8UMtDV2mU",
        "outputId": "e15c936a-b35a-4b23-c6f3-657829c14caf"
      },
      "outputs": [
        {
          "name": "stdout",
          "output_type": "stream",
          "text": [
            "[['train', 'northampton', 'afraid'], ['home', 'father', 'power', 'frndship'], ['shit', 'spent', 'town', 'fuck'], ['wait', 'wesley', 'town', 'hella', 'drug'], ['hope', 'arnt', 'tomorrow', 'love', 'xxxxxxxxxxxxxx'], ['plane', 'month'], ['aaooooright', 'work'], ['chance', 'search'], ['library'], ['gon', 'miss'], ['thkin', 'goin', 'yogasana', 'rush', 'parco', 'okie', 'call'], ['princess'], ['lunch', 'buffet'], ['hurt', 'tease', 'life', 'grave', 'miss', 'bslvyl'], [], ['finish', 'blowing', 'hair', 'finish', 'dinner'], ['fine', 'bitch'], ['found', 'pierre', 'cardin', 'look', 'cost', 'sale'], ['want', 'grasp', 'booty'], ['hungry'], [], ['babe', 'doin', 'love', 'annie'], ['derek', 'taylor'], ['talk'], ['send', 'number'], ['thanx'], ['rite', 'watch', 'affair', 'darren', 'mayb'], ['responsibility'], ['haha', 'yeah', 'kind', 'shitload'], ['want', 'morow', 'dear', 'didnt', 'time'], ['mean'], ['howz', 'person', 'story'], ['nothing', 'sure', 'everybody', 'speed'], ['whats', 'morning'], ['thank'], ['mornin', 'thanku', 'wish'], ['morning', 'pookie', 'hope', 'wake'], ['beautiful', 'truth', 'gravity', 'read', 'heart', 'feel', 'light', 'someone', 'feel', 'someone', 'leaf'], ['join', 'company'], ['time', 'need', 'sort', 'stuff'], ['poop', 'look', 'prob', 'send', 'laptop', 'problem'], [], ['look', 'found', 'something', 'smoke'], ['sent', 'score', 'sophas', 'application', 'school', 'think', 'research', 'cost', 'contact', 'joke', 'ogunrinde', 'school', 'one'], ['number'], ['faggot'], ['sorry', 'call'], [], ['know', 'lunch', 'menu'], ['thanks', 'bomb', 'date', 'phone'], ['nope', 'home', 'pump', 'petrol', 'rain'], ['reading', 'semi', 'argument', 'thing'], [], ['okay', 'thanks', 'clarification'], ['want', 'night'], ['stuff', 'happens', 'everything', 'push', 'edge', 'underdtand', 'sorry', 'sorry', 'life'], ['something'], ['night', 'warm', 'bath', 'drink', 'milk', 'work', 'magic', 'need', 'weight'], ['home', 'time', 'wont', 'anything', 'trust'], ['convey', 'regard'], ['track', 'lighter'], ['call'], ['aiyo', 'please', 'time'], ['okie'], ['tessy', 'favor', 'convey', 'birthday', 'wish', 'nimya', 'forget', 'today', 'birthday', 'shijas'], ['ttyl'], ['slave', 'shell'], ['sathya', 'till', 'dint', 'meet', 'time', 'situation', 'sathya'], [], ['morning', 'dear'], ['thought', 'dinner', 'treat', 'seem'], ['need'], ['dunno', 'decide', 'leona', 'oops'], ['sleep', 'travel'], ['sorry', 'call'], [], ['noon'], ['shitin', 'defo', 'hardest', 'morow', 'million', 'lekdog'], ['auto', 'correct', 'phone'], [], ['feelin', 'pete', 'wuld', 'place', 'time', 'mayb'], ['meant', 'apology', 'drug', 'night'], ['exam', 'harder', 'nbme'], ['dobby', 'bowl'], ['party', 'day', 'week', 'study', 'think', 'need', 'draw', 'custom', 'checkboxes', 'hardcore'], ['game'], ['gumby', 'cheese', 'pizza', 'doin', 'tonight'], ['wats', 'problem'], ['family', 'anything', 'room', 'home', 'diwali', 'feel'], ['weather', 'cali', 'complexity', 'need', 'move', 'tax', 'place', 'part', 'home'], ['plumber', 'tape', 'wrench', 'borrow'], ['tyler', 'hour'], ['talk'], ['cold', 'dont', 'dear'], ['idea'], [], ['message', 'resend', 'please'], ['jordan'], ['ta', 'home', 'urself', 'shopping', 'frens', 'present'], ['princess'], ['didnt', 'holla'], ['possession', 'shit', 'time'], ['theory', 'argument', 'win', 'situation', 'loses', 'person', 'dont', 'argue', 'friend', 'kick', 'correct'], ['sleep', 'hope', 'meet'], ['family', 'merry', 'year', 'advance'], ['thank'], ['loosu', 'hospital', 'dont', 'careless'], ['prescribed', 'morphine', 'cause', 'pain', 'med', 'bring', 'kick', 'fast', 'gon'], [], ['figure', 'suppose', 'couple', 'people', 'week', 'date'], ['babe', 'online'], ['tomorrow'], ['payment', 'dont', 'sorry', 'want', 'fedex'], ['sexy', 'bun', 'told', 'adore', 'loverboy', 'hope', 'thank', 'sister', 'meatball', 'grin', 'love', 'babe'], ['incident'], ['becoz', 'post', 'ofice', 'holiday', 'post', 'ofice', 'duffer'], ['sure', 'parent', 'tuesday', 'need', 'cover', 'story'], ['darlin', 'pick', 'college', 'tell', 'love', 'pete'], ['september'], ['lousy', 'sleep', 'kept', 'hour', 'worry', 'cold'], ['night', 'morning', 'smile', 'sunny', 'ray', 'leaf', 'worry', 'blue', 'blue', 'mrng'], ['wana'], ['thats', 'cool', 'gentleman', 'treat', 'dignity', 'respect'], ['girl', 'stay', 'girl', 'need', 'recovery', 'time', 'pas', 'cooped'], ['smth', 'feel'], ['cabin', 'bos', 'felt', 'askd', 'lunch', 'lunch', 'apartment'], ['lunch', 'door'], [], ['online', 'store', 'offer', 'want', 'thing'], ['request', 'maangalyam', 'alaipayuthe', 'callertune', 'caller', 'press', 'copy', 'friend', 'callertune'], ['motivate', 'darkness', 'light', 'friend', 'trust', 'love', 'bslvyl'], ['wait', 'lect', 'havent', 'finish'], ['sick', 'needy', 'want', 'pout', 'stomp', 'foot', 'pout', 'stomp', 'foot', 'want', 'slave', 'want'], ['change', 'suntec', 'time'], ['people', 'dearer', 'happiness', 'feel', 'meet', 'pain', 'feel', 'miss'], ['test', 'courage', 'earth', 'bear', 'defeat', 'heart'], ['coffee', 'frens', 'fren', 'drove', 'lift'], [], ['left', 'gon', 'dinner'], ['mean'], ['area', 'restaurant'], ['money'], ['gloucesterroad'], ['cant', 'join', 'denis', 'mina', 'denis', 'want', 'time'], ['told', 'join', 'uncle', 'finance'], ['jack', 'shit', 'anything', 'something', 'helpful', 'want', 'pretend', 'text', 'response', 'hypotheticalhuagauahahuagahyuhagga'], ['hiya', 'sorry', 'signal', 'heard', 'case', 'sort', 'hug', 'snogs'], ['born', 'idiot', 'born'], ['baby', 'work', 'allday', 'hope', 'didnt', 'piss', 'phone', 'today', 'call'], ['heehee', 'funny'], ['shhhhh', 'nobody'], ['wan', 'na', 'study'], ['need', 'cash', 'nitros', 'hurry', 'crash'], ['promise', 'care', 'princess', 'please', 'send', 'pic', 'chance', 'ttyl'], ['gon', 'ring', 'weekend'], ['stop'], ['thts', 'gift', 'bird', 'human', 'gift'], ['company', 'environment', 'terrific', 'food'], ['alrite', 'checkin', 'number'], [], ['haha', 'dinner', 'cousin'], ['customer', 'place'], ['appt', 'time', 'fault', 'listen', 'told'], ['laugh', 'tomo'], ['girl', 'lmao'], ['whenever', 'hook'], ['friendship', 'game', 'play', 'word', 'start', 'march', 'end', 'tomorrow', 'yesterday', 'today'], ['scool', 'babe'], ['mate', 'message', 'hello', 'sent', 'age', 'stay', 'road'], ['meet', 'lobby'], ['urgent', 'shortage', 'lac', 'source', 'arng', 'lac', 'thats', 'prob'], ['need', 'vomit'], ['bath', 'place', 'window'], ['want', 'crave', 'miss', 'need', 'love', 'ahmad', 'saeed', 'hallaq'], ['think'], ['check', 'nuerologist'], ['yeah', 'time', 'newquay', 'send', 'postcard', 'look', 'girl', 'talkin', 'bout'], ['welp'], ['dear', 'pray', 'felt', 'time'], ['smoking', 'help', 'work', 'time'], ['doin', 'baby', 'girl', 'hope', 'okay', 'time', 'call', 'phone', 'miss', 'touch'], ['project', 'centre'], ['sorry', 'call'], ['brum', 'thanks'], ['hitter'], ['please', 'reserve', 'ticket', 'saturday', 'chennai', 'thirunelvali', 'tirunelvali', 'chennai', 'sunday', 'ticket', 'want', 'book', 'ticket', 'tackle'], ['tomorrow', 'onwards', 'work'], ['text', 'favour', 'time'], ['interview'], ['mokka', 'player'], ['heart', 'remembrs', 'someone', 'forgets', 'someone', 'bcoz', 'heart', 'everyone', 'one', 'everytime', 'bslvyl'], ['sorta', 'blown', 'couple', 'time', 'text', 'blue', 'weed'], ['awesome', 'minute'], ['juan', 'home', 'course', 'welcome', 'party', 'lot', 'present', 'phone', 'load', 'love'], ['auntie', 'huai', 'juan', 'pick', 'phone'], ['charles', 'sorry', 'reply'], ['office'], ['thanks', 'message', 'appreciate', 'sacrifice', 'sure', 'process', 'test', 'tomorrow', 'class', 'wonderful'], ['tell', 'dont', 'behave', 'need'], ['idea', 'guess', 'work', 'hour', 'nobody', 'interest', 'shit'], ['okay', 'dream'], ['thanks', 'fill', 'calm', 'reassurance'], ['hope'], ['grinder'], ['beneath', 'pale', 'moon', 'light', 'someone', 'think', 'dream', 'goodnite', 'sweet', 'dream'], ['lift', 'phne', 'hello', 'meaning', 'hello', 'name', 'girl', 'girl', 'margaret', 'hello', 'girlfrnd', 'grahmbell', 'telphone', 'name', 'person'], ['pussy', 'perfect'], ['babe', 'miss', 'love', 'kiss', 'hope', 'everything'], ['reading', 'habit', 'bari', 'hudgi', 'yorge', 'pataistha', 'ertini', 'kano'], ['dare', 'wont', 'tell', 'anything', 'hear', 'wont', 'talk'], ['butting', 'head', 'freedom', 'responsibility', 'shit', 'deal'], ['request', 'melle', 'melle', 'minnaminunginte', 'nurungu', 'vettam', 'callertune', 'caller', 'press', 'copy', 'friend', 'callertune'], ['chief', 'bell', 'need', 'talk', 'royal', 'visit', 'june'], ['prepare'], ['carlos', 'anybody', 'chip'], ['week', 'time'], ['people', 'tour', 'thought', 'sofa', 'thing', 'sent', 'sugar'], ['sister', 'kid'], [], ['partnership', 'lead'], ['ahhhh', 'woken', 'dream', 'dont', 'right', 'didnt', 'anything', 'comedy', 'night', 'guess'], ['restaurant'], ['time', 'finish', 'lect', 'today'], ['ambrith', 'madurai', 'arun', 'marrge', 'remembr'], ['alright', 'text'], ['morning', 'call'], ['mean'], ['birthdate', 'certificate', 'april', 'date', 'today', 'dont', 'publish', 'treat', 'secret', 'thanks', 'wish'], ['fight'], ['everything', 'weather', 'warm', 'cold', 'nothing', 'lot', 'vitamin'], ['wenever', 'vikky', 'time'], ['people'], ['helloooo', 'wake', 'sweet', 'morning', 'welcome', 'enjoy', 'mrng'], ['home', 'dinner'], ['feel', 'money', 'steak', 'dinner'], ['dunno', 'ticket'], ['grandma', 'dear', 'felt', 'shit', 'morning', 'think', 'hungover', 'night'], ['haha', 'heard', 'text'], ['feel', 'valentine', 'valentine', 'play'], ['need', 'shit', 'tomorrow', 'awake'], ['teach'], ['sexy', 'bun', 'word', 'morning', 'think'], ['payasam', 'rinu', 'brings'], ['part', 'time', 'tuition'], ['morning'], ['tomarrow', 'want', 'court', 'decimal', 'stand'], ['sent'], ['inconvenient'], ['yummy', 'babe', 'jolt', 'suzy'], ['solve', 'case', 'found', 'decimal', 'afternoon', 'wife', 'police', 'police', 'everyone', 'wife', 'murder', 'place', 'cook', 'cooking', 'gardener', 'vegetable', 'house', 'maid', 'post', 'office', 'child', 'play', 'neighbour', 'marriage', 'police', 'murderer', 'reply', 'reason', 'brilliant'], ['sorry', 'call'], ['enjoy', 'show'], ['sure', 'time', 'finish', 'tomorrow', 'wan', 'na', 'spend', 'vewy', 'vewy', 'love'], ['tuth', 'aight'], ['sheffield', 'opinion', 'category', 'measure', 'ethnicity', 'census'], ['dialogue', 'cute', 'reltnship'], ['pick', 'bout', 'time'], ['dinner'], ['crab', 'shore', 'wave', 'footprint', 'crab', 'crab', 'frnd', 'clearing', 'beautiful', 'footprint', 'wave', 'footprint', 'catch', 'thats', 'frndsship', 'let'], ['alright', 'tyler', 'minor', 'crisis', 'home', 'sooner', 'thought', 'asap'], ['hiya', 'comin', 'bristol', 'week', 'april', 'rudi', 'drunk', 'college', 'work', 'sends', 'bath'], ['love', 'someone', 'dont', 'love', 'love', 'dont', 'want', 'anyone'], ['shopping', 'disturb', 'liao'], [], ['saturday', 'sunday'], ['style'], ['today'], [], ['dear'], ['allo', 'bus', 'train', 'triumphed', 'mean', 'rest', 'week'], ['christmas', 'enjoy', 'merry'], ['sorry', 'call', 'meeting', 'thing', 'trade', 'please', 'call', 'arul'], ['prevent', 'dehydration', 'fluid'], ['cozy', 'night', 'nobody', 'school', 'work', 'everything'], ['time', 'liao'], [], [], ['search', 'happiness', 'source', 'unhappiness', 'accept', 'life', 'happiness', 'moment'], ['fine', 'avalarr', 'hollalater'], ['dude', 'makin', 'weirdy', 'brownie', 'sister', 'awesome', 'cooky', 'pic'], ['baby', 'need', 'stretch', 'pussy'], ['speak', 'bcaz', 'mobile', 'problem', 'listen', 'cann', 'listen', 'voice', 'call'], ['effect', 'irritation', 'ignore'], ['year', 'family', 'year', 'bring', 'happiness', 'stability', 'tranquility', 'vibrant', 'colourful', 'life'], ['meet'], ['marrow'], ['reply'], [], ['record', 'night'], ['hope', 'agent', 'drop', 'thing', 'year', 'boston', 'experiment'], ['dance', 'river'], ['night', 'morning', 'smile', 'sunny', 'ray', 'leaf', 'worry', 'blue', 'blue'], ['word', 'checkmate', 'chess', 'persian', 'phrase', 'shah', 'maat', 'mean', 'king'], [], ['sound', 'costume', 'sure', 'time', 'finish', 'tomorrow'], ['mystery', 'email', 'sent', 'batch', 'sweetie'], ['sorry', 'call'], ['thanks', 'home', 'reality', 'check', 'hows', 'anything', 'website'], ['hope', 'text', 'meet', 'life', 'abiola'], ['love', 'aathi', 'love'], ['gon', 'deus'], ['thanks', 'honey', 'heard', 'anything', 'longer', 'crowd', 'advice', 'thanks', 'hope', 'cardiff'], ['name', 'joke', 'school', 'fee', 'university', 'florida', 'seem', 'holla'], ['think', 'number'], ['maaaan'], ['stress', 'person', 'dorm', 'account', 'send', 'account', 'detail', 'money', 'sent'], ['video', 'converter', 'download', 'type', 'google', 'search'], ['beautiful'], ['armand', 'epsilon'], ['blood', 'blood', 'heart', 'heart', 'send', 'friend', 'relation', 'need', 'support', 'frnd', 'luvs', 'marry'], ['guess', 'time', 'show', 'watch'], ['love', 'limit', 'grace', 'measure', 'power', 'boundary', 'endless', 'blessing', 'life'], ['vivek', 'call', 'number'], [], ['call', 'senthil', 'hsbc'], [], ['sorry', 'thangam', 'sorry', 'held', 'prasad'], ['cant', 'eye', 'vava', 'umma'], ['anything'], ['india', 'draw', 'series', 'year', 'south', 'soil'], ['nowadays', 'shop', 'showroom', 'city'], [], ['painful', 'thought', 'everybody', 'time', 'nobody', 'recognises'], ['think', 'match'], ['stripe', 'skirt'], ['aight', 'want', 'money'], ['bring', 'success'], ['babe', 'need', 'advice'], ['hiya', 'home', 'moment', 'evone', 'hate', 'hell', 'wont', 'tell', 'text', 'please'], ['dear'], ['thought'], ['person', 'child', 'adult', 'behave', 'call'], ['affidavit', 'twiggs', 'division', 'courtroom', 'time', 'check', 'text', 'tomorrow'], ['friend', 'warwick', 'shopping', 'concert', 'havn', 'age', 'yeah'], ['hear'], ['money', 'steve', 'mate'], ['dirty', 'fellow'], ['tell', 'stop', 'run'], ['time'], ['speak', 'feel', 'word', 'silence', 'mrng'], ['thanks', 'temales', 'wonderful', 'thank', 'week'], ['darlin', 'hope', 'night', 'wish', 'cant', 'wait', 'love', 'fran', 'want', 'dirty', 'want', 'gang', 'bang'], [], ['weightloss', 'girl', 'friend', 'load', 'money', 'ebay', 'something', 'thanks'], ['weird', 'point'], ['think', 'rule', 'tamilnadu', 'people'], ['cooky'], ['dear', 'salam', 'alaikkum', 'pride', 'pleasure', 'meeting', 'today', 'shop', 'send', 'contact', 'number', 'qatar', 'rakhesh', 'number', 'respectful', 'regard'], ['hope', 'bring', 'notice', 'rent', 'past', 'month', 'charge', 'felt', 'inconsiderate', 'something', 'cost', 'didnt', 'speak', 'recession', 'wont', 'charge', 'month', 'hence', 'askin', 'month', 'please', 'help', 'thank', 'everything'], ['send', 'decimal'], ['look', 'alot', 'work', 'woman'], ['thanks', 'thangam', 'feel', 'dear', 'miss'], [], ['account', 'decimal', 'keralacircle', 'prepaid', 'account', 'balance', 'decimal', 'transaction'], ['dinner', 'aiya', 'dunno'], ['admit'], ['love', 'hogolo', 'gold', 'chain', 'kodstini', 'agalla', 'necklace', 'madstini', 'agalla', 'hogli', 'mutai', 'eerulli', 'kodthini', 'love', 'kano'], ['call', 'carlos', 'phone', 'vibrate', 'hear', 'text'], ['employee'], [], ['sure', 'hold'], ['minute', 'oxygen', 'resort', 'roller', 'option'], ['aight', 'side'], [], ['flippin', 'shit'], ['woke', 'problem'], ['rightio', 'arent', 'bright', 'morning'], ['howda', 'mathe', 'samachara', 'chikku'], ['brdget', 'jones'], ['hello', 'boytoy', 'home', 'thought', 'love', 'hope', 'visit', 'wait', 'till', 'home', 'kiss'], ['thinked', 'time', 'class'], ['morning'], ['told', 'baig', 'face', 'watch', 'watch', 'thanx', 'everything', 'today'], ['watch', 'swatch', 'need', 'opinion'], ['number', 'text', 'number', 'heard', 'year', 'mcat', 'number', 'atlanta', 'friend'], ['cheer', 'yeah', 'goodnite', 'shame', 'neva', 'gailxx'], ['wait', 'chikku', 'send', 'aftr', 'min'], ['thing', 'chest', 'abdomen', 'gynae', 'infection', 'bone', 'infection'], ['mmmmm', 'word', 'morning', 'miss', 'love', 'hope', 'wait'], ['minimum', 'walk', 'mile'], ['cant', 'pick', 'phone', 'right', 'send', 'message'], ['alrite'], ['oredi'], ['immunisation', 'nigeria'], ['baby', 'cruisin', 'girl', 'friend', 'call', 'hour', 'home', 'thats', 'alright', 'fone', 'fone', 'love', 'jenny'], ['yeah', 'roommate', 'finish', 'girl'], ['thank', 'sura', 'didnt', 'pleasure', 'company', 'hope', 'ultimatum', 'countin', 'aburo', 'enjoy', 'message', 'sent', 'day'], ['stayin', 'week', 'rugby', 'weekend'], ['intend', 'hurt', 'knew', 'felt', 'iwas', 'marine', 'tell', 'urmom', 'careabout'], ['piece'], ['wait', 'check'], ['pilate', 'intro'], ['suppose', 'haiz'], ['morning', 'love', 'sleep', 'wish', 'opportunity', 'thought', 'babe', 'love', 'kiss'], ['hour'], ['darren'], ['yijue', 'mail', 'case', 'havent', 'sent'], ['want', 'sent', 'mesages', 'today', 'thats', 'sorry', 'hurt'], ['valentine', 'hundred', 'handsomes', 'beauty', 'wish', 'thought', 'finish', 'aunty', 'uncle'], ['thought', 'slide'], ['haha', 'think'], ['nothing'], ['show', 'afternoon', 'watch', 'today'], ['efficient', 'thanx'], ['hmmm', 'guess', 'power', 'yoga', 'haha', 'dunno', 'tahan', 'power', 'yoga', 'anot', 'forgot', 'liao'], ['sweet', 'dream'], ['drink', 'need', 'model', 'send', 'mail'], ['whats', 'plan'], ['thank', 'selflessness', 'love', 'plenty'], ['bill', 'thats'], ['beach', 'dinner'], ['tunde', 'abiola'], ['slice', 'hungry', 'suck', 'mark', 'know', 'sick', 'turn', 'pizza'], ['place', 'room', 'cheap'], ['sorry', 'fire', 'talk', 'life'], ['call', 'tomorrow', 'call', 'look', 'irene', 'cres', 'tech', 'park', 'day'], ['heat', 'applyed'], ['doesnt', 'need', 'test'], ['hello', 'yeah', 'bath', 'need', 'hair', 'yeah'], ['proper'], ['everybody', 'right'], ['love', 'aathi', 'love'], ['sister', 'school', 'minimum', 'wait', 'period', 'reapply', 'care'], ['hungry'], ['lay', 'rock', 'rock', 'envelope', 'envelope', 'paper', 'paper', 'word'], ['sorry', 'dont'], ['chennai', 'search'], ['yeah'], ['fuck', 'sake', 'tallahassee'], ['supervisor', 'student', 'havent', 'tell'], ['station'], [], ['number'], ['kallis', 'wont', 'play'], ['call'], ['think', 'move', 'week'], ['significance'], ['frnd', 'name', 'ashwini', 'college'], ['mrng', 'dear'], ['weekday', 'price', 'haiz', 'cant', 'liao', 'nail', 'wait', 'finish', 'drivin', 'lunch'], ['yeah', 'sorry', 'tell', 'cafe'], ['lift', 'phne', 'hello', 'meaning', 'hello', 'name', 'girl', 'girl', 'margaret', 'hello', 'girlfrnd', 'grahmbell', 'telphone', 'name', 'person'], ['guess', 'body', 'repair', 'sure', 'worry', 'test', 'guide', 'ovulation', 'relax', 'nothing', 'reason', 'worry', 'followin'], ['cthen', 'enuff', 'conclusion', 'content', 'reference', 'content', 'cover'], ['exam'], ['answer', 'broke', 'didnt', 'reply'], ['skye'], ['sound', 'plan', 'cardiff', 'cold', 'radiator'], ['smile', 'hppnss', 'drop', 'tear', 'sorrow', 'part', 'heart', 'life', 'heart', 'mine', 'care', 'forevr', 'goodfriend'], ['hello', 'need', 'arrange', 'pick', 'lamp', 'care', 'hello', 'caroline'], ['spoke', 'maneesha', 'experience', 'reply', 'toll'], ['laptop', 'configure', 'setting', 'izzit'], ['samus', 'shoulder'], ['work', 'year', 'hope', 'doesnt', 'bother'], ['specialisation', 'work', 'slave', 'labor', 'look', 'month', 'shakara', 'beggar'], ['gal'], ['escape', 'theatre', 'watch', 'kavalan', 'minute'], ['haha', 'yeah'], ['kano', 'download'], ['think', 'spatula', 'hand'], [], ['askd', 'question', 'hour', 'answer'], ['moji', 'told', 'offer', 'speechless', 'offer', 'length', 'behalf', 'exam', 'friday', 'touch', 'sorry'], ['class', 'babe', 'hope', 'sleep', 'love'], ['convey', 'regard'], ['crazy', 'guy', 'frens', 'korean', 'leona', 'fave', 'mayb', 'prob'], ['town'], ['head', 'swell', 'thanks'], ['list', 'buyer'], ['yeah', 'sort', 'retard'], ['wan', 'na'], ['drink', 'water'], ['call', 'radio'], ['sick'], ['haha', 'orchard', 'weigh'], ['idea'], ['reading', 'text', 'sent', 'meant', 'joke', 'read', 'light'], ['headin'], ['princess', 'moan'], ['told', 'yesterday', 'name', 'roger', 'touch', 'night', 'meet', 'today'], ['mom', 'tortilla', 'soup', 'yummmm'], ['chennai', 'forgot', 'auction'], ['awesome', 'text'], [], ['year'], ['kaiez', 'enjoy', 'tuition', 'option', 'sound', 'beta'], ['need', 'coffee', 'tomo', 'time', 'week'], ['read', 'love'], ['age'], ['morning', 'hows', 'london', 'treatin', 'treacle'], ['dont', 'gim', 'caveboy'], ['call', 'friend', 'money', 'buying', 'week'], ['hope', 'missin', 'missin', 'anything', 'feel'], ['room', 'clock', 'everyone', 'wahay', 'hour'], ['yeah'], ['tonight', 'yeah'], ['imma', 'need', 'restock'], ['enjoy', 'football', 'basketball', 'anything', 'outdoors'], ['boring'], ['haha', 'jazz', 'zoom', 'cine', 'tonight', 'lesson', 'tonight'], ['document', 'loan', 'stapati'], ['call'], ['hhahhaahahah', 'rofl', 'leonardo', 'room', 'something'], ['derek', 'taylor', 'walmart', 'time', 'mouse', 'desk', 'text', 'priscilla'], ['jason', 'gon'], ['quote', 'ability', 'listen', 'anything', 'temper', 'self', 'confidence', 'mean'], ['love', 'send', 'frnds', 'person', 'ignore'], ['weirdo'], ['mrng', 'dear'], ['dinner', 'rite', 'confirm'], ['nope', 'thats', 'fine'], ['askd', 'question', 'hour', 'answer'], ['finger', 'fill', 'gap', 'hand', 'love'], ['okay', 'bugis'], ['member', 'aunt', 'flow', 'visit', 'month', 'cause', 'developed', 'cyst', 'shrink'], ['others'], ['diddy', 'neighbor', 'toothpaste', 'morning'], ['thats', 'cool'], ['ffectionate', 'ruthful', 'ntimate', 'valentine', 'advance'], ['time', 'dont'], ['haha', 'deduct', 'lesson'], ['princess', 'want'], ['love', 'south', 'park', 'office'], ['tension', 'face', 'face', 'waste', 'face', 'innocent', 'face', 'terror', 'face', 'cruel', 'face', 'face', 'face', 'decent', 'face', 'joker', 'face'], ['tell', 'pain'], ['goin'], ['spare', 'power', 'supply'], ['east', 'coast'], ['work', 'please', 'call'], ['friday', 'stuffed', 'yesterday', 'feel', 'bleh', 'pain', 'kind', 'bleh'], ['math'], ['water', 'desert', 'geoenvironmental', 'implication'], ['wedding', 'chapel', 'frontierville', 'stuff'], ['call', 'dear', 'food'], ['awesome', 'phone', 'click', 'delete', 'right', 'want'], ['wish', 'mean', 'need', 'life'], ['thing'], ['continent'], ['please', 'connection', 'today', 'decimal', 'refund', 'bill'], ['urgent', 'shortage', 'lac', 'source', 'arng', 'lac', 'thats', 'prob'], ['people', 'msg', 'think', 'bcoz', 'sweet', 'friend', 'bslvyl'], ['message'], ['home', 'kiss', 'morning', 'love', 'think'], [], ['time', 'evaluation'], ['wife', 'kid', 'want', 'kid'], ['deal', 'care'], ['doesnt', 'sense', 'need', 'wikipedia'], ['please', 'attend', 'phone'], ['sorry', 'sent', 'blank'], ['gibbs', 'mike', 'hussey'], ['timing', 'finger', 'train', 'play', 'fifteen'], ['book', 'yoga', 'sunday'], ['dear', 'mood', 'cant', 'drive', 'brother', 'drive'], ['wont', 'touch', 'permission'], ['told', 'pple', 'finish'], ['weekend', 'fine', 'excuse'], ['need', 'home', 'lovin'], ['mean'], ['taste', 'fish', 'curry'], ['haha', 'spy', 'online', 'mail'], ['eatin', 'eatin', 'frens', 'home'], ['heard', 'wildlife', 'talk', 'tonight', 'want', 'worzels', 'wizzle'], ['yeah', 'sittin', 'waitin', 'phone', 'ring', 'hope', 'wind', 'drop'], ['friendship', 'game', 'play', 'word', 'start', 'march', 'end', 'tomorrow', 'yesterday', 'today'], ['right', 'word', 'thank', 'breather', 'promise', 'wont', 'help', 'fulfil', 'promise', 'wonderful', 'blessing', 'time'], ['sure'], ['buzy'], ['thing', 'thanx', 'exam', 'march', 'revision', 'fran', 'boyf', 'ta', 'interviw', 'exeter'], ['book', 'tomo', 'return', 'something'], ['bold'], ['feel', 'yesterday', 'night', 'wait', 'night', 'dear'], ['pressies'], [], ['didnt', 'sometext', 'send'], ['book', 'home'], ['prometazine', 'syrup', 'min', 'feed'], ['need', 'phone', 'card', 'dunno', 'network', 'finish', 'bathing', 'bathe', 'disturb', 'liao', 'cleaning', 'room'], ['decision'], ['mind', 'bedroom', 'minute', 'sexy', 'mood', 'minuts', 'latr', 'cake', 'wife'], ['anybody', 'asks'], ['pic'], ['weekend'], ['something'], ['gon', 'think'], ['want', 'please', 'bedroom'], ['anything'], ['xmas', 'radio', 'time'], ['iouri', 'told', 'story', 'time'], ['call', 'message', 'call'], ['miss', 'number', 'please'], ['blame', 'life', 'day', 'happiness', 'day', 'experience', 'life', 'god', 'blessing', 'morning'], ['aathi', 'dear'], ['rounder'], ['ride', 'tomorrow', 'morning', 'place', 'tonight'], ['sent', 'wife', 'text', 'tell', 'relax', 'wkend'], [], ['picked', 'flower', 'dippeditinadew', 'itwhichturnedinto', 'tomeandsaid', 'friend'], ['twenty', 'past', 'train', 'durham', 'seat'], ['recognise', 'face'], ['dont', 'chechi'], ['nothing', 'msg', 'name'], ['yeah'], ['wait', 'party'], ['morning', 'dear'], ['mistake'], ['office', 'call'], [], ['care'], ['love', 'massage', 'lot', 'baby', 'fave', 'position'], ['oops'], ['dear', 'westonzoyland', 'plan'], ['pas', 'contact', 'blue', 'smile', 'face', 'purple', 'realy', 'pink', 'orange', 'thnk', 'realy', 'wana', 'yelow', 'brown', 'miss', 'color'], ['pilate', 'yoga', 'lesson', 'haha'], ['call'], ['work', 'thurs', 'cant', 'liao'], ['please', 'protect', 'threat', 'asks', 'information', 'password', 'thru', 'email', 'share', 'password', 'anybody'], ['sorry', 'call'], ['wait', 'till', 'pick'], ['love', 'arrange'], ['work', 'right'], ['today', 'accept', 'accept', 'brother', 'sister', 'lover', 'dear', 'clos', 'lvblefrnd', 'jstfrnd', 'cutefrnd', 'lifpartnr', 'belovd', 'swtheart', 'bstfrnd', 'rply', 'mean', 'enemy'], ['night', 'morning', 'smile', 'sunny', 'ray', 'leaf', 'worry', 'blue', 'blue', 'mrng'], [], ['darlin', 'kate', 'doin', 'somethin', 'tonight', 'swan', 'something', 'parent', 'drink', 'phone'], ['multimedia', 'message', 'mail'], ['hows', 'favourite', 'person', 'today', 'workin', 'sleep', 'rang'], ['understand', 'ring', 'morrow'], ['wish', 'thing', 'wonder', 'show', 'value', 'continue', 'brisk', 'walk', 'drug', 'askin', 'please', 'thing', 'laugh', 'love'], ['dont'], ['sorry', 'thought', 'time', 'call', 'noon'], ['haha', 'sound', 'crazy', 'dunno', 'tahan', 'anot'], ['anything'], ['sorry', 'call', 'call'], ['surya', 'movie', 'vijay', 'movie', 'pokkiri'], ['dunno', 'told'], ['night', 'morning', 'smile', 'sunny', 'ray', 'leaf', 'worry', 'blue', 'blue', 'mrng'], ['talk', 'apartment', 'start'], ['everybody', 'miss'], ['cool', 'want', 'kappa', 'meet'], ['yeah', 'friend', 'imma', 'flip', 'shit', 'half', 'hour'], ['sorry', 'help'], ['call', 'idea'], ['aight', 'grab', 'something', 'text'], ['okay'], ['sorry', 'place', 'tomorrow', 'sorry'], ['wont', 'guy'], ['need', 'miss', 'envy', 'everyone', 'life'], ['sorry', 'call'], ['love', 'hope', 'anything', 'dare', 'sell', 'phone'], ['update', 'face', 'book', 'status'], ['sent', 'version', 'project'], ['role', 'community', 'outreach', 'rock'], ['trip', 'planning', 'everyone', 'befor', 'meet', 'greet', 'kind', 'affair', 'cheer'], ['ebay'], ['thought', 'thing', 'person', 'somtimes', 'thing', 'occupy', 'part', 'heart'], ['fuck', 'sake'], ['campus', 'library'], ['call'], ['plan', 'family', 'stone'], ['convincing'], ['nimbomsons', 'phone', 'know', 'thats', 'word'], ['gon', 'sorry', 'panic', 'time', 'sorry', 'tuesday'], ['hope', 'week'], ['check', 'mail', 'varma', 'kept', 'copy', 'membership', 'care', 'insha', 'allah'], ['phone'], ['check'], ['kent', 'vale', 'wait'], ['escape', 'fancy', 'bridge', 'need', 'lager', 'tomo'], ['comedy', 'cant', 'stop'], ['hour', 'hair'], ['tall', 'princess'], ['confuses', 'thing', 'doesnt', 'thought', 'friend', 'thing', 'sort', 'money'], ['hello', 'wats', 'talk', 'email', 'address'], ['time', 'fix', 'diff', 'word', 'figure'], ['anti', 'sleep', 'medicine'], ['nothing', 'home', 'sleep', 'today'], ['sent'], ['look'], ['darlin', 'work', 'trouble', 'ijust', 'morning', 'time', 'night', 'goin', 'call'], ['laid', 'airtel', 'line', 'rest'], ['pick', 'time', 'park'], ['house', 'parent', 'hand'], ['match', 'towards', 'draw', 'prediction'], ['request', 'melle', 'melle', 'minnaminunginte', 'nurungu', 'vettam', 'callertune', 'caller', 'press', 'copy', 'friend', 'callertune'], ['ammae', 'life', 'turn', 'hold'], ['problem', 'need', 'experience', 'understand', 'customer', 'voice'], ['printer', 'cool', 'mean', 'groovy', 'wine'], ['fine', 'feel', 'gota'], ['dude', 'poker'], ['feel'], ['okie'], ['opening'], ['food'], ['howz', 'person', 'story'], ['minute', 'minute'], ['sent'], ['aight', 'work', 'thanks'], ['yesterday', 'fireplace', 'icon'], [], ['mallika', 'sherawat', 'yesterday'], ['right', 'space', 'want', 'need', 'become', 'issue', 'suggest', 'definite', 'move', 'greece'], ['month'], ['arm', 'fine', 'cardiff'], ['morning', 'boytoy', 'yummy', 'lip', 'sexy', 'bun', 'think', 'crave', 'need'], ['rofl', 'name'], ['send', 'reminder', 'today', 'wonderful', 'weekend'], ['hella', 'money', 'want', 'nature', 'adventure', 'galileo'], ['babe', 'sorry', 'tonight', 'wan', 'na', 'tomorrow', 'call', 'love'], ['sorry', 'didntgive', 'bellearlier', 'hunny'], ['dare', 'luck'], ['money'], ['tunji', 'queen', 'abiola'], ['form', 'clark', 'utter', 'waste'], ['world', 'happiest', 'frnds', 'character', 'difference'], ['love', 'babe', 'sure', 'everything', 'alrite', 'idiot', 'girlie'], ['intro', 'pilate'], ['hair', 'cream'], ['dont', 'support', 'thnk', 'think', 'play'], [], ['uncle', 'timi', 'help', 'clearing', 'car'], ['play', 'door'], ['kanji', 'dont', 'anything'], ['year', 'mile'], ['fact', 'think', 'armand', 'build', 'tolerance', 'shit', 'smoke', 'hit'], ['work'], ['taxt', 'massage', 'argh', 'lool'], ['sorry', 'stash', 'night', 'pick', 'sunday'], ['havent', 'stuck', 'orchard', 'dinner', 'tonight'], ['anything', 'home', 'dinner'], ['slave', 'want', 'picture', 'today', 'bright', 'light', 'cell', 'phone', 'bright', 'light'], ['okay', 'call', 'uncle', 'john', 'thing', 'nigeria', 'dollar', 'year', 'sent', 'strain', 'plan', 'dime', 'dime', 'anything', 'something'], ['aight', 'roommate'], ['dont', 'search', 'love', 'love', 'thats', 'love', 'bcoz', 'dont', 'force', 'fall', 'smeone', 'hold', 'bslvyl'], ['program'], ['cant', 'laptop', 'matric', 'card'], ['noise'], ['need'], ['prob', 'time'], ['home'], ['elaine', 'today', 'meeting'], ['tuesday', 'night'], ['money'], ['hello', 'week', 'fancy', 'drink', 'something'], [], ['break', 'paranoid', 'fuck', 'tonight'], ['mobile'], ['pract', 'lesson', 'flung', 'advance', 'haha', 'time'], ['lesson', 'liao'], ['dear', 'message', 'recharge'], [], ['call', 'mumhas', 'beendropping', 'wine', 'theplace', 'adress'], [], ['fact', 'thrown', 'wind', 'bandage', 'shit', 'arm', 'minute'], ['joanna', 'thru', 'friend', 'photo', 'stuff', 'myspace', 'year'], ['need', 'receipt', 'please', 'tell', 'number', 'ring'], ['laptop', 'infra', 'fast'], ['aight', 'call'], ['sickness', 'thing', 'round', 'hope', 'feel'], ['sapna', 'aunty', 'manege', 'hogidhe', 'chinnu', 'swalpa', 'agidhane'], ['argh', 'spotty', 'thing', 'research', 'province', 'sterling', 'problem', 'place'], ['home'], ['shopping', 'paid'], ['buying'], ['urself'], ['bhaji', 'told', 'kallis', 'cricketer', 'sachin', 'world'], ['teacher', 'face', 'look', 'longer', 'darren'], [], ['yeah', 'chat', 'click', 'friend', 'list', 'list'], ['holy', 'living', 'christ'], ['yeah', 'rite'], ['shirt', 'thing', 'wear', 'nudist'], ['feel', 'john', 'lennon'], ['wisdom', 'teeth', 'hidden', 'mayb', 'need'], ['oredi'], ['stay', 'hour', 'sore'], [], ['sure', 'reach', 'destination'], ['hello', 'sort', 'town', 'dont', 'rush', 'home', 'nacho'], ['thought', 'bout', 'drink', 'spile', 'canal'], ['nope', 'paper', 'morn'], ['kilo', 'today'], ['bold', 'torch', 'torch', 'bold'], ['simple', 'enter', 'place'], ['world', 'fightng', 'dificult'], ['rajini'], ['hahaha', 'brain', 'dear'], ['multiply', 'number', 'count', 'decimal', 'point', 'division', 'push', 'decimal', 'place'], ['sent'], ['dunno', 'lido', 'time'], ['havent', 'want', 'yoga', 'call', 'book'], ['dear', 'care', 'home', 'love'], ['yeah', 'class'], ['mail'], ['ride', 'bike'], ['film', 'sorry'], ['right'], ['aiyo', 'become', 'lookin', 'oredi'], ['think', 'tantrum', 'yeah', 'point'], ['otside', 'morrow', 'maga'], ['beauty', 'life', 'hide', 'thousand', 'secret', 'wish', 'wonderful', 'life'], ['starve', 'pound'], ['airport', 'cant', 'anything', 'bathing'], ['sterm', 'voice', 'fine', 'sure', 'thing', 'hols'], [], ['didnt', 'anything'], ['gon', 'pick', 'burger', 'home', 'move', 'pain'], ['wait', 'wednesday'], ['haha', 'stoner'], ['carlos', 'sweet', 'time', 'patty', 'want', 'smoke', 'tell', 'haul'], ['nothing'], ['told', 'want', 'chennai'], ['work', 'workin', 'rite', 'orchard', 'place', 'liao'], ['play', 'computer', 'aiyah'], ['aftr', 'decimal', 'cleaning', 'house'], ['fren', 'meeting', 'fren'], ['cramp', 'sleep'], ['baaaaaaaabe', 'wake', 'miss', 'crave', 'need'], ['hook', 'mean', 'right'], ['mega', 'shop', 'asda', 'count', 'celebration', 'thats'], ['think', 'need', 'school', 'night', 'class', 'wednesday', 'test', 'friday'], ['tell', 'treat'], [], ['dont', 'dear'], ['foot'], ['think', 'think'], ['yeah', 'list', 'joanna', 'anti'], ['number', 'vivek'], ['smth', 'havent'], ['time', 'finish'], ['whats', 'house', 'beer'], ['night', 'port', 'step', 'liao'], ['friend', 'want', 'drive', 'someplace'], ['neva', 'worry', 'bout', 'truth', 'truth', 'lead', 'heart', 'unique', 'person', 'deserve', 'sleep', 'tight', 'morning'], ['house', 'maid', 'murderer', 'january', 'public', 'holiday', 'govt', 'instituitions', 'post', 'office', 'understand'], ['night', 'sleep'], ['brand'], ['size', 'elephant', 'tablet', 'shove'], ['uworld', 'site', 'buying', 'qbank', 'buying', 'self', 'assessment'], ['receive'], ['love', 'holiday', 'monday', 'dentist', 'hour'], ['hope', 'offer', 'money', 'need', 'month', 'approach', 'hurt', 'anyways', 'weekend'], ['kate', 'hope', 'tomorrow', 'bloody', 'babyjontet'], ['check', 'room', 'befor', 'activity'], ['gon', 'call', 'work', 'crazy', 'question'], [], ['meet', 'bugis'], ['night', 'wake', 'message', 'hope', 'smile', 'morning'], ['pete', 'phone', 'jenny', 'college', 'leanne'], ['today', 'love'], [], ['thanks', 'chikku'], ['call', 'message', 'call'], ['carlos', 'friend', 'weekend'], ['darling', 'week', 'need', 'coffee', 'tomo', 'time', 'week'], ['answer', 'text', 'confirm', 'deny'], ['shit'], ['textin', 'bout'], ['dude', 'telugu', 'thts'], ['congrats', 'home'], ['message'], ['plan', 'night'], ['vijay', 'talk', 'jaya'], ['describe', 'awake', 'noon'], ['stop', 'shop', 'parking', 'right', 'bawling', 'eye', 'feel', 'failure', 'everything', 'nobody', 'feel'], ['avatar', 'subtoitles'], ['admin', 'building', 'call'], ['island', 'head', 'towards', 'rock'], ['pandy', 'technology', 'today'], ['cool', 'text'], [], ['ticket', 'speak'], ['med', 'hour', 'pain', 'hope'], ['home', 'dunno', 'type', 'word'], ['sent', 'email'], ['bitch'], ['wan', 'na'], ['merry', 'christmas', 'babe', 'love', 'kiss'], ['careful', 'text', 'drive'], ['wiskey', 'brandy', 'beer', 'vodka', 'scotch', 'shampain', 'wine', 'kudi', 'yarasu', 'dhina', 'vaazhthukkal'], [], ['profile'], ['detail', 'thanks'], ['april', 'cant', 'wait'], ['cool', 'text'], ['crap', 'borin', 'boggy', 'boring', 'biatch', 'thanx', 'wait', 'time'], ['message', 'shopping'], ['blimey', 'exercise', 'yeah', 'kinda'], ['sorry', 'office'], ['lesson'], ['guessin', 'gon'], ['welp'], ['cheer', 'message', 'zogtorius', 'phone', 'text'], ['issue', 'california', 'okay', 'snow'], ['change', 'plan', 'liao'], ['prix'], [], ['kate', 'jackson', 'center', 'right'], ['wait', 'finish'], [], ['need', 'module', 'humanity', 'izzit', 'module'], ['awesome', 'deal', 'gate', 'charles', 'told', 'night', 'yeah'], ['excellent', 'wish', 'right'], ['cute', 'person'], ['call', 'thats'], ['lesson', 'night', 'need', 'meet', 'confirm'], ['think', 'send', 'love', 'bottom'], ['people', 'sight', 'remain', 'till', 'sight', 'maintain', 'till', 'life', 'end'], ['esplanade', 'mind', 'lift', 'today'], ['thinkin', 'malaria', 'relax', 'child', 'cant', 'handle', 'malaria', 'gastroenteritis', 'loss', 'temp', 'malaria', 'med', 'vomit', 'self', 'illness', 'mean', 'day', 'stop'], ['sorry', 'battery', 'yeah'], ['hank'], ['carlos', 'minute'], ['thing', 'hurt', 'think', 'laugh', 'delete', 'knew', 'fact', 'felt', 'hurt', 'show', 'messy', 'wednesday', 'problem', 'time', 'clean', 'choose', 'skype', 'picture', 'sleep', 'want', 'mind', 'thing', 'throw', 'laundry', 'friend', 'house', 'bra', 'strewn', 'pillow', 'floor', 'something'], ['washob', 'night', 'nickey', 'platt'], ['sure', 'night', 'menu', 'noon', 'menu'], ['call', 'landline', 'number', 'anna', 'nagar', 'afternoon'], ['okie', 'meet', 'bishan', 'bishan', 'today'], ['daddy', 'time', 'time', 'fetch'], ['fast', 'asleep', 'dear', 'care'], ['forgot', 'bring', 'babe'], ['butt'], ['home'], [], ['call', 'message', 'call'], ['paragon', 'havent'], ['oclock', 'mine', 'bash', 'plan'], ['paid', 'hasbro', 'august', 'jump', 'hoop', 'paid'], ['sense', 'carlos', 'guy', 'gon', 'smoke', 'pick', 'batch'], ['girl', 'selfish', 'thank', 'night'], [], ['awake', 'snow'], ['need', 'carry'], ['couple', 'pic', 'snow'], ['sound', 'something', 'someone', 'sayy'], ['family', 'merry', 'year', 'advance'], ['afternoon'], ['gon', 'month', 'cashed', 'left', 'case', 'week', 'cause', 'blog'], [], ['prob'], ['cant', 'pick', 'phone', 'right', 'send', 'message'], ['project', 'centre'], ['aight', 'closer', 'tyler', 'trip'], ['opinion', 'something'], ['babe', 'hope', 'shit', 'night', 'sleep', 'asleep', 'work', 'tonight', 'thou', 'upto', 'tonight'], ['hair', 'paragon', 'hair', 'sense', 'hair'], ['training', 'process'], ['afternoon', 'sunshine', 'dawn', 'breathe', 'smile', 'think', 'love'], ['room', 'house', 'house', 'messy', 'haha'], ['lunch'], ['half'], ['enjoy', 'home'], ['haiyoh', 'hamster'], ['anything', 'house'], ['vday', 'shirt', 'bottom', 'half'], ['lover', 'need'], ['takin', 'linear', 'algebra', 'today'], ['none'], ['miss', 'jeremiah', 'month'], ['yeah', 'right', 'bring', 'tape', 'measure'], ['chad', 'gymnastics', 'class', 'wan', 'na', 'site', 'christian', 'class'], ['tmrw', 'door'], ['home', 'father', 'power', 'frndship'], [], ['sorry', 'call'], ['christmas', 'occasion', 'reflection', 'value', 'desire', 'affection', 'tradition', 'ideal', 'christmas'], ['yeah', 'scrounge', 'something'], ['forgot', 'year', 'shower', 'sorry', 'phone'], ['ahhh', 'work', 'feel'], ['chat'], [], ['home', 'spell', 'season'], ['langport', 'town', 'tonight'], ['sent', 'part'], ['home'], ['letter'], ['call', 'cause', 'miss', 'wait', 'home', 'today'], ['random', 'lunch', 'break'], [], ['tell', 'friend', 'round'], ['aight', 'gon'], ['home'], ['alex', 'know', 'mids', 'south', 'tampa', 'think'], ['havent', 'topic', 'rite'], ['left', 'phone', 'home', 'message', 'hope', 'weekend'], ['love', 'brother', 'time', 'talk', 'grin', 'muhommad', 'penny', 'hello'], ['told', 'tell', 'hear', 'wont', 'tell', 'anything', 'brother', 'spoken'], ['increase', 'chance'], ['sorry', 'left', 'phone', 'silent', 'night', 'check'], [], ['sorry', 'vikky', 'olave', 'mandara', 'movie', 'kano', 'trishul', 'theatre', 'frnds'], ['dont', 'think', 'turn', 'opening'], ['arun', 'transfr'], ['heard', 'anything', 'text'], ['prin'], ['master'], ['thanx', 'school'], ['forgotten', 'couple', 'buck', 'send', 'tomorrow', 'love'], ['performance', 'award', 'month', 'month', 'period'], ['teeth', 'asap', 'care'], ['welcome', 'caught', 'broken'], ['wonder', 'silver'], ['dont', 'question', 'dont', 'mistake'], ['xmas', 'story', 'peace', 'xmas', 'love', 'xmas', 'miracle', 'jesus', 'month', 'wish', 'merry', 'xmas'], ['babe', 'reboot', 'photo'], ['information', 'ikea', 'cap', 'thought', 'left', 'mess', 'home', 'class', 'please', 'bullshit', 'want', 'listen'], ['cool', 'text', 'head'], ['number'], ['tablet', 'reaction', 'morning'], ['time', 'meet'], ['hair'], ['meeting', 'darren'], ['esplanade', 'home'], ['dont', 'message'], ['happend', 'tron'], ['home', 'pain', 'med', 'everything', 'fine'], ['thanx', 'care'], ['incident'], ['thank', 'sura', 'didnt', 'pleasure', 'company', 'hope', 'ultimatum', 'countin', 'aburo', 'enjoy'], ['wont', 'belive', 'jesus'], ['need', 'anything', 'salad', 'desert', 'something', 'beer'], ['project', 'meeting'], [], ['head', 'min'], ['send', 'copy', 'report'], ['shoot', 'load'], ['naal', 'eruku'], ['think', 'stop', 'hour', 'roommate', 'stock', 'trip'], ['meet', 'library'], ['call', 'text', 'help'], ['auto', 'centre', 'something', 'newport', 'road'], ['left', 'vague', 'inform', 'person', 'accounting', 'delayed', 'rent', 'discus', 'housing', 'agency', 'place', 'online', 'place'], ['gon', 'head', 'fifteen', 'minute'], ['dude', 'snake', 'raiden', 'buff'], ['salt', 'wound'], ['frnd', 'necesity', 'life', 'imagine', 'urself', 'witout', 'frnd', 'feel', 'colleg', 'cell', 'function', 'thnk', 'event', 'espe', 'dear', 'frnds', 'wthout', 'cant', 'takecare'], ['carlos', 'pick'], ['training'], ['thanks', 'appreciate'], ['place', 'point', 'culture', 'module'], ['march', 'call', 'sure', 'problem', 'capital', 'work', 'lady'], ['point', 'hangin', 'right', 'makin'], ['knew', 'break', 'time', 'woul', 'lead', 'miss', 'curfew', 'gon', 'gibe', 'midnight', 'movie', 'gon', 'need', 'home', 'need', 'getsleep', 'anything', 'need', 'training'], ['sure', 'think', 'want', 'drinkin', 'dancin', 'eatin', 'cinema'], ['awesome', 'gon', 'tonight'], ['internet', 'connection', 'send', 'thing', 'tomo'], ['hope', 'fill', 'abiola'], [], ['quality', 'aint', 'aint'], ['thanx'], ['wont', 'concentration', 'dear', 'mind', 'everything'], ['weekend'], ['today', 'forgot'], ['hello', 'darlin', 'college', 'finish', 'love', 'kate'], ['awww', 'sweet', 'think', 'something', 'time', 'tonight'], ['send', 'birthdate', 'month', 'year', 'life', 'partner', 'name', 'method', 'calculation', 'reply'], ['miwa', 'jiayin', 'karaoke'], ['problem', 'taxi', 'tomorrow', 'tuesday', 'tuesday', 'think', 'cinema'], ['finish', 'mushy'], ['thats', 'cant'], ['friend', 'told'], ['sound', 'haha', 'fast', 'liao'], ['watch', 'shrek'], ['beneath', 'pale', 'moon', 'light', 'someone', 'think', 'dream', 'goodnite', 'sweet', 'dream'], ['appt'], ['wait', 'need', 'feel'], ['anything', 'situation'], ['sorry', 'call', 'min'], ['gon', 'rimac', 'access'], ['sure', 'check', 'yahoo', 'email', 'sent', 'photo', 'yesterday'], ['basket', 'gettin', 'tonight'], ['purchase', 'stuff', 'today', 'mail', 'number'], ['drive', 'read', 'need', 'write'], [], ['shorter', 'lady', 'gaze', 'eye'], [], ['paper', 'today', 'morn'], ['excuse', 'city'], ['day', 'life', 'love'], ['anyone', 'commit', 'random', 'dude'], ['guess'], ['login', 'time', 'home'], ['thing', 'quick', 'question'], ['ffffffffff', 'alright', 'meet', 'sooner'], ['town', 'something', 'sound'], ['join', 'tomorrow'], ['sorry', 'start'], ['right', 'brah'], ['vote', 'wherever', 'heart', 'guide'], ['sound', 'finger', 'type'], ['friday', 'cant', 'wait', 'dunno', 'hell', 'gon', 'week', 'become', 'slob', 'wait'], ['cost', 'approx', 'month'], ['look', 'beautiful', 'intelligent', 'woman', 'worry'], ['dint', 'touch'], ['join'], ['frnds', 'classmate'], ['yeah', 'point', 'guess'], ['money', 'base'], ['end', 'cine', 'yogasana'], ['office', 'hospital'], ['please', 'topic', 'sorry'], ['darlin', 'london', 'driver', 'dent'], ['there', 'class', 'tmrw', 'right'], ['hmmm', 'want', 'change', 'field', 'wan', 'na', 'system', 'administrator', 'network', 'administrator'], ['thing', 'ape', 'fight', 'death', 'something', 'minute', 'thats'], ['yijue', 'hotmail'], ['ikea'], ['attracts', 'brothas'], ['dont', 'worry'], [], ['dizzamn', 'aight', 'suitemates'], [], ['call', 'lunch'], ['info', 'dont'], ['check', 'room', 'befor', 'activity'], ['anthony'], ['move', 'morphine'], ['sleep'], ['wear', 'sport', 'shoe'], ['thank', 'date', 'brothas'], ['nothing', 'dinner'], ['love', 'soul', 'fire', 'spark', 'flame', 'flame', 'xoxo'], ['please', 'dollar', 'loan'], ['prestige', 'problem'], ['need', 'wait', 'rain', 'stop'], ['dear', 'railway'], ['fine', 'fine'], ['sunny', 'california', 'weather', 'cool'], ['sorry', 'call'], ['thing', 'care', 'firsg'], [], ['ttyl'], ['haha', 'money', 'tuition', 'haha', 'slot', 'lesson'], [], ['derek', 'class'], [], ['house', 'maid', 'murderer', 'january', 'public', 'holiday', 'govt', 'instituitions', 'post', 'office', 'understand'], ['thing', 'everyso', 'panicks', 'start', 'goin', 'bout', 'bein'], ['walk', 'kill', 'care', 'stop'], ['schedule'], ['understood'], ['people', 'wear', 'shirt', 'jumper', 'belt', 'cribbs'], ['carlos', 'tonight', 'excuse'], ['dont', 'want', 'hear', 'anything'], ['thing', 'change', 'sentence', 'want', 'concentrate', 'career'], ['adsense'], ['airport', 'road', 'oredi', 'pple'], ['life', 'strict', 'teacher', 'bcoz', 'teacher', 'teach', 'lesson', 'conduct', 'exam', 'life', 'conduct', 'exam', 'teach', 'lesson', 'morning'], ['objection'], ['okay', 'sorry'], ['forgot', 'tell', 'smth', 'number', 'section', 'clearer'], ['thanx'], ['practice'], ['phone', 'phone', 'answer', 'people'], ['sent', 'buck'], ['game', 'want', 'walmart'], ['call'], ['decimal', 'lakh'], ['lmao', 'fish', 'memory', 'need'], ['account', 'identification', 'tomorrow'], ['loxahatchee', 'xmas', 'tree', 'burning', 'start', 'hour'], ['class', 'hour', 'sorry'], ['call'], ['machan', 'tomorrow', 'goodnight'], ['aiyo', 'thing', 'bathe'], ['sent', 'email', 'address', 'incomm', 'right'], [], ['home'], ['aight', 'time', 'want'], ['lunch', 'canteen'], ['head'], ['afternoon', 'anniversary', 'sweet', 'hope', 'find', 'content', 'prey', 'think', 'send', 'kiss', 'image', 'fond', 'souveniers', 'cougar'], ['cant', 'display', 'sub', 'ta', 'extract'], ['text', 'doesnt', 'reply'], ['table', 'tree'], ['blank', 'blank', 'blank'], ['yijue', 'meet'], ['luton', 'ring'], ['mahal', 'stop', 'decimal'], ['time'], ['thing', 'home'], ['aiyar', 'type', 'tell', 'call', 'scold', 'tell'], ['mind', 'dont'], ['tomarrow', 'morning', 'decimal', 'sathy', 'office', 'reply', 'home'], ['work', 'please', 'call'], ['fear', 'fainting', 'housework', 'quick', 'cuppa'], ['number'], ['hello', 'boytoy', 'geeee', 'miss', 'woke', 'wish', 'love'], ['catch', 'sell'], ['time', 'hostel'], ['need', 'smth'], ['cabin', 'bos', 'felt', 'askd', 'lunch', 'lunch', 'apartment'], ['write', 'mode', 'cover', 'screen', 'hand', 'press', 'hand'], ['meeting', 'call'], ['dont', 'hesitate', 'time', 'weakness', 'notebook', 'anything', 'sure', 'nothing'], ['thankyou', 'call', 'appreciate', 'care'], ['honeybee', 'sweetest', 'world', 'wait', 'havnt', 'person', 'reading', 'crack', 'joke'], ['training', 'tomorrow'], ['fine', 'hear', 'dear', 'year'], ['meant', 'crammed', 'people'], ['enjoy', 'urself'], ['message', 'food'], ['raviyog', 'peripheral', 'bhayandar', 'east'], ['call', 'sure', 'woken'], ['juliana', 'want'], ['wiskey', 'brandy', 'beer', 'vodka', 'scotch', 'shampain', 'wine', 'kudi', 'yarasu', 'dhina', 'vaazhthukkal'], [], ['shitload', 'diamond'], ['hour', 'half', 'apeshit'], ['today'], ['text', 'creepy', 'think', 'forgot'], ['call', 'landline', 'number', 'anna', 'nagar', 'afternoon'], ['hows', 'fone', 'charge', 'nitw', 'texd', 'hopeu', 'wkend', 'sure', 'lookin', 'ward'], ['nope', 'forgot', 'show', 'week'], [], [], ['hope', 'alright', 'babe', 'worry', 'felt', 'desparate', 'fake', 'love'], ['cheer', 'callin', 'babe', 'sozi', 'culdnt', 'talkbut', 'wannatell', 'detail', 'chat'], ['home'], ['yeah', 'role'], ['lay', 'rock', 'rock', 'envelope', 'envelope', 'paper', 'paper', 'word'], ['tomorrow', 'theatre', 'wherever', 'call', 'tell', 'tomorrow'], [], ['darlin', 'supose', 'worry', 'film', 'stuff', 'mate', 'babysit', 'call'], [], ['babe', 'friend', 'cancel', 'visit'], ['food'], ['home', 'please', 'call'], ['dont', 'understand', 'message'], ['wonder', 'phone', 'battery', 'tell', 'love', 'babe'], ['student', 'discount', 'book'], ['store', 'life', 'twat', 'orange', 'dungerees', 'punch'], ['please', 'kind', 'advice', 'please'], ['boye', 'phone', 'number'], ['enjoy', 'role'], ['meeting'], ['lmao', 'wont', 'hair'], ['train', 'morning', 'wine', 'sleep'], ['show', 'start', 'report'], ['nope', 'online'], ['ta', 'bathe', 'today'], ['nothing'], ['mean', 'send', 'liao', 'smth'], ['hope', 'work', 'doesnt', 'stressful'], ['please'], [], ['phone', 'mom', 'everyone', 'cancer', 'sister', 'stop', 'hurt', 'talk', 'home', 'love'], ['fuck', 'family', 'rhode', 'island', 'wherever', 'fuck', 'week', 'bong'], [], ['kalainar', 'office', 'thenampet'], ['yeah', 'forgot', 'shopping'], ['sent', 'price', 'mean'], ['tallent'], ['yeah', 'call', 'minute'], ['want', 'anything'], ['celebrate', 'family'], ['decimal', 'china', 'asia', 'holla'], ['tomorrow'], ['trip', 'week', 'audition', 'wednesday', 'think', 'drive', 'time'], [], ['panalam', 'post'], ['friendship', 'poem', 'dear', 'dear', 'hear', 'dont', 'fear', 'cheer', 'tear', 'dear'], ['hear', 'happenin'], ['cutie', 'wale', 'kinda', 'hill', 'shit', 'avent'], ['veggie', 'pizza'], ['princess', 'want', 'catch', 'hand'], ['training', 'show', 'tech', 'process', 'password', 'reset'], ['people', 'sight', 'remain', 'till', 'sight', 'maintain', 'till', 'life', 'end'], ['fast', 'suggest', 'rain'], ['rent'], [], ['jetton', 'forgot'], ['sign', 'track', 'record', 'reading', 'woman'], ['dear', 'birthday', 'gopalettan', 'planning', 'gift', 'welcome', 'please', 'contact', 'admin', 'team', 'detail'], ['dear', 'calicut'], ['audiitions', 'relocate'], ['problem', 'heart'], ['yeah', 'room', 'shoe', 'sorry'], ['aunty'], ['chachi', 'reach', 'kanagu'], ['teach', 'ship', 'car'], ['message', 'doctor', 'india', 'drink', 'fizz', 'contains', 'cancer'], ['shoot', 'doc', 'room'], ['slaaaaave', 'summon', 'time', 'wish'], ['enjoy', 'life', 'night'], [], ['sorry', 'text', 'drive', 'twenty'], ['lunch'], ['mean', 'computational', 'science', 'push'], ['cool', 'inch', 'hope'], ['toshiba', 'portege'], ['wait'], ['present'], ['sorry', 'stil', 'tobed', 'work'], ['love', 'wine', 'dine', 'lady'], ['think', 'chennai'], ['dice', 'class', 'thru', 'thanks', 'idea', 'time', 'tomorrow'], ['aight', 'chillin', 'friend', 'room', 'text'], ['test'], ['beautiful', 'truth', 'gravity', 'read', 'heart', 'feel', 'light', 'someone', 'feel', 'someone', 'leaf', 'night'], ['need'], ['friend', 'help', 'problem', 'suggestion', 'land', 'problem', 'help', 'forgt', 'problem'], ['sweet', 'moment', 'want', 'send', 'file', 'someone', 'yahoo', 'connection', 'suck', 'page', 'download', 'format', 'disc', 'tell', 'download', 'file', 'download', 'stuff', 'internet', 'help', 'prey', 'kiss'], ['right', 'sure', 'load', 'work', 'cough', 'today', 'shot', 'help'], ['thanx'], ['disturb', 'talk'], ['thanks', 'mind'], ['aiyar', 'disturb', 'liao', 'lot', 'cupboard'], ['buying', 'school', 'offer'], ['baaaaabe', 'miss', 'youuuuu', 'teach', 'class'], ['yeah', 'think', 'register', 'sure', 'help', 'sure'], ['form', 'clark', 'utter', 'waste'], ['home', 'look', 'timing', 'xuhui', 'learn', 'lesson'], ['office', 'whats', 'matter', 'call', 'break'], ['nighters', 'found', 'cheap', 'apologise', 'advance', 'sleep', 'isnt'], ['order', 'slipper'], ['sleep', 'wake', 'smth', 'lunch', 'today'], ['meeting'], ['buzzzz', 'grin', 'buzz', 'buzz', 'chest', 'buzz', 'cock', 'phone', 'vibrator', 'feel', 'shake'], ['call'], ['colour', 'colour', 'light', 'darker', 'hair'], ['need', 'lunch', 'maggi'], ['tell', 'drug', 'dealer', 'impatient'], ['birthday', 'today', 'wish', 'oscar'], ['work', 'place'], ['let', 'thank', 'please', 'drug', 'lot', 'water', 'beautiful'], ['afternoon', 'love', 'woke', 'online', 'hmmm', 'online', 'grin'], ['call'], ['call'], ['hurry', 'home', 'soup'], ['valentine', 'game', 'send', 'friend', 'answer', 'someone', 'love', 'ques', 'colour', 'suit'], ['sent', 'customer', 'service', 'account', 'executive', 'mail', 'detail', 'contact'], ['part', 'initiate', 'understand'], ['sorry', 'help'], ['think', 'player'], ['write', 'mode', 'cover', 'screen', 'hand', 'press', 'hand'], ['merry', 'christmas', 'annie'], ['superb', 'thought', 'grateful', 'dont', 'everything', 'want', 'mean', 'opportunity', 'happier', 'tomorrow', 'today'], ['castor', 'need', 'something'], ['realy', 'imat', 'mum', 'moro'], ['think', 'need', 'cash'], ['today', 'class'], ['sorry', 'work'], ['mittelschmertz', 'google', 'dont', 'paracetamol', 'dont', 'worry'], ['enufcredeit', 'tocall', 'ileave', 'house'], ['dunno', 'oredi'], ['shore', 'takin'], ['solve', 'case', 'found', 'decimal', 'afternoon', 'wife', 'police', 'police', 'everyone', 'wife', 'murder', 'place', 'cook', 'cooking', 'gardener', 'vegetable', 'house', 'maid', 'post', 'office', 'child', 'play', 'neighbour', 'marriage', 'police', 'murderer', 'reply', 'reason', 'brilliant'], ['call', 'cost', 'guess', 'isnt', 'miss', 'need', 'want', 'love'], ['aiyah', 'sorry', 'watch', 'watch', 'forgot', 'check', 'phone'], ['film', 'computer'], ['read', 'anything', 'judgemental', 'friday'], ['havent', 'woke', 'blur', 'blur', 'liao', 'cant'], ['awake'], ['message', 'congrats', 'dear', 'school', 'plan'], ['rest', 'price', 'bedrm'], ['thats', 'roast', 'drink'], ['sorry', 'league', 'people', 'dont', 'touch', 'mean', 'deal', 'friend', 'time', 'cost', 'week'], ['comingdown'], ['sure', 'alex', 'know', 'birthday', 'fifteen', 'minute'], [], [], ['time', 'one', 'bcoz'], ['robinson'], ['park', 'hold', 'hand', 'think', 'wana', 'feel', 'heaven', 'prince'], ['show', 'dust'], ['touch', 'barcelona', 'house'], ['shop', 'phone', 'number', 'paperwork', 'course', 'address', 'call', 'bos', 'tell'], ['weekend'], ['thing', 'dont', 'mistake'], [], ['combine'], ['confuses', 'thing'], ['afternoon', 'love', 'hope', 'lead', 'think', 'boytoy', 'send', 'passionate', 'kiss'], ['hope', 'result', 'intelligent', 'kind', 'start', 'practicum', 'link', 'ear', 'ttyl'], ['fuck', 'babe'], ['cancel', 'cheyyamo', 'money'], ['walmart', 'stay'], ['study', 'anyones', 'help', 'cant', 'need', 'study'], ['aight', 'alex', 'place'], [], ['wait', 'nothing', 'home', 'stuff', 'watch'], [], ['door'], ['random', 'roomate', 'campus'], ['want', 'drink', 'prefer', 'spend', 'money', 'nosh', 'mind'], ['yijue', 'textbook', 'intro', 'algorithm', 'edition'], ['question'], ['cant', 'house', 'right'], ['mall'], ['sweater', 'mango', 'size'], [], ['need', 'login', 'anything'], ['sorry', 'pain', 'meet', 'night', 'spent', 'afternoon', 'casualty', 'mean', 'stuff', 'moro', 'time', 'sheet', 'sorry'], ['battle', 'bang', 'kochi'], ['guy'], ['right', 'hillsborough'], ['pick'], ['lunch', 'online'], ['look', 'kappa', 'guy', 'number', 'phone', 'want', 'text'], ['min'], ['evry', 'emotion', 'word', 'evry', 'wish', 'prayrs', 'smile', 'world', 'othrwise', 'drop', 'tear', 'stay', 'morning'], ['sorry'], ['congrats'], ['home', 'tomorro'], ['prob'], ['dont', 'monkey', 'think', 'mind', 'friend', 'mine', 'sleep', 'annoyin'], ['office'], ['knew'], ['declare'], [], ['want', 'lesson', 'join'], ['feathery', 'bowa', 'something', 'guy'], ['woke', 'yeesh', 'fall', 'asleep'], ['shld', 'wana', 'lesson', 'haha', 'stretch'], ['pocked'], ['told', 'cancer'], ['call', 'afternoon', 'onwords', 'mtnl', 'service', 'problem', 'south', 'mumbai', 'hear', 'cann', 'listen'], ['sure', 'sick', 'time'], ['cinema', 'drink', 'appeal', 'tomo', 'thriller', 'director'], ['support', 'voice', 'process'], ['gon', 'home', 'want', 'talk', 'stuff', 'tonight', 'today'], ['mean', 'chase', 'watch', 'movie', 'want'], ['sorry', 'friday', 'hope', 'alternative', 'hope', 'term'], ['school', 'tomorrow', 'drive', 'inch', 'snow'], ['remains', 'amongst', 'bros'], ['yeah', 'probs', 'night', 'speak'], ['haha', 'fast', 'weight', 'month', 'effect', 'aust', 'weight'], ['dude', 'buff', 'wind'], ['howz', 'girl', 'rang', 'india'], ['lazy', 'type', 'forgot', 'lect'], ['send', 'address'], ['need', 'engin', 'art', 'today'], ['hope'], ['send', 'resume'], ['pick'], ['oooh', 'ridden'], ['rude', 'campus'], ['movie', 'theatre', 'watch', 'movie'], ['sorry', 'roommate'], ['call'], ['deus', 'game', 'comin'], ['anytime'], ['wonder', 'world', 'style', 'smile', 'personality', 'nature', 'friendship', 'morning', 'dear'], [], ['call', 'time', 'tell'], ['sure', 'neighbor', 'didnt', 'pick'], ['yetunde', 'sent', 'money', 'sent', 'text', 'bother', 'dont', 'involve', 'anything', 'anything', 'place', 'apologise']]\n"
          ]
        }
      ],
      "source": [
        "def split(j):\n",
        "    le\n",
        "    b=j.split(' ')mma= WordNetLemmatizer()\n",
        "    j=re.sub('[^a-zA-Z]',' ',j.lower())\n",
        "    j=re.sub(r'\\b\\w{1,3}\\b',' ',j.lower())\n",
        "    j=re.sub(r'nbsp',' ',j.lower())\n",
        "    j = j.replace('\\n','')\n",
        "    b=' '.join(b).split()\n",
        "    a=list()\n",
        "    stop_words = set(stopwords.words('english'))\n",
        "    for item in b:\n",
        "        a.append([lemma.lemmatize(word) for word,tag in nltk.pos_tag(nltk.word_tokenize(item)) if (tag in ('NN','NNS','NNP','NNPS') and word not in stop_words)])\n",
        "    a=[x for x in a if x]\n",
        "\n",
        "    if(len(a)!=0):\n",
        "        a=reduce(add,a)\n",
        "    return a\n",
        "lt=list()\n",
        "for i in range(len(df_filtered)):\n",
        "    lt.append(split(df_filtered.iloc[i][\"v2\"]))\n",
        "print(lt)\n"
      ]
    },
    {
      "cell_type": "markdown",
      "metadata": {
        "id": "nJTzin4VV2mU"
      },
      "source": [
        "### Frequencies of one item sets are calculated."
      ]
    },
    {
      "cell_type": "code",
      "execution_count": null,
      "metadata": {
        "scrolled": true,
        "id": "AVHTlBzlV2mV",
        "outputId": "71f42a5b-e250-41fd-c850-48e62f4f2720"
      },
      "outputs": [
        {
          "name": "stdout",
          "output_type": "stream",
          "text": [
            "Counter({'call': 73, 'time': 68, 'need': 58, 'love': 54, 'sorry': 51, 'home': 50, 'want': 47, 'think': 41, 'hope': 39, 'today': 38, 'dont': 34, 'night': 33, 'yeah': 32, 'dear': 32, 'morning': 32, 'phone': 31, 'anything': 31, 'text': 29, 'work': 28, 'friend': 28, 'send': 27, 'thing': 27, 'tomorrow': 26, 'sent': 25, 'wait': 24, 'please': 24, 'sure': 23, 'something': 23, 'tell': 23, 'feel': 22, 'message': 22, 'life': 21, 'number': 21, 'right': 21, 'gon': 20, 'babe': 20, 'cant': 20, 'miss': 19, 'haha': 19, 'mean': 19, 'week': 19, 'thanks': 18, 'sleep': 18, 'place': 18, 'meet': 17, 'hour': 17, 'money': 17, 'tonight': 16, 'thats': 16, 'wish': 15, 'thought': 15, 'told': 15, 'pick': 15, 'shit': 14, 'lunch': 14, 'finish': 14, 'person': 14, 'year': 14, 'care': 14, 'liao': 14, 'month': 13, 'dinner': 13, 'talk': 13, 'problem': 13, 'word': 13, 'office': 13, 'class': 13, 'house': 13, 'aight': 13, 'look': 12, 'thank': 12, 'wont': 12, 'people': 12, 'worry': 12, 'hello': 12, 'help': 12, 'decimal': 12, 'afternoon': 12, 'forgot': 12, 'lesson': 12, 'watch': 11, 'didnt': 11, 'nothing': 11, 'everything': 11, 'dunno': 11, 'room': 11, 'girl': 11, 'check': 11, 'minute': 11, 'enjoy': 11, 'fine': 10, 'thanx': 10, 'heart': 10, 'stuff': 10, 'drink': 10, 'smile': 10, 'weekend': 10, 'stop': 10, 'play': 10, 'someone': 9, 'school': 9, 'cool': 9, 'havent': 9, 'reply': 9, 'sweet': 9, 'hear': 9, 'show': 9, 'meeting': 9, 'plan': 9, 'hair': 8, 'light': 8, 'okay': 8, 'pain': 8, 'felt': 8, 'start': 8, 'yesterday': 8, 'guess': 8, 'name': 8, 'kiss': 8, 'carlos': 8, 'sound': 8, 'mail': 8, 'mind': 8, 'princess': 7, 'prob': 7, 'family': 7, 'online': 7, 'darlin': 7, 'mrng': 7, 'na': 7, 'wan': 7, 'tomo': 7, 'touch': 7, 'book': 7, 'everyone': 7, 'head': 7, 'hand': 7, 'drive': 7, 'fuck': 6, 'town': 6, 'hurt': 6, 'cost': 6, 'beautiful': 6, 'read': 6, 'leaf': 6, 'join': 6, 'day': 6, 'game': 6, 'part': 6, 'shopping': 6, 'merry': 6, 'fast': 6, 'bring': 6, 'sister': 6, 'post': 6, 'blue': 6, 'smth': 6, 'test': 6, 'left': 6, 'heard': 6, 'bout': 6, 'awesome': 6, 'dude': 6, 'email': 6, 'point': 6, 'face': 6, 'doesnt': 6, 'answer': 6, 'question': 6, 'friday': 6, 'guy': 6, 'understand': 6, 'wine': 6, 'world': 6, 'train': 5, 'power': 5, 'drug': 5, 'search': 5, 'bslvyl': 5, 'found': 5, 'rite': 5, 'kind': 5, 'story': 5, 'wake': 5, 'sort': 5, 'contact': 5, 'know': 5, 'nope': 5, 'reading': 5, 'till': 5, 'exam': 5, 'move': 5, 'idea': 5, 'advance': 5, 'college': 5, 'sunny': 5, 'stay': 5, 'copy': 5, 'press': 5, 'case': 5, 'baby': 5, 'nobody': 5, 'ring': 5, 'food': 5, 'listen': 5, 'end': 5, 'chennai': 5, 'bcoz': 5, 'lot': 5, 'wonderful': 5, 'dream': 5, 'alright': 5, 'wife': 5, 'speak': 5, 'detail': 5, 'type': 5, 'shop': 5, 'woke': 5, 'cheer': 5, 'min': 5, 'oredi': 5, 'frnds': 5, 'movie': 5, 'training': 5, 'okie': 4, 'goin': 4, 'doin': 4, 'darren': 4, 'mayb': 4, 'everybody': 4, 'whats': 4, 'company': 4, 'laptop': 4, 'smoke': 4, 'joke': 4, 'date': 4, 'bath': 4, 'birthday': 4, 'ttyl': 4, 'slave': 4, 'treat': 4, 'noon': 4, 'cold': 4, 'ta': 4, 'frens': 4, 'urself': 4, 'cause': 4, 'med': 4, 'couple': 4, 'grin': 4, 'sexy': 4, 'holiday': 4, 'tuesday': 4, 'cover': 4, 'ray': 4, 'wana': 4, 'askd': 4, 'door': 4, 'offer': 4, 'sick': 4, 'change': 4, 'happiness': 4, 'lift': 4, 'uncle': 4, 'pic': 4, 'march': 4, 'friendship': 4, 'project': 4, 'sunday': 4, 'welcome': 4, 'load': 4, 'process': 4, 'kano': 4, 'deal': 4, 'visit': 4, 'lead': 4, 'valentine': 4, 'awake': 4, 'teach': 4, 'murderer': 4, 'maid': 4, 'child': 4, 'frnd': 4, 'disturb': 4, 'christmas': 4, 'voice': 4, 'drop': 4, 'hows': 4, 'abiola': 4, 'account': 4, 'south': 4, 'hold': 4, 'boytoy': 4, 'roommate': 4, 'knew': 4, 'yijue': 4, 'yoga': 4, 'park': 4, 'paper': 4, 'rock': 4, 'theatre': 4, 'buying': 4, 'brother': 4, 'kate': 4, 'wonder': 4, 'half': 4, 'trip': 4, 'address': 4, 'break': 4, 'wednesday': 4, 'beer': 4, 'snow': 4, 'chance': 3, 'library': 3, 'hungry': 3, 'derek': 3, 'howz': 3, 'truth': 3, 'one': 3, 'rain': 3, 'push': 3, 'regard': 3, 'convey': 3, 'aiyo': 3, 'situation': 3, 'pete': 3, 'meant': 3, 'draw': 3, 'party': 3, 'study': 3, 'pizza': 3, 'weather': 3, 'tyler': 3, 'present': 3, 'holla': 3, 'bun': 3, 'parent': 3, 'bos': 3, 'apartment': 3, 'request': 3, 'callertune': 3, 'caller': 3, 'lect': 3, 'coffee': 3, 'hiya': 3, 'alrite': 3, 'customer': 3, 'laugh': 3, 'lmao': 3, 'age': 3, 'mate': 3, 'road': 3, 'source': 3, 'crave': 3, 'centre': 3, 'ticket': 3, 'appreciate': 3, 'fill': 3, 'goodnite': 3, 'dare': 3, 'anybody': 3, 'april': 3, 'tuition': 3, 'reason': 3, 'measure': 3, 'opinion': 3, 'catch': 3, 'rest': 3, 'moment': 3, 'aathi': 3, 'advice': 3, 'cardiff': 3, 'download': 3, 'support': 3, 'blessing': 3, 'eye': 3, 'india': 3, 'pleasure': 3, 'rent': 3, 'woman': 3, 'chikku': 3, 'walk': 3, 'pilate': 3, 'intro': 3, 'aunty': 3, 'hmmm': 3, 'turn': 3, 'price': 3, 'relax': 3, 'mine': 3, 'tear': 3, 'experience': 3, 'crazy': 3, 'list': 3, 'water': 3, 'orchard': 3, 'walmart': 3, 'self': 3, 'confirm': 3, 'finger': 3, 'waste': 3, 'connection': 3, 'sense': 3, 'fifteen': 3, 'excuse': 3, 'wind': 3, 'bathe': 3, 'xmas': 3, 'mistake': 3, 'thnk': 3, 'thru': 3, 'role': 3, 'befor': 3, 'campus': 3, 'become': 3, 'fact': 3, 'photo': 3, 'chat': 3, 'shirt': 3, 'wear': 3, 'film': 3, 'congrats': 3, 'asleep': 3, 'random': 3, 'alex': 3, 'lady': 3, 'cinema': 3, 'write': 3, 'wherever': 3, 'cancer': 3, 'father': 2, 'frndship': 2, 'spent': 2, 'hella': 2, 'yogasana': 2, 'rush': 2, 'bitch': 2, 'annie': 2, 'taylor': 2, 'affair': 2, 'responsibility': 2, 'shitload': 2, 'morow': 2, 'gravity': 2, 'research': 2, 'menu': 2, 'argument': 2, 'weight': 2, 'warm': 2, 'trust': 2, 'track': 2, 'dint': 2, 'seem': 2, 'oops': 2, 'leona': 2, 'correct': 2, 'auto': 2, 'wats': 2, 'tape': 2, 'kick': 2, 'hospital': 2, 'morphine': 2, 'figure': 2, 'suppose': 2, 'incident': 2, 'kept': 2, 'pas': 2, 'cabin': 2, 'store': 2, 'foot': 2, 'fren': 2, 'restaurant': 2, 'idiot': 2, 'cash': 2, 'hurry': 2, 'promise': 2, 'thts': 2, 'gift': 2, 'appt': 2, 'hook': 2, 'urgent': 2, 'shortage': 2, 'arng': 2, 'lac': 2, 'vomit': 2, 'welp': 2, 'saturday': 2, 'player': 2, 'course': 2, 'juan': 2, 'charles': 2, 'behave': 2, 'moon': 2, 'beneath': 2, 'pale': 2, 'meaning': 2, 'grahmbell': 2, 'girlfrnd': 2, 'telphone': 2, 'margaret': 2, 'phne': 2, 'pussy': 2, 'vettam': 2, 'nurungu': 2, 'minnaminunginte': 2, 'melle': 2, 'kid': 2, 'comedy': 2, 'woken': 2, 'arun': 2, 'birthdate': 2, 'secret': 2, 'fight': 2, 'vikky': 2, 'tomarrow': 2, 'yummy': 2, 'gardener': 2, 'vegetable': 2, 'marriage': 2, 'murder': 2, 'police': 2, 'cooking': 2, 'cook': 2, 'brilliant': 2, 'solve': 2, 'neighbour': 2, 'spend': 2, 'cute': 2, 'clearing': 2, 'let': 2, 'shore': 2, 'sooner': 2, 'asap': 2, 'comin': 2, 'anyone': 2, 'style': 2, 'accept': 2, 'makin': 2, 'cooky': 2, 'stretch': 2, 'mobile': 2, 'cann': 2, 'ignore': 2, 'effect': 2, 'record': 2, 'batch': 2, 'deus': 2, 'longer': 2, 'google': 2, 'armand': 2, 'vivek': 2, 'thangam': 2, 'city': 2, 'match': 2, 'hell': 2, 'division': 2, 'dirty': 2, 'fran': 2, 'bang': 2, 'ebay': 2, 'past': 2, 'askin': 2, 'charge': 2, 'option': 2, 'bright': 2, 'neva': 2, 'aftr': 2, 'chest': 2, 'mile': 2, 'minimum': 2, 'nigeria': 2, 'fone': 2, 'jenny': 2, 'sura': 2, 'ultimatum': 2, 'countin': 2, 'aburo': 2, 'haiz': 2, 'opportunity': 2, 'beauty': 2, 'anot': 2, 'tahan': 2, 'bill': 2, 'suck': 2, 'cheap': 2, 'fire': 2, 'tech': 2, 'period': 2, 'envelope': 2, 'lay': 2, 'sake': 2, 'student': 2, 'kallis': 2, 'guide': 2, 'content': 2, 'arrange': 2, 'izzit': 2, 'bother': 2, 'escape': 2, 'fave': 2, 'radio': 2, 'mom': 2, 'soup': 2, 'london': 2, 'imma': 2, 'boring': 2, 'cine': 2, 'loan': 2, 'rofl': 2, 'bugis': 2, 'neighbor': 2, 'east': 2, 'desert': 2, 'click': 2, 'delete': 2, 'msg': 2, 'blank': 2, 'timing': 2, 'mood': 2, 'pple': 2, 'fish': 2, 'eatin': 2, 'bold': 2, 'card': 2, 'cleaning': 2, 'network': 2, 'bathing': 2, 'bedroom': 2, 'asks': 2, 'ride': 2, 'wkend': 2, 'twenty': 2, 'massage': 2, 'realy': 2, 'orange': 2, 'password': 2, 'information': 2, 'lover': 2, 'workin': 2, 'rang': 2, 'morrow': 2, 'value': 2, 'vijay': 2, 'kappa': 2, 'sell': 2, 'planning': 2, 'fancy': 2, 'confuses': 2, 'anti': 2, 'towards': 2, 'opening': 2, 'suggest': 2, 'issue': 2, 'arm': 2, 'nature': 2, 'utter': 2, 'clark': 2, 'form': 2, 'car': 2, 'argh': 2, 'cell': 2, 'picture': 2, 'dollar': 2, 'john': 2, 'fall': 2, 'joanna': 2, 'round': 2, 'paid': 2, 'teacher': 2, 'teeth': 2, 'reach': 2, 'morn': 2, 'count': 2, 'lookin': 2, 'airport': 2, 'computer': 2, 'aiyah': 2, 'public': 2, 'govt': 2, 'instituitions': 2, 'january': 2, 'tablet': 2, 'size': 2, 'site': 2, 'activity': 2, 'admin': 2, 'island': 2, 'brandy': 2, 'dhina': 2, 'vodka': 2, 'kudi': 2, 'vaazhthukkal': 2, 'yarasu': 2, 'shampain': 2, 'scotch': 2, 'wiskey': 2, 'kinda': 2, 'california': 2, 'module': 2, 'bottom': 2, 'remain': 2, 'sight': 2, 'maintain': 2, 'esplanade': 2, 'battery': 2, 'messy': 2, 'nagar': 2, 'anna': 2, 'landline': 2, 'paragon': 2, 'takin': 2, 'tmrw': 2, 'topic': 2, 'buck': 2, 'jesus': 2, 'ikea': 2, 'report': 2, 'shoot': 2, 'buff': 2, 'internet': 2, 'yahoo': 2, 'login': 2, 'quick': 2, 'intelligent': 2, 'brothas': 2, 'shoe': 2, 'tree': 2, 'prey': 2, 'aiyar': 2, 'fear': 2, 'mode': 2, 'screen': 2, 'cancel': 2, 'inch': 2, 'apologise': 2, 'isnt': 2, 'colour': 2, 'service': 2, 'moro': 2, 'northampton': 1, 'afraid': 1, 'wesley': 1, 'arnt': 1, 'xxxxxxxxxxxxxx': 1, 'plane': 1, 'aaooooright': 1, 'thkin': 1, 'parco': 1, 'buffet': 1, 'grave': 1, 'tease': 1, 'blowing': 1, 'sale': 1, 'pierre': 1, 'cardin': 1, 'grasp': 1, 'booty': 1, 'speed': 1, 'mornin': 1, 'thanku': 1, 'pookie': 1, 'poop': 1, 'ogunrinde': 1, 'score': 1, 'application': 1, 'sophas': 1, 'faggot': 1, 'bomb': 1, 'pump': 1, 'petrol': 1, 'semi': 1, 'clarification': 1, 'underdtand': 1, 'happens': 1, 'edge': 1, 'milk': 1, 'magic': 1, 'lighter': 1, 'tessy': 1, 'nimya': 1, 'favor': 1, 'forget': 1, 'shijas': 1, 'shell': 1, 'sathya': 1, 'decide': 1, 'travel': 1, 'hardest': 1, 'defo': 1, 'lekdog': 1, 'shitin': 1, 'million': 1, 'feelin': 1, 'wuld': 1, 'apology': 1, 'nbme': 1, 'harder': 1, 'dobby': 1, 'bowl': 1, 'hardcore': 1, 'checkboxes': 1, 'custom': 1, 'cheese': 1, 'gumby': 1, 'diwali': 1, 'complexity': 1, 'cali': 1, 'tax': 1, 'plumber': 1, 'borrow': 1, 'wrench': 1, 'resend': 1, 'jordan': 1, 'possession': 1, 'win': 1, 'loses': 1, 'argue': 1, 'theory': 1, 'careless': 1, 'loosu': 1, 'prescribed': 1, 'fedex': 1, 'payment': 1, 'meatball': 1, 'loverboy': 1, 'adore': 1, 'ofice': 1, 'duffer': 1, 'becoz': 1, 'september': 1, 'lousy': 1, 'dignity': 1, 'gentleman': 1, 'respect': 1, 'recovery': 1, 'cooped': 1, 'maangalyam': 1, 'alaipayuthe': 1, 'darkness': 1, 'motivate': 1, 'stomp': 1, 'pout': 1, 'needy': 1, 'suntec': 1, 'dearer': 1, 'earth': 1, 'defeat': 1, 'bear': 1, 'courage': 1, 'drove': 1, 'area': 1, 'gloucesterroad': 1, 'denis': 1, 'mina': 1, 'finance': 1, 'hypotheticalhuagauahahuagahyuhagga': 1, 'helpful': 1, 'pretend': 1, 'jack': 1, 'response': 1, 'snogs': 1, 'signal': 1, 'hug': 1, 'born': 1, 'piss': 1, 'allday': 1, 'heehee': 1, 'funny': 1, 'shhhhh': 1, 'nitros': 1, 'crash': 1, 'human': 1, 'bird': 1, 'environment': 1, 'terrific': 1, 'checkin': 1, 'cousin': 1, 'fault': 1, 'whenever': 1, 'scool': 1, 'lobby': 1, 'window': 1, 'ahmad': 1, 'hallaq': 1, 'saeed': 1, 'nuerologist': 1, 'newquay': 1, 'talkin': 1, 'postcard': 1, 'pray': 1, 'smoking': 1, 'brum': 1, 'hitter': 1, 'thirunelvali': 1, 'tackle': 1, 'reserve': 1, 'tirunelvali': 1, 'onwards': 1, 'favour': 1, 'interview': 1, 'mokka': 1, 'everytime': 1, 'remembrs': 1, 'forgets': 1, 'sorta': 1, 'blown': 1, 'weed': 1, 'auntie': 1, 'huai': 1, 'sacrifice': 1, 'interest': 1, 'reassurance': 1, 'calm': 1, 'grinder': 1, 'perfect': 1, 'bari': 1, 'yorge': 1, 'ertini': 1, 'hudgi': 1, 'pataistha': 1, 'habit': 1, 'butting': 1, 'freedom': 1, 'chief': 1, 'royal': 1, 'bell': 1, 'june': 1, 'prepare': 1, 'chip': 1, 'tour': 1, 'sofa': 1, 'sugar': 1, 'partnership': 1, 'ahhhh': 1, 'marrge': 1, 'ambrith': 1, 'remembr': 1, 'madurai': 1, 'publish': 1, 'certificate': 1, 'vitamin': 1, 'wenever': 1, 'helloooo': 1, 'steak': 1, 'hungover': 1, 'grandma': 1, 'payasam': 1, 'brings': 1, 'rinu': 1, 'court': 1, 'stand': 1, 'inconvenient': 1, 'suzy': 1, 'jolt': 1, 'vewy': 1, 'tuth': 1, 'census': 1, 'category': 1, 'ethnicity': 1, 'sheffield': 1, 'reltnship': 1, 'dialogue': 1, 'wave': 1, 'frndsship': 1, 'footprint': 1, 'crab': 1, 'crisis': 1, 'minor': 1, 'rudi': 1, 'bristol': 1, 'sends': 1, 'drunk': 1, 'bus': 1, 'allo': 1, 'triumphed': 1, 'trade': 1, 'arul': 1, 'dehydration': 1, 'fluid': 1, 'prevent': 1, 'cozy': 1, 'unhappiness': 1, 'hollalater': 1, 'avalarr': 1, 'weirdy': 1, 'brownie': 1, 'bcaz': 1, 'irritation': 1, 'stability': 1, 'vibrant': 1, 'colourful': 1, 'tranquility': 1, 'marrow': 1, 'experiment': 1, 'boston': 1, 'agent': 1, 'river': 1, 'dance': 1, 'chess': 1, 'shah': 1, 'checkmate': 1, 'maat': 1, 'phrase': 1, 'persian': 1, 'king': 1, 'costume': 1, 'sweetie': 1, 'mystery': 1, 'reality': 1, 'website': 1, 'crowd': 1, 'honey': 1, 'florida': 1, 'university': 1, 'fee': 1, 'maaaan': 1, 'dorm': 1, 'stress': 1, 'converter': 1, 'video': 1, 'epsilon': 1, 'blood': 1, 'luvs': 1, 'marry': 1, 'relation': 1, 'grace': 1, 'endless': 1, 'boundary': 1, 'limit': 1, 'hsbc': 1, 'senthil': 1, 'held': 1, 'prasad': 1, 'vava': 1, 'umma': 1, 'soil': 1, 'series': 1, 'nowadays': 1, 'showroom': 1, 'painful': 1, 'recognises': 1, 'stripe': 1, 'skirt': 1, 'success': 1, 'hate': 1, 'evone': 1, 'adult': 1, 'courtroom': 1, 'twiggs': 1, 'affidavit': 1, 'warwick': 1, 'concert': 1, 'havn': 1, 'steve': 1, 'fellow': 1, 'run': 1, 'silence': 1, 'temales': 1, 'gang': 1, 'weightloss': 1, 'weird': 1, 'rule': 1, 'tamilnadu': 1, 'respectful': 1, 'salam': 1, 'pride': 1, 'qatar': 1, 'rakhesh': 1, 'alaikkum': 1, 'notice': 1, 'hence': 1, 'recession': 1, 'inconsiderate': 1, 'alot': 1, 'balance': 1, 'keralacircle': 1, 'prepaid': 1, 'transaction': 1, 'aiya': 1, 'admit': 1, 'madstini': 1, 'gold': 1, 'mutai': 1, 'hogli': 1, 'agalla': 1, 'kodstini': 1, 'eerulli': 1, 'kodthini': 1, 'necklace': 1, 'chain': 1, 'hogolo': 1, 'vibrate': 1, 'employee': 1, 'roller': 1, 'oxygen': 1, 'resort': 1, 'side': 1, 'flippin': 1, 'rightio': 1, 'arent': 1, 'mathe': 1, 'howda': 1, 'samachara': 1, 'jones': 1, 'brdget': 1, 'thinked': 1, 'baig': 1, 'swatch': 1, 'atlanta': 1, 'mcat': 1, 'shame': 1, 'gailxx': 1, 'gynae': 1, 'abdomen': 1, 'infection': 1, 'bone': 1, 'mmmmm': 1, 'immunisation': 1, 'cruisin': 1, 'rugby': 1, 'stayin': 1, 'careabout': 1, 'urmom': 1, 'iwas': 1, 'intend': 1, 'marine': 1, 'piece': 1, 'mesages': 1, 'hundred': 1, 'handsomes': 1, 'slide': 1, 'efficient': 1, 'model': 1, 'selflessness': 1, 'plenty': 1, 'beach': 1, 'tunde': 1, 'slice': 1, 'mark': 1, 'irene': 1, 'cres': 1, 'heat': 1, 'applyed': 1, 'proper': 1, 'reapply': 1, 'tallahassee': 1, 'supervisor': 1, 'station': 1, 'significance': 1, 'ashwini': 1, 'drivin': 1, 'weekday': 1, 'nail': 1, 'cafe': 1, 'followin': 1, 'body': 1, 'repair': 1, 'ovulation': 1, 'conclusion': 1, 'cthen': 1, 'reference': 1, 'enuff': 1, 'broke': 1, 'skye': 1, 'radiator': 1, 'hppnss': 1, 'sorrow': 1, 'forevr': 1, 'goodfriend': 1, 'caroline': 1, 'lamp': 1, 'toll': 1, 'maneesha': 1, 'spoke': 1, 'configure': 1, 'setting': 1, 'samus': 1, 'shoulder': 1, 'specialisation': 1, 'shakara': 1, 'labor': 1, 'beggar': 1, 'gal': 1, 'kavalan': 1, 'spatula': 1, 'moji': 1, 'behalf': 1, 'length': 1, 'speechless': 1, 'korean': 1, 'swell': 1, 'buyer': 1, 'retard': 1, 'weigh': 1, 'headin': 1, 'moan': 1, 'roger': 1, 'tortilla': 1, 'yummmm': 1, 'auction': 1, 'beta': 1, 'kaiez': 1, 'treatin': 1, 'treacle': 1, 'gim': 1, 'caveboy': 1, 'missin': 1, 'wahay': 1, 'clock': 1, 'restock': 1, 'basketball': 1, 'football': 1, 'outdoors': 1, 'zoom': 1, 'jazz': 1, 'stapati': 1, 'document': 1, 'hhahhaahahah': 1, 'leonardo': 1, 'priscilla': 1, 'desk': 1, 'mouse': 1, 'jason': 1, 'temper': 1, 'quote': 1, 'confidence': 1, 'ability': 1, 'weirdo': 1, 'gap': 1, 'flow': 1, 'aunt': 1, 'member': 1, 'developed': 1, 'shrink': 1, 'cyst': 1, 'others': 1, 'diddy': 1, 'toothpaste': 1, 'ffectionate': 1, 'ruthful': 1, 'ntimate': 1, 'deduct': 1, 'tension': 1, 'innocent': 1, 'cruel': 1, 'joker': 1, 'terror': 1, 'decent': 1, 'spare': 1, 'supply': 1, 'coast': 1, 'bleh': 1, 'stuffed': 1, 'math': 1, 'geoenvironmental': 1, 'implication': 1, 'chapel': 1, 'frontierville': 1, 'wedding': 1, 'continent': 1, 'refund': 1, 'evaluation': 1, 'wikipedia': 1, 'attend': 1, 'gibbs': 1, 'hussey': 1, 'mike': 1, 'permission': 1, 'lovin': 1, 'taste': 1, 'curry': 1, 'spy': 1, 'wildlife': 1, 'worzels': 1, 'wizzle': 1, 'sittin': 1, 'waitin': 1, 'breather': 1, 'fulfil': 1, 'buzy': 1, 'boyf': 1, 'exeter': 1, 'revision': 1, 'interviw': 1, 'return': 1, 'pressies': 1, 'sometext': 1, 'prometazine': 1, 'syrup': 1, 'feed': 1, 'decision': 1, 'latr': 1, 'cake': 1, 'minuts': 1, 'iouri': 1, 'blame': 1, 'god': 1, 'rounder': 1, 'tomeandsaid': 1, 'itwhichturnedinto': 1, 'flower': 1, 'picked': 1, 'dippeditinadew': 1, 'durham': 1, 'seat': 1, 'recognise': 1, 'chechi': 1, 'position': 1, 'westonzoyland': 1, 'purple': 1, 'yelow': 1, 'color': 1, 'brown': 1, 'pink': 1, 'thurs': 1, 'share': 1, 'threat': 1, 'protect': 1, 'rply': 1, 'enemy': 1, 'jstfrnd': 1, 'lvblefrnd': 1, 'lifpartnr': 1, 'belovd': 1, 'cutefrnd': 1, 'swtheart': 1, 'bstfrnd': 1, 'clos': 1, 'swan': 1, 'somethin': 1, 'multimedia': 1, 'favourite': 1, 'brisk': 1, 'continue': 1, 'surya': 1, 'pokkiri': 1, 'flip': 1, 'grab': 1, 'envy': 1, 'status': 1, 'update': 1, 'version': 1, 'community': 1, 'outreach': 1, 'greet': 1, 'occupy': 1, 'somtimes': 1, 'stone': 1, 'convincing': 1, 'nimbomsons': 1, 'panic': 1, 'allah': 1, 'membership': 1, 'varma': 1, 'insha': 1, 'kent': 1, 'vale': 1, 'bridge': 1, 'lager': 1, 'tall': 1, 'fix': 1, 'diff': 1, 'medicine': 1, 'ijust': 1, 'trouble': 1, 'laid': 1, 'airtel': 1, 'line': 1, 'prediction': 1, 'ammae': 1, 'groovy': 1, 'printer': 1, 'gota': 1, 'poker': 1, 'icon': 1, 'fireplace': 1, 'sherawat': 1, 'mallika': 1, 'definite': 1, 'greece': 1, 'space': 1, 'lip': 1, 'reminder': 1, 'adventure': 1, 'galileo': 1, 'hunny': 1, 'didntgive': 1, 'bellearlier': 1, 'luck': 1, 'tunji': 1, 'queen': 1, 'character': 1, 'difference': 1, 'happiest': 1, 'girlie': 1, 'cream': 1, 'timi': 1, 'kanji': 1, 'tolerance': 1, 'hit': 1, 'build': 1, 'lool': 1, 'taxt': 1, 'stash': 1, 'stuck': 1, 'dime': 1, 'strain': 1, 'force': 1, 'smeone': 1, 'program': 1, 'matric': 1, 'noise': 1, 'elaine': 1, 'paranoid': 1, 'pract': 1, 'flung': 1, 'recharge': 1, 'beendropping': 1, 'mumhas': 1, 'theplace': 1, 'adress': 1, 'bandage': 1, 'thrown': 1, 'myspace': 1, 'receipt': 1, 'infra': 1, 'sickness': 1, 'sapna': 1, 'chinnu': 1, 'manege': 1, 'swalpa': 1, 'agidhane': 1, 'hogidhe': 1, 'sterling': 1, 'spotty': 1, 'province': 1, 'sachin': 1, 'cricketer': 1, 'bhaji': 1, 'christ': 1, 'living': 1, 'holy': 1, 'nudist': 1, 'lennon': 1, 'hidden': 1, 'wisdom': 1, 'sore': 1, 'destination': 1, 'nacho': 1, 'canal': 1, 'spile': 1, 'kilo': 1, 'torch': 1, 'enter': 1, 'simple': 1, 'dificult': 1, 'fightng': 1, 'rajini': 1, 'hahaha': 1, 'brain': 1, 'multiply': 1, 'lido': 1, 'bike': 1, 'tantrum': 1, 'otside': 1, 'maga': 1, 'thousand': 1, 'hide': 1, 'starve': 1, 'pound': 1, 'sterm': 1, 'hols': 1, 'burger': 1, 'stoner': 1, 'haul': 1, 'patty': 1, 'cramp': 1, 'baaaaaaaabe': 1, 'mega': 1, 'asda': 1, 'celebration': 1, 'step': 1, 'port': 1, 'someplace': 1, 'deserve': 1, 'unique': 1, 'tight': 1, 'brand': 1, 'shove': 1, 'elephant': 1, 'assessment': 1, 'uworld': 1, 'qbank': 1, 'receive': 1, 'dentist': 1, 'monday': 1, 'anyways': 1, 'approach': 1, 'babyjontet': 1, 'bloody': 1, 'leanne': 1, 'darling': 1, 'deny': 1, 'textin': 1, 'telugu': 1, 'jaya': 1, 'describe': 1, 'bawling': 1, 'failure': 1, 'parking': 1, 'avatar': 1, 'subtoitles': 1, 'building': 1, 'pandy': 1, 'technology': 1, 'careful': 1, 'profile': 1, 'crap': 1, 'borin': 1, 'boggy': 1, 'biatch': 1, 'exercise': 1, 'blimey': 1, 'guessin': 1, 'zogtorius': 1, 'prix': 1, 'jackson': 1, 'center': 1, 'humanity': 1, 'gate': 1, 'excellent': 1, 'thinkin': 1, 'handle': 1, 'gastroenteritis': 1, 'loss': 1, 'illness': 1, 'malaria': 1, 'temp': 1, 'hank': 1, 'strewn': 1, 'floor': 1, 'choose': 1, 'throw': 1, 'skype': 1, 'pillow': 1, 'clean': 1, 'laundry': 1, 'bra': 1, 'platt': 1, 'washob': 1, 'nickey': 1, 'bishan': 1, 'daddy': 1, 'fetch': 1, 'butt': 1, 'oclock': 1, 'bash': 1, 'august': 1, 'jump': 1, 'hasbro': 1, 'hoop': 1, 'selfish': 1, 'carry': 1, 'sayy': 1, 'cashed': 1, 'blog': 1, 'closer': 1, 'thou': 1, 'upto': 1, 'dawn': 1, 'breathe': 1, 'sunshine': 1, 'haiyoh': 1, 'hamster': 1, 'vday': 1, 'linear': 1, 'algebra': 1, 'none': 1, 'jeremiah': 1, 'gymnastics': 1, 'christian': 1, 'chad': 1, 'tradition': 1, 'desire': 1, 'affection': 1, 'reflection': 1, 'occasion': 1, 'ideal': 1, 'scrounge': 1, 'shower': 1, 'ahhh': 1, 'season': 1, 'spell': 1, 'langport': 1, 'letter': 1, 'tampa': 1, 'mids': 1, 'penny': 1, 'muhommad': 1, 'spoken': 1, 'increase': 1, 'silent': 1, 'olave': 1, 'mandara': 1, 'trishul': 1, 'transfr': 1, 'prin': 1, 'master': 1, 'forgotten': 1, 'performance': 1, 'award': 1, 'broken': 1, 'caught': 1, 'silver': 1, 'miracle': 1, 'peace': 1, 'reboot': 1, 'cap': 1, 'mess': 1, 'bullshit': 1, 'reaction': 1, 'happend': 1, 'tron': 1, 'belive': 1, 'salad': 1, 'eruku': 1, 'naal': 1, 'stock': 1, 'newport': 1, 'vague': 1, 'housing': 1, 'inform': 1, 'agency': 1, 'accounting': 1, 'delayed': 1, 'discus': 1, 'raiden': 1, 'snake': 1, 'salt': 1, 'wound': 1, 'colleg': 1, 'necesity': 1, 'imagine': 1, 'espe': 1, 'wthout': 1, 'witout': 1, 'takecare': 1, 'event': 1, 'function': 1, 'culture': 1, 'capital': 1, 'hangin': 1, 'midnight': 1, 'woul': 1, 'getsleep': 1, 'gibe': 1, 'curfew': 1, 'dancin': 1, 'drinkin': 1, 'aint': 1, 'quality': 1, 'concentration': 1, 'awww': 1, 'method': 1, 'calculation': 1, 'partner': 1, 'karaoke': 1, 'miwa': 1, 'jiayin': 1, 'taxi': 1, 'mushy': 1, 'shrek': 1, 'access': 1, 'rimac': 1, 'basket': 1, 'gettin': 1, 'purchase': 1, 'gaze': 1, 'shorter': 1, 'commit': 1, 'ffffffffff': 1, 'brah': 1, 'vote': 1, 'slob': 1, 'approx': 1, 'classmate': 1, 'base': 1, 'dent': 1, 'driver': 1, 'there': 1, 'system': 1, 'administrator': 1, 'field': 1, 'ape': 1, 'death': 1, 'hotmail': 1, 'attracts': 1, 'suitemates': 1, 'dizzamn': 1, 'info': 1, 'anthony': 1, 'sport': 1, 'spark': 1, 'soul': 1, 'flame': 1, 'xoxo': 1, 'prestige': 1, 'railway': 1, 'firsg': 1, 'slot': 1, 'everyso': 1, 'bein': 1, 'panicks': 1, 'kill': 1, 'schedule': 1, 'understood': 1, 'cribbs': 1, 'jumper': 1, 'belt': 1, 'career': 1, 'sentence': 1, 'concentrate': 1, 'adsense': 1, 'conduct': 1, 'strict': 1, 'objection': 1, 'section': 1, 'clearer': 1, 'practice': 1, 'lakh': 1, 'memory': 1, 'identification': 1, 'burning': 1, 'loxahatchee': 1, 'machan': 1, 'goodnight': 1, 'incomm': 1, 'canteen': 1, 'find': 1, 'cougar': 1, 'fond': 1, 'anniversary': 1, 'souveniers': 1, 'image': 1, 'display': 1, 'extract': 1, 'sub': 1, 'table': 1, 'luton': 1, 'mahal': 1, 'scold': 1, 'sathy': 1, 'cuppa': 1, 'housework': 1, 'fainting': 1, 'geeee': 1, 'hostel': 1, 'weakness': 1, 'notebook': 1, 'hesitate': 1, 'thankyou': 1, 'honeybee': 1, 'crack': 1, 'sweetest': 1, 'havnt': 1, 'crammed': 1, 'raviyog': 1, 'bhayandar': 1, 'peripheral': 1, 'juliana': 1, 'diamond': 1, 'apeshit': 1, 'creepy': 1, 'ward': 1, 'texd': 1, 'nitw': 1, 'hopeu': 1, 'fake': 1, 'desparate': 1, 'talkbut': 1, 'sozi': 1, 'callin': 1, 'wannatell': 1, 'culdnt': 1, 'supose': 1, 'babysit': 1, 'discount': 1, 'punch': 1, 'twat': 1, 'dungerees': 1, 'boye': 1, 'stressful': 1, 'bong': 1, 'rhode': 1, 'kalainar': 1, 'thenampet': 1, 'tallent': 1, 'celebrate': 1, 'china': 1, 'asia': 1, 'audition': 1, 'panalam': 1, 'poem': 1, 'happenin': 1, 'avent': 1, 'wale': 1, 'cutie': 1, 'hill': 1, 'veggie': 1, 'reset': 1, 'jetton': 1, 'sign': 1, 'gopalettan': 1, 'team': 1, 'calicut': 1, 'audiitions': 1, 'relocate': 1, 'kanagu': 1, 'chachi': 1, 'ship': 1, 'contains': 1, 'doctor': 1, 'fizz': 1, 'doc': 1, 'summon': 1, 'slaaaaave': 1, 'computational': 1, 'science': 1, 'portege': 1, 'toshiba': 1, 'tobed': 1, 'stil': 1, 'dine': 1, 'dice': 1, 'chillin': 1, 'forgt': 1, 'suggestion': 1, 'land': 1, 'format': 1, 'file': 1, 'disc': 1, 'page': 1, 'shot': 1, 'cough': 1, 'cupboard': 1, 'youuuuu': 1, 'baaaaabe': 1, 'register': 1, 'xuhui': 1, 'learn': 1, 'matter': 1, 'nighters': 1, 'slipper': 1, 'order': 1, 'cock': 1, 'vibrator': 1, 'shake': 1, 'buzz': 1, 'buzzzz': 1, 'darker': 1, 'maggi': 1, 'impatient': 1, 'dealer': 1, 'oscar': 1, 'ques': 1, 'suit': 1, 'executive': 1, 'initiate': 1, 'superb': 1, 'grateful': 1, 'happier': 1, 'castor': 1, 'imat': 1, 'mum': 1, 'mittelschmertz': 1, 'paracetamol': 1, 'tocall': 1, 'ileave': 1, 'enufcredeit': 1, 'judgemental': 1, 'blur': 1, 'bedrm': 1, 'roast': 1, 'league': 1, 'comingdown': 1, 'robinson': 1, 'prince': 1, 'heaven': 1, 'dust': 1, 'barcelona': 1, 'paperwork': 1, 'combine': 1, 'passionate': 1, 'result': 1, 'ear': 1, 'link': 1, 'practicum': 1, 'cheyyamo': 1, 'anyones': 1, 'roomate': 1, 'nosh': 1, 'prefer': 1, 'algorithm': 1, 'textbook': 1, 'edition': 1, 'mall': 1, 'sweater': 1, 'mango': 1, 'casualty': 1, 'sheet': 1, 'battle': 1, 'kochi': 1, 'hillsborough': 1, 'emotion': 1, 'othrwise': 1, 'prayrs': 1, 'evry': 1, 'tomorro': 1, 'monkey': 1, 'annoyin': 1, 'declare': 1, 'feathery': 1, 'bowa': 1, 'yeesh': 1, 'shld': 1, 'pocked': 1, 'onwords': 1, 'mtnl': 1, 'mumbai': 1, 'director': 1, 'appeal': 1, 'thriller': 1, 'chase': 1, 'term': 1, 'alternative': 1, 'bros': 1, 'amongst': 1, 'remains': 1, 'probs': 1, 'aust': 1, 'lazy': 1, 'art': 1, 'engin': 1, 'resume': 1, 'oooh': 1, 'ridden': 1, 'rude': 1, 'anytime': 1, 'personality': 1, 'yetunde': 1, 'involve': 1})\n"
          ]
        }
      ],
      "source": [
        "st=[]\n",
        "for i in lt:\n",
        "    st.extend(set(i))\n",
        "#print(st)\n",
        "poscount=Counter(st)\n",
        "print(poscount)"
      ]
    },
    {
      "cell_type": "markdown",
      "metadata": {
        "id": "TFRYQcTbV2mV"
      },
      "source": [
        "### Using a minimum support alpha, the positive feature set is initiated."
      ]
    },
    {
      "cell_type": "code",
      "execution_count": null,
      "metadata": {
        "id": "QaTlkd7aV2mV"
      },
      "outputs": [],
      "source": [
        "def Positive_feature_count(poscount,alpha):\n",
        "    poscount = {key:val for key, val in poscount.items() if val > alpha}\n",
        "    return poscount"
      ]
    },
    {
      "cell_type": "code",
      "execution_count": null,
      "metadata": {
        "id": "_6XYnE6uV2mV"
      },
      "outputs": [],
      "source": [
        "Positive_f=Positive_feature_count(poscount,10)"
      ]
    },
    {
      "cell_type": "markdown",
      "metadata": {
        "id": "aLw4cUHxV2mV"
      },
      "source": [
        "### Positive feature set expansion is done by:\n",
        "### #1 Finding two itemsets in the unlabeled dataset (spam set + unused ham set).\n",
        "### #2 Filtered using the minimum support alpha.\n",
        "### #3 If any one item in an item set is present in positive feature set, the other one is also added to positive feature set."
      ]
    },
    {
      "cell_type": "code",
      "execution_count": null,
      "metadata": {
        "id": "08dZMt0jV2mV"
      },
      "outputs": [],
      "source": [
        "total=list(df[df['v1'] == \"spam\"]['v2'])+list(X_train['v2'])\n",
        "uli=[]\n",
        "for i in range(len(total)):\n",
        "    uli.append(split(total[i]))\n",
        "wct=[]\n",
        "for i in uli:\n",
        "    wct.extend(set(i))\n",
        "from collections import Counter\n",
        "uposcount=Counter(wct)"
      ]
    },
    {
      "cell_type": "code",
      "execution_count": null,
      "metadata": {
        "id": "gkl6UNzwV2mW"
      },
      "outputs": [],
      "source": [
        "uposcount = {key:val for key, val in uposcount.items() if val > 30}\n",
        "fet_con=list(uposcount.keys())"
      ]
    },
    {
      "cell_type": "code",
      "execution_count": null,
      "metadata": {
        "id": "SpSOl2v4V2mW"
      },
      "outputs": [],
      "source": [
        "dfObj = pd.DataFrame(0, columns = list(uposcount.keys()), index=list(uposcount.keys()))"
      ]
    },
    {
      "cell_type": "code",
      "execution_count": null,
      "metadata": {
        "scrolled": true,
        "id": "2mWdv3zDV2mW",
        "outputId": "95617369-128c-4190-e1a0-ebc2c9840758"
      },
      "outputs": [
        {
          "name": "stdout",
          "output_type": "stream",
          "text": [
            "         receive  rate  text  send  week  word  call  hour  prize  customer  \\\n",
            "receive        0     0     0     0     0     0     0     0      0         0   \n",
            "rate           7     0     0     0     0     0    25     0      0         0   \n",
            "text           2    11     0     1     0     0    38     1      0         0   \n",
            "send           1     1    11     0     0     0     6     0      0         3   \n",
            "week           1     1    13     4     0     0    11     0      5         1   \n",
            "...          ...   ...   ...   ...   ...   ...   ...   ...    ...       ...   \n",
            "feel           0     0     2     0     1     0     2     0      0         0   \n",
            "morning        0     0     1     1     0     0     5     1      0         0   \n",
            "told           0     0     0     0     1     0     2     0      0         0   \n",
            "gon            0     0     1     0     3     0     3     0      0         0   \n",
            "meeting        0     0     0     0     0     0    13     0      0         0   \n",
            "\n",
            "         ...  plan  anything  something  fine  sleep  feel  morning  told  \\\n",
            "receive  ...     0         0          0     0      0     0        0     0   \n",
            "rate     ...     0         0          0     0      0     0        0     0   \n",
            "text     ...     1         0          0     0      0     0        0     0   \n",
            "send     ...     0         1          3     0      0     0        0     0   \n",
            "week     ...     3         0          0     1      0     0        0     0   \n",
            "...      ...   ...       ...        ...   ...    ...   ...      ...   ...   \n",
            "feel     ...     0         0          0     1      0     0        2     0   \n",
            "morning  ...     0         0          0     0      0     1        0     0   \n",
            "told     ...     0         0          0     0      0     0        1     0   \n",
            "gon      ...     1         0          0     1      0     0        0     2   \n",
            "meeting  ...     0         0          0     0      0     0        0     0   \n",
            "\n",
            "         gon  meeting  \n",
            "receive    0        0  \n",
            "rate       0        0  \n",
            "text       1        0  \n",
            "send       0        0  \n",
            "week       0        0  \n",
            "...      ...      ...  \n",
            "feel       0        2  \n",
            "morning    0        0  \n",
            "told       0        0  \n",
            "gon        0        0  \n",
            "meeting    0        0  \n",
            "\n",
            "[110 rows x 110 columns]\n"
          ]
        }
      ],
      "source": [
        "for i in uli:\n",
        "    a=list(set(i))\n",
        "    if len(a)>1:\n",
        "        for j in range(0,len(a)-1):\n",
        "            for k in range(j+1,len(a)):\n",
        "                if a[j] in fet_con and a[k] in fet_con:\n",
        "                    dfObj[a[j]][a[k]]=dfObj[a[j]][a[k]]+1\n",
        "print(dfObj)"
      ]
    },
    {
      "cell_type": "code",
      "execution_count": null,
      "metadata": {
        "id": "CewXrE4lV2mW",
        "outputId": "474f339d-46b2-4ae6-ac59-ec2a2af6a40c"
      },
      "outputs": [
        {
          "name": "stdout",
          "output_type": "stream",
          "text": [
            "[['receive', 'rate', 7], ['receive', 'text', 2], ['receive', 'send', 1], ['receive', 'week', 1], ['receive', 'word', 1], ['receive', 'call', 16], ['receive', 'hour', 1], ['receive', 'prize', 1], ['receive', 'customer', 5], ['receive', 'claim', 15], ['receive', 'code', 5], ['receive', 'mobile', 5], ['receive', 'month', 0], ['receive', 'camera', 0], ['receive', 'day', 0], ['receive', 'cash', 5], ['receive', 'reply', 2], ['receive', 'cost', 4], ['receive', 'chance', 0], ['receive', 'urgent', 0], ['receive', 'pobox', 0], ['receive', 'message', 0], ['receive', 'miss', 0], ['receive', 'dont', 0], ['receive', 'thanks', 0], ['receive', 'please', 7], ['receive', 'nokia', 0], ['receive', 'tomorrow', 0], ['receive', 'year', 0], ['receive', 'stuff', 0], ['receive', 'guaranteed', 0], ['receive', 'service', 2], ['receive', 'draw', 1], ['receive', 'contact', 0], ['receive', 'show', 0], ['receive', 'holiday', 4], ['receive', 'account', 1], ['receive', 'landline', 0], ['receive', 'number', 9], ['receive', 'today', 7], ['receive', 'sent', 0], ['receive', 'tonight', 0], ['receive', 'want', 0], ['receive', 'chat', 2], ['receive', 'stop', 1], ['receive', 'friend', 1], ['receive', 'meet', 0], ['receive', 'start', 0], ['receive', 'someone', 1], ['receive', 'name', 3], ['receive', 'think', 0], ['receive', 'voucher', 0], ['receive', 'offer', 0], ['receive', 'min', 0], ['receive', 'video', 0], ['receive', 'phone', 0], ['receive', 'babe', 0], ['receive', 'tone', 0], ['receive', 'line', 2], ['receive', 'minute', 0], ['receive', 'land', 0], ['receive', 'half', 0], ['receive', 'help', 0], ['receive', 'heart', 0], ['receive', 'love', 0], ['receive', 'dear', 0], ['receive', 'yeah', 0], ['receive', 'hello', 0], ['receive', 'cool', 0], ['receive', 'work', 0], ['receive', 'night', 0], ['receive', 'thought', 0], ['receive', 'life', 0], ['receive', 'tell', 0], ['receive', 'need', 0], ['receive', 'care', 0], ['receive', 'world', 0], ['receive', 'talk', 0], ['receive', 'money', 0], ['receive', 'girl', 0], ['receive', 'wan', 0], ['receive', 'guess', 0], ['receive', 'na', 0], ['receive', 'people', 0], ['receive', 'cant', 0], ['receive', 'wish', 0], ['receive', 'place', 0], ['receive', 'time', 1], ['receive', 'hope', 0], ['receive', 'sorry', 2], ['receive', 'right', 0], ['receive', 'home', 0], ['receive', 'thing', 0], ['receive', 'wait', 0], ['receive', 'pick', 0], ['receive', 'mind', 0], ['receive', 'class', 0], ['receive', 'person', 0], ['receive', 'sure', 0], ['receive', 'plan', 0], ['receive', 'anything', 0], ['receive', 'something', 1], ['receive', 'fine', 0], ['receive', 'sleep', 0], ['receive', 'feel', 0], ['receive', 'morning', 0], ['receive', 'told', 0], ['receive', 'gon', 0], ['receive', 'meeting', 0], ['rate', 'text', 11], ['rate', 'send', 1], ['rate', 'week', 1], ['rate', 'word', 0], ['rate', 'call', 26], ['rate', 'hour', 0], ['rate', 'prize', 10], ['rate', 'customer', 0], ['rate', 'claim', 15], ['rate', 'code', 5], ['rate', 'mobile', 1], ['rate', 'month', 0], ['rate', 'camera', 0], ['rate', 'day', 0], ['rate', 'cash', 0], ['rate', 'reply', 4], ['rate', 'cost', 0], ['rate', 'chance', 5], ['rate', 'urgent', 1], ['rate', 'pobox', 0], ['rate', 'message', 0], ['rate', 'miss', 1], ['rate', 'dont', 0], ['rate', 'thanks', 3], ['rate', 'please', 6], ['rate', 'nokia', 0], ['rate', 'tomorrow', 0], ['rate', 'year', 0], ['rate', 'stuff', 0], ['rate', 'guaranteed', 0], ['rate', 'service', 0], ['rate', 'draw', 0], ['rate', 'contact', 6], ['rate', 'show', 2], ['rate', 'holiday', 1], ['rate', 'account', 1], ['rate', 'landline', 2], ['rate', 'number', 5], ['rate', 'today', 5], ['rate', 'sent', 1], ['rate', 'tonight', 0], ['rate', 'want', 2], ['rate', 'chat', 4], ['rate', 'stop', 5], ['rate', 'friend', 3], ['rate', 'meet', 0], ['rate', 'start', 0], ['rate', 'someone', 2], ['rate', 'name', 0], ['rate', 'think', 0], ['rate', 'voucher', 0], ['rate', 'offer', 0], ['rate', 'min', 0], ['rate', 'video', 0], ['rate', 'phone', 0], ['rate', 'babe', 1], ['rate', 'tone', 5], ['rate', 'line', 0], ['rate', 'minute', 5], ['rate', 'land', 0], ['rate', 'half', 0], ['rate', 'help', 0], ['rate', 'heart', 0], ['rate', 'love', 0], ['rate', 'dear', 0], ['rate', 'yeah', 0], ['rate', 'hello', 0], ['rate', 'cool', 0], ['rate', 'work', 0], ['rate', 'night', 0], ['rate', 'thought', 0], ['rate', 'life', 0], ['rate', 'tell', 2], ['rate', 'need', 0], ['rate', 'care', 0], ['rate', 'world', 0], ['rate', 'talk', 0], ['rate', 'money', 2], ['rate', 'girl', 1], ['rate', 'wan', 0], ['rate', 'guess', 0], ['rate', 'na', 0], ['rate', 'people', 0], ['rate', 'cant', 0], ['rate', 'wish', 0], ['rate', 'place', 0], ['rate', 'time', 5], ['rate', 'hope', 0], ['rate', 'sorry', 0], ['rate', 'right', 0], ['rate', 'home', 0], ['rate', 'thing', 1], ['rate', 'wait', 0], ['rate', 'pick', 0], ['rate', 'mind', 0], ['rate', 'class', 0], ['rate', 'person', 1], ['rate', 'sure', 1], ['rate', 'plan', 0], ['rate', 'anything', 0], ['rate', 'something', 0], ['rate', 'fine', 0], ['rate', 'sleep', 0], ['rate', 'feel', 0], ['rate', 'morning', 0], ['rate', 'told', 0], ['rate', 'gon', 0], ['rate', 'meeting', 0], ['text', 'send', 12], ['text', 'week', 13], ['text', 'word', 6], ['text', 'call', 38], ['text', 'hour', 1], ['text', 'prize', 2], ['text', 'customer', 1], ['text', 'claim', 13], ['text', 'code', 0], ['text', 'mobile', 31], ['text', 'month', 2], ['text', 'camera', 2], ['text', 'day', 0], ['text', 'cash', 1], ['text', 'reply', 24], ['text', 'cost', 5], ['text', 'chance', 6], ['text', 'urgent', 0], ['text', 'pobox', 5], ['text', 'message', 11], ['text', 'miss', 2], ['text', 'dont', 0], ['text', 'thanks', 2], ['text', 'please', 5], ['text', 'nokia', 7], ['text', 'tomorrow', 5], ['text', 'year', 2], ['text', 'stuff', 0], ['text', 'guaranteed', 1], ['text', 'service', 10], ['text', 'draw', 1], ['text', 'contact', 2], ['text', 'show', 0], ['text', 'holiday', 1], ['text', 'account', 2], ['text', 'landline', 0], ['text', 'number', 9], ['text', 'today', 9], ['text', 'sent', 7], ['text', 'tonight', 4], ['text', 'want', 18], ['text', 'chat', 12], ['text', 'stop', 41], ['text', 'friend', 1], ['text', 'meet', 9], ['text', 'start', 0], ['text', 'someone', 1], ['text', 'name', 4], ['text', 'think', 4], ['text', 'voucher', 11], ['text', 'offer', 13], ['text', 'min', 12], ['text', 'video', 15], ['text', 'phone', 20], ['text', 'babe', 4], ['text', 'tone', 16], ['text', 'line', 5], ['text', 'minute', 7], ['text', 'land', 0], ['text', 'half', 2], ['text', 'help', 15], ['text', 'heart', 1], ['text', 'love', 3], ['text', 'dear', 4], ['text', 'yeah', 1], ['text', 'hello', 2], ['text', 'cool', 3], ['text', 'work', 2], ['text', 'night', 2], ['text', 'thought', 1], ['text', 'life', 1], ['text', 'tell', 2], ['text', 'need', 4], ['text', 'care', 0], ['text', 'world', 1], ['text', 'talk', 2], ['text', 'money', 1], ['text', 'girl', 4], ['text', 'wan', 2], ['text', 'guess', 1], ['text', 'na', 2], ['text', 'people', 0], ['text', 'cant', 1], ['text', 'wish', 1], ['text', 'place', 0], ['text', 'time', 5], ['text', 'hope', 6], ['text', 'sorry', 1], ['text', 'right', 2], ['text', 'home', 3], ['text', 'thing', 1], ['text', 'wait', 0], ['text', 'pick', 1], ['text', 'mind', 0], ['text', 'class', 1], ['text', 'person', 0], ['text', 'sure', 2], ['text', 'plan', 1], ['text', 'anything', 0], ['text', 'something', 0], ['text', 'fine', 0], ['text', 'sleep', 0], ['text', 'feel', 2], ['text', 'morning', 1], ['text', 'told', 0], ['text', 'gon', 2], ['text', 'meeting', 0], ['send', 'week', 4], ['send', 'word', 6], ['send', 'call', 6], ['send', 'hour', 0], ['send', 'prize', 0], ['send', 'customer', 3], ['send', 'claim', 2], ['send', 'code', 0], ['send', 'mobile', 11], ['send', 'month', 0], ['send', 'camera', 1], ['send', 'day', 7], ['send', 'cash', 10], ['send', 'reply', 17], ['send', 'cost', 4], ['send', 'chance', 3], ['send', 'urgent', 0], ['send', 'pobox', 3], ['send', 'message', 17], ['send', 'miss', 3], ['send', 'dont', 3], ['send', 'thanks', 3], ['send', 'please', 3], ['send', 'nokia', 5], ['send', 'tomorrow', 8], ['send', 'year', 4], ['send', 'stuff', 3], ['send', 'guaranteed', 0], ['send', 'service', 8], ['send', 'draw', 1], ['send', 'contact', 3], ['send', 'show', 0], ['send', 'holiday', 2], ['send', 'account', 3], ['send', 'landline', 0], ['send', 'number', 9], ['send', 'today', 5], ['send', 'sent', 5], ['send', 'tonight', 0], ['send', 'want', 4], ['send', 'chat', 8], ['send', 'stop', 30], ['send', 'friend', 11], ['send', 'meet', 1], ['send', 'start', 3], ['send', 'someone', 2], ['send', 'name', 5], ['send', 'think', 7], ['send', 'voucher', 3], ['send', 'offer', 0], ['send', 'min', 1], ['send', 'video', 3], ['send', 'phone', 16], ['send', 'babe', 3], ['send', 'tone', 1], ['send', 'line', 2], ['send', 'minute', 0], ['send', 'land', 10], ['send', 'half', 0], ['send', 'help', 2], ['send', 'heart', 8], ['send', 'love', 13], ['send', 'dear', 1], ['send', 'yeah', 0], ['send', 'hello', 4], ['send', 'cool', 0], ['send', 'work', 4], ['send', 'night', 2], ['send', 'thought', 3], ['send', 'life', 1], ['send', 'tell', 1], ['send', 'need', 10], ['send', 'care', 3], ['send', 'world', 2], ['send', 'talk', 0], ['send', 'money', 2], ['send', 'girl', 3], ['send', 'wan', 2], ['send', 'guess', 0], ['send', 'na', 2], ['send', 'people', 7], ['send', 'cant', 13], ['send', 'wish', 1], ['send', 'place', 3], ['send', 'time', 2], ['send', 'hope', 2], ['send', 'sorry', 0], ['send', 'right', 12], ['send', 'home', 4], ['send', 'thing', 1], ['send', 'wait', 0], ['send', 'pick', 10], ['send', 'mind', 1], ['send', 'class', 0], ['send', 'person', 2], ['send', 'sure', 0], ['send', 'plan', 0], ['send', 'anything', 1], ['send', 'something', 3], ['send', 'fine', 2], ['send', 'sleep', 1], ['send', 'feel', 0], ['send', 'morning', 1], ['send', 'told', 0], ['send', 'gon', 0], ['send', 'meeting', 0], ['week', 'word', 6], ['week', 'call', 11], ['week', 'hour', 0], ['week', 'prize', 5], ['week', 'customer', 1], ['week', 'claim', 8], ['week', 'code', 0], ['week', 'mobile', 5], ['week', 'month', 0], ['week', 'camera', 1], ['week', 'day', 1], ['week', 'cash', 4], ['week', 'reply', 13], ['week', 'cost', 1], ['week', 'chance', 2], ['week', 'urgent', 2], ['week', 'pobox', 11], ['week', 'message', 3], ['week', 'miss', 0], ['week', 'dont', 1], ['week', 'thanks', 2], ['week', 'please', 3], ['week', 'nokia', 9], ['week', 'tomorrow', 3], ['week', 'year', 4], ['week', 'stuff', 4], ['week', 'guaranteed', 0], ['week', 'service', 1], ['week', 'draw', 7], ['week', 'contact', 0], ['week', 'show', 0], ['week', 'holiday', 1], ['week', 'account', 0], ['week', 'landline', 0], ['week', 'number', 0], ['week', 'today', 2], ['week', 'sent', 2], ['week', 'tonight', 0], ['week', 'want', 7], ['week', 'chat', 1], ['week', 'stop', 10], ['week', 'friend', 6], ['week', 'meet', 2], ['week', 'start', 2], ['week', 'someone', 1], ['week', 'name', 2], ['week', 'think', 3], ['week', 'voucher', 8], ['week', 'offer', 6], ['week', 'min', 4], ['week', 'video', 4], ['week', 'phone', 5], ['week', 'babe', 0], ['week', 'tone', 19], ['week', 'line', 0], ['week', 'minute', 2], ['week', 'land', 0], ['week', 'half', 0], ['week', 'help', 1], ['week', 'heart', 0], ['week', 'love', 0], ['week', 'dear', 4], ['week', 'yeah', 3], ['week', 'hello', 1], ['week', 'cool', 1], ['week', 'work', 7], ['week', 'night', 1], ['week', 'thought', 0], ['week', 'life', 0], ['week', 'tell', 11], ['week', 'need', 0], ['week', 'care', 0], ['week', 'world', 0], ['week', 'talk', 2], ['week', 'money', 2], ['week', 'girl', 0], ['week', 'wan', 0], ['week', 'guess', 0], ['week', 'na', 0], ['week', 'people', 0], ['week', 'cant', 0], ['week', 'wish', 5], ['week', 'place', 0], ['week', 'time', 6], ['week', 'hope', 2], ['week', 'sorry', 3], ['week', 'right', 0], ['week', 'home', 2], ['week', 'thing', 0], ['week', 'wait', 1], ['week', 'pick', 0], ['week', 'mind', 2], ['week', 'class', 0], ['week', 'person', 0], ['week', 'sure', 0], ['week', 'plan', 3], ['week', 'anything', 0], ['week', 'something', 1], ['week', 'fine', 1], ['week', 'sleep', 0], ['week', 'feel', 1], ['week', 'morning', 0], ['week', 'told', 1], ['week', 'gon', 3], ['week', 'meeting', 0], ['word', 'call', 0], ['word', 'hour', 0], ['word', 'prize', 6], ['word', 'customer', 4], ['word', 'claim', 3], ['word', 'code', 0], ['word', 'mobile', 6], ['word', 'month', 0], ['word', 'camera', 0], ['word', 'day', 0], ['word', 'cash', 0], ['word', 'reply', 1], ['word', 'cost', 0], ['word', 'chance', 0], ['word', 'urgent', 2], ['word', 'pobox', 2], ['word', 'message', 3], ['word', 'miss', 1], ['word', 'dont', 2], ['word', 'thanks', 1], ['word', 'please', 1], ['word', 'nokia', 9], ['word', 'tomorrow', 0], ['word', 'year', 0], ['word', 'stuff', 0], ['word', 'guaranteed', 4], ['word', 'service', 0], ['word', 'draw', 3], ['word', 'contact', 0], ['word', 'show', 0], ['word', 'holiday', 0], ['word', 'account', 1], ['word', 'landline', 0], ['word', 'number', 0], ['word', 'today', 0], ['word', 'sent', 0], ['word', 'tonight', 0], ['word', 'want', 0], ['word', 'chat', 1], ['word', 'stop', 0], ['word', 'friend', 1], ['word', 'meet', 0], ['word', 'start', 5], ['word', 'someone', 0], ['word', 'name', 1], ['word', 'think', 0], ['word', 'voucher', 3], ['word', 'offer', 4], ['word', 'min', 0], ['word', 'video', 0], ['word', 'phone', 5], ['word', 'babe', 0], ['word', 'tone', 0], ['word', 'line', 0], ['word', 'minute', 0], ['word', 'land', 0], ['word', 'half', 0], ['word', 'help', 0], ['word', 'heart', 0], ['word', 'love', 5], ['word', 'dear', 2], ['word', 'yeah', 0], ['word', 'hello', 0], ['word', 'cool', 0], ['word', 'work', 0], ['word', 'night', 0], ['word', 'thought', 1], ['word', 'life', 0], ['word', 'tell', 2], ['word', 'need', 0], ['word', 'care', 2], ['word', 'world', 0], ['word', 'talk', 1], ['word', 'money', 0], ['word', 'girl', 0], ['word', 'wan', 1], ['word', 'guess', 0], ['word', 'na', 1], ['word', 'people', 0], ['word', 'cant', 0], ['word', 'wish', 0], ['word', 'place', 0], ['word', 'time', 7], ['word', 'hope', 0], ['word', 'sorry', 0], ['word', 'right', 1], ['word', 'home', 0], ['word', 'thing', 2], ['word', 'wait', 1], ['word', 'pick', 0], ['word', 'mind', 0], ['word', 'class', 0], ['word', 'person', 0], ['word', 'sure', 0], ['word', 'plan', 0], ['word', 'anything', 0], ['word', 'something', 0], ['word', 'fine', 0], ['word', 'sleep', 0], ['word', 'feel', 0], ['word', 'morning', 2], ['word', 'told', 1], ['word', 'gon', 0], ['word', 'meeting', 0], ['call', 'hour', 6], ['call', 'prize', 71], ['call', 'customer', 43], ['call', 'claim', 79], ['call', 'code', 29], ['call', 'mobile', 72], ['call', 'month', 9], ['call', 'camera', 29], ['call', 'day', 6], ['call', 'cash', 40], ['call', 'reply', 30], ['call', 'cost', 21], ['call', 'chance', 4], ['call', 'urgent', 56], ['call', 'pobox', 20], ['call', 'message', 15], ['call', 'miss', 6], ['call', 'dont', 11], ['call', 'thanks', 8], ['call', 'please', 55], ['call', 'nokia', 20], ['call', 'tomorrow', 17], ['call', 'year', 6], ['call', 'stuff', 2], ['call', 'guaranteed', 40], ['call', 'service', 39], ['call', 'draw', 18], ['call', 'contact', 52], ['call', 'show', 34], ['call', 'holiday', 26], ['call', 'account', 16], ['call', 'landline', 31], ['call', 'number', 34], ['call', 'today', 25], ['call', 'sent', 1], ['call', 'tonight', 0], ['call', 'want', 20], ['call', 'chat', 14], ['call', 'stop', 25], ['call', 'friend', 9], ['call', 'meet', 3], ['call', 'start', 2], ['call', 'someone', 13], ['call', 'name', 1], ['call', 'think', 13], ['call', 'voucher', 5], ['call', 'offer', 19], ['call', 'min', 43], ['call', 'video', 23], ['call', 'phone', 41], ['call', 'babe', 0], ['call', 'tone', 6], ['call', 'line', 37], ['call', 'minute', 12], ['call', 'land', 18], ['call', 'half', 13], ['call', 'help', 9], ['call', 'heart', 2], ['call', 'love', 3], ['call', 'dear', 12], ['call', 'yeah', 1], ['call', 'hello', 2], ['call', 'cool', 0], ['call', 'work', 9], ['call', 'night', 3], ['call', 'thought', 0], ['call', 'life', 5], ['call', 'tell', 11], ['call', 'need', 6], ['call', 'care', 7], ['call', 'world', 3], ['call', 'talk', 7], ['call', 'money', 3], ['call', 'girl', 4], ['call', 'wan', 6], ['call', 'guess', 6], ['call', 'na', 6], ['call', 'people', 4], ['call', 'cant', 6], ['call', 'wish', 1], ['call', 'place', 5], ['call', 'time', 21], ['call', 'hope', 3], ['call', 'sorry', 35], ['call', 'right', 3], ['call', 'home', 11], ['call', 'thing', 1], ['call', 'wait', 1], ['call', 'pick', 3], ['call', 'mind', 0], ['call', 'class', 3], ['call', 'person', 2], ['call', 'sure', 2], ['call', 'plan', 1], ['call', 'anything', 0], ['call', 'something', 1], ['call', 'fine', 1], ['call', 'sleep', 2], ['call', 'feel', 2], ['call', 'morning', 5], ['call', 'told', 2], ['call', 'gon', 3], ['call', 'meeting', 13], ['hour', 'prize', 3], ['hour', 'customer', 3], ['hour', 'claim', 5], ['hour', 'code', 3], ['hour', 'mobile', 0], ['hour', 'month', 0], ['hour', 'camera', 0], ['hour', 'day', 0], ['hour', 'cash', 0], ['hour', 'reply', 0], ['hour', 'cost', 0], ['hour', 'chance', 0], ['hour', 'urgent', 1], ['hour', 'pobox', 0], ['hour', 'message', 0], ['hour', 'miss', 0], ['hour', 'dont', 0], ['hour', 'thanks', 0], ['hour', 'please', 1], ['hour', 'nokia', 0], ['hour', 'tomorrow', 0], ['hour', 'year', 0], ['hour', 'stuff', 0], ['hour', 'guaranteed', 1], ['hour', 'service', 0], ['hour', 'draw', 1], ['hour', 'contact', 1], ['hour', 'show', 2], ['hour', 'holiday', 0], ['hour', 'account', 0], ['hour', 'landline', 0], ['hour', 'number', 0], ['hour', 'today', 0], ['hour', 'sent', 0], ['hour', 'tonight', 0], ['hour', 'want', 2], ['hour', 'chat', 0], ['hour', 'stop', 2], ['hour', 'friend', 1], ['hour', 'meet', 0], ['hour', 'start', 0], ['hour', 'someone', 0], ['hour', 'name', 0], ['hour', 'think', 1], ['hour', 'voucher', 0], ['hour', 'offer', 0], ['hour', 'min', 0], ['hour', 'video', 0], ['hour', 'phone', 3], ['hour', 'babe', 1], ['hour', 'tone', 0], ['hour', 'line', 0], ['hour', 'minute', 0], ['hour', 'land', 0], ['hour', 'half', 5], ['hour', 'help', 0], ['hour', 'heart', 0], ['hour', 'love', 0], ['hour', 'dear', 0], ['hour', 'yeah', 2], ['hour', 'hello', 0], ['hour', 'cool', 1], ['hour', 'work', 1], ['hour', 'night', 1], ['hour', 'thought', 1], ['hour', 'life', 0], ['hour', 'tell', 2], ['hour', 'need', 1], ['hour', 'care', 1], ['hour', 'world', 0], ['hour', 'talk', 2], ['hour', 'money', 0], ['hour', 'girl', 0], ['hour', 'wan', 0], ['hour', 'guess', 1], ['hour', 'na', 0], ['hour', 'people', 0], ['hour', 'cant', 0], ['hour', 'wish', 0], ['hour', 'place', 1], ['hour', 'time', 5], ['hour', 'hope', 0], ['hour', 'sorry', 1], ['hour', 'right', 0], ['hour', 'home', 3], ['hour', 'thing', 1], ['hour', 'wait', 1], ['hour', 'pick', 2], ['hour', 'mind', 0], ['hour', 'class', 0], ['hour', 'person', 0], ['hour', 'sure', 2], ['hour', 'plan', 0], ['hour', 'anything', 1], ['hour', 'something', 0], ['hour', 'fine', 0], ['hour', 'sleep', 0], ['hour', 'feel', 0], ['hour', 'morning', 1], ['hour', 'told', 0], ['hour', 'gon', 0], ['hour', 'meeting', 0], ['prize', 'customer', 19], ['prize', 'claim', 48], ['prize', 'code', 8], ['prize', 'mobile', 22], ['prize', 'month', 0], ['prize', 'camera', 1], ['prize', 'day', 0], ['prize', 'cash', 15], ['prize', 'reply', 1], ['prize', 'cost', 2], ['prize', 'chance', 1], ['prize', 'urgent', 33], ['prize', 'pobox', 2], ['prize', 'message', 0], ['prize', 'miss', 0], ['prize', 'dont', 0], ['prize', 'thanks', 3], ['prize', 'please', 9], ['prize', 'nokia', 5], ['prize', 'tomorrow', 0], ['prize', 'year', 0], ['prize', 'stuff', 0], ['prize', 'guaranteed', 37], ['prize', 'service', 10], ['prize', 'draw', 18], ['prize', 'contact', 28], ['prize', 'show', 14], ['prize', 'holiday', 0], ['prize', 'account', 0], ['prize', 'landline', 2], ['prize', 'number', 9], ['prize', 'today', 9], ['prize', 'sent', 0], ['prize', 'tonight', 0], ['prize', 'want', 0], ['prize', 'chat', 0], ['prize', 'stop', 6], ['prize', 'friend', 3], ['prize', 'meet', 0], ['prize', 'start', 0], ['prize', 'someone', 1], ['prize', 'name', 2], ['prize', 'think', 0], ['prize', 'voucher', 0], ['prize', 'offer', 0], ['prize', 'min', 0], ['prize', 'video', 0], ['prize', 'phone', 4], ['prize', 'babe', 0], ['prize', 'tone', 0], ['prize', 'line', 16], ['prize', 'minute', 5], ['prize', 'land', 16], ['prize', 'half', 0], ['prize', 'help', 0], ['prize', 'heart', 0], ['prize', 'love', 0], ['prize', 'dear', 0], ['prize', 'yeah', 0], ['prize', 'hello', 0], ['prize', 'cool', 0], ['prize', 'work', 0], ['prize', 'night', 0], ['prize', 'thought', 0], ['prize', 'life', 0], ['prize', 'tell', 2], ['prize', 'need', 0], ['prize', 'care', 0], ['prize', 'world', 0], ['prize', 'talk', 0], ['prize', 'money', 1], ['prize', 'girl', 0], ['prize', 'wan', 0], ['prize', 'guess', 0], ['prize', 'na', 0], ['prize', 'people', 0], ['prize', 'cant', 0], ['prize', 'wish', 0], ['prize', 'place', 0], ['prize', 'time', 6], ['prize', 'hope', 0], ['prize', 'sorry', 0], ['prize', 'right', 0], ['prize', 'home', 0], ['prize', 'thing', 0], ['prize', 'wait', 0], ['prize', 'pick', 0], ['prize', 'mind', 0], ['prize', 'class', 0], ['prize', 'person', 0], ['prize', 'sure', 0], ['prize', 'plan', 0], ['prize', 'anything', 0], ['prize', 'something', 0], ['prize', 'fine', 0], ['prize', 'sleep', 0], ['prize', 'feel', 0], ['prize', 'morning', 0], ['prize', 'told', 0], ['prize', 'gon', 0], ['prize', 'meeting', 0], ['customer', 'claim', 12], ['customer', 'code', 3], ['customer', 'mobile', 14], ['customer', 'month', 0], ['customer', 'camera', 3], ['customer', 'day', 0], ['customer', 'cash', 10], ['customer', 'reply', 3], ['customer', 'cost', 2], ['customer', 'chance', 0], ['customer', 'urgent', 0], ['customer', 'pobox', 0], ['customer', 'message', 2], ['customer', 'miss', 0], ['customer', 'dont', 0], ['customer', 'thanks', 6], ['customer', 'please', 16], ['customer', 'nokia', 4], ['customer', 'tomorrow', 0], ['customer', 'year', 1], ['customer', 'stuff', 0], ['customer', 'guaranteed', 10], ['customer', 'service', 28], ['customer', 'draw', 1], ['customer', 'contact', 2], ['customer', 'show', 0], ['customer', 'holiday', 0], ['customer', 'account', 1], ['customer', 'landline', 0], ['customer', 'number', 7], ['customer', 'today', 0], ['customer', 'sent', 1], ['customer', 'tonight', 0], ['customer', 'want', 0], ['customer', 'chat', 0], ['customer', 'stop', 5], ['customer', 'friend', 0], ['customer', 'meet', 0], ['customer', 'start', 4], ['customer', 'someone', 0], ['customer', 'name', 0], ['customer', 'think', 0], ['customer', 'voucher', 1], ['customer', 'offer', 7], ['customer', 'min', 0], ['customer', 'video', 0], ['customer', 'phone', 3], ['customer', 'babe', 0], ['customer', 'tone', 5], ['customer', 'line', 0], ['customer', 'minute', 0], ['customer', 'land', 0], ['customer', 'half', 0], ['customer', 'help', 0], ['customer', 'heart', 0], ['customer', 'love', 0], ['customer', 'dear', 0], ['customer', 'yeah', 0], ['customer', 'hello', 0], ['customer', 'cool', 0], ['customer', 'work', 0], ['customer', 'night', 0], ['customer', 'thought', 0], ['customer', 'life', 0], ['customer', 'tell', 0], ['customer', 'need', 0], ['customer', 'care', 2], ['customer', 'world', 0], ['customer', 'talk', 0], ['customer', 'money', 0], ['customer', 'girl', 0], ['customer', 'wan', 0], ['customer', 'guess', 0], ['customer', 'na', 0], ['customer', 'people', 0], ['customer', 'cant', 0], ['customer', 'wish', 0], ['customer', 'place', 4], ['customer', 'time', 0], ['customer', 'hope', 0], ['customer', 'sorry', 0], ['customer', 'right', 0], ['customer', 'home', 0], ['customer', 'thing', 0], ['customer', 'wait', 0], ['customer', 'pick', 0], ['customer', 'mind', 0], ['customer', 'class', 0], ['customer', 'person', 0], ['customer', 'sure', 0], ['customer', 'plan', 0], ['customer', 'anything', 0], ['customer', 'something', 0], ['customer', 'fine', 0], ['customer', 'sleep', 0], ['customer', 'feel', 0], ['customer', 'morning', 0], ['customer', 'told', 0], ['customer', 'gon', 0], ['customer', 'meeting', 0], ['claim', 'code', 16], ['claim', 'mobile', 21], ['claim', 'month', 0], ['claim', 'camera', 3], ['claim', 'day', 0], ['claim', 'cash', 18], ['claim', 'reply', 4], ['claim', 'cost', 5], ['claim', 'chance', 5], ['claim', 'urgent', 26], ['claim', 'pobox', 6], ['claim', 'message', 2], ['claim', 'miss', 0], ['claim', 'dont', 0], ['claim', 'thanks', 3], ['claim', 'please', 10], ['claim', 'nokia', 0], ['claim', 'tomorrow', 0], ['claim', 'year', 0], ['claim', 'stuff', 0], ['claim', 'guaranteed', 31], ['claim', 'service', 4], ['claim', 'draw', 17], ['claim', 'contact', 23], ['claim', 'show', 18], ['claim', 'holiday', 10], ['claim', 'account', 4], ['claim', 'landline', 1], ['claim', 'number', 18], ['claim', 'today', 20], ['claim', 'sent', 0], ['claim', 'tonight', 0], ['claim', 'want', 0], ['claim', 'chat', 0], ['claim', 'stop', 15], ['claim', 'friend', 4], ['claim', 'meet', 0], ['claim', 'start', 2], ['claim', 'someone', 1], ['claim', 'name', 0], ['claim', 'think', 1], ['claim', 'voucher', 12], ['claim', 'offer', 14], ['claim', 'min', 0], ['claim', 'video', 0], ['claim', 'phone', 5], ['claim', 'babe', 0], ['claim', 'tone', 0], ['claim', 'line', 15], ['claim', 'minute', 5], ['claim', 'land', 14], ['claim', 'half', 0], ['claim', 'help', 0], ['claim', 'heart', 0], ['claim', 'love', 0], ['claim', 'dear', 5], ['claim', 'yeah', 0], ['claim', 'hello', 0], ['claim', 'cool', 0], ['claim', 'work', 0], ['claim', 'night', 0], ['claim', 'thought', 0], ['claim', 'life', 0], ['claim', 'tell', 2], ['claim', 'need', 0], ['claim', 'care', 0], ['claim', 'world', 0], ['claim', 'talk', 2], ['claim', 'money', 1], ['claim', 'girl', 0], ['claim', 'wan', 0], ['claim', 'guess', 0], ['claim', 'na', 0], ['claim', 'people', 0], ['claim', 'cant', 0], ['claim', 'wish', 0], ['claim', 'place', 0], ['claim', 'time', 8], ['claim', 'hope', 0], ['claim', 'sorry', 0], ['claim', 'right', 0], ['claim', 'home', 0], ['claim', 'thing', 0], ['claim', 'wait', 0], ['claim', 'pick', 0], ['claim', 'mind', 0], ['claim', 'class', 1], ['claim', 'person', 0], ['claim', 'sure', 0], ['claim', 'plan', 0], ['claim', 'anything', 0], ['claim', 'something', 0], ['claim', 'fine', 0], ['claim', 'sleep', 0], ['claim', 'feel', 0], ['claim', 'morning', 0], ['claim', 'told', 0], ['claim', 'gon', 0], ['claim', 'meeting', 0], ['code', 'mobile', 0], ['code', 'month', 0], ['code', 'camera', 0], ['code', 'day', 0], ['code', 'cash', 0], ['code', 'reply', 2], ['code', 'cost', 0], ['code', 'chance', 0], ['code', 'urgent', 3], ['code', 'pobox', 0], ['code', 'message', 1], ['code', 'miss', 0], ['code', 'dont', 0], ['code', 'thanks', 0], ['code', 'please', 5], ['code', 'nokia', 0], ['code', 'tomorrow', 0], ['code', 'year', 0], ['code', 'stuff', 0], ['code', 'guaranteed', 5], ['code', 'service', 1], ['code', 'draw', 6], ['code', 'contact', 5], ['code', 'show', 21], ['code', 'holiday', 0], ['code', 'account', 16], ['code', 'landline', 0], ['code', 'number', 5], ['code', 'today', 5], ['code', 'sent', 1], ['code', 'tonight', 0], ['code', 'want', 0], ['code', 'chat', 0], ['code', 'stop', 1], ['code', 'friend', 0], ['code', 'meet', 0], ['code', 'start', 0], ['code', 'someone', 0], ['code', 'name', 0], ['code', 'think', 0], ['code', 'voucher', 0], ['code', 'offer', 0], ['code', 'min', 0], ['code', 'video', 0], ['code', 'phone', 0], ['code', 'babe', 0], ['code', 'tone', 0], ['code', 'line', 0], ['code', 'minute', 0], ['code', 'land', 0], ['code', 'half', 0], ['code', 'help', 0], ['code', 'heart', 0], ['code', 'love', 0], ['code', 'dear', 0], ['code', 'yeah', 0], ['code', 'hello', 0], ['code', 'cool', 0], ['code', 'work', 0], ['code', 'night', 0], ['code', 'thought', 0], ['code', 'life', 0], ['code', 'tell', 0], ['code', 'need', 0], ['code', 'care', 0], ['code', 'world', 0], ['code', 'talk', 0], ['code', 'money', 0], ['code', 'girl', 0], ['code', 'wan', 0], ['code', 'guess', 0], ['code', 'na', 0], ['code', 'people', 0], ['code', 'cant', 0], ['code', 'wish', 0], ['code', 'place', 0], ['code', 'time', 0], ['code', 'hope', 0], ['code', 'sorry', 0], ['code', 'right', 1], ['code', 'home', 0], ['code', 'thing', 0], ['code', 'wait', 0], ['code', 'pick', 0], ['code', 'mind', 0], ['code', 'class', 0], ['code', 'person', 1], ['code', 'sure', 0], ['code', 'plan', 0], ['code', 'anything', 0], ['code', 'something', 0], ['code', 'fine', 0], ['code', 'sleep', 0], ['code', 'feel', 0], ['code', 'morning', 0], ['code', 'told', 0], ['code', 'gon', 0], ['code', 'meeting', 0], ['mobile', 'month', 3], ['mobile', 'camera', 13], ['mobile', 'day', 3], ['mobile', 'cash', 3], ['mobile', 'reply', 16], ['mobile', 'cost', 5], ['mobile', 'chance', 5], ['mobile', 'urgent', 18], ['mobile', 'pobox', 8], ['mobile', 'message', 3], ['mobile', 'miss', 0], ['mobile', 'dont', 1], ['mobile', 'thanks', 7], ['mobile', 'please', 10], ['mobile', 'nokia', 22], ['mobile', 'tomorrow', 3], ['mobile', 'year', 0], ['mobile', 'stuff', 0], ['mobile', 'guaranteed', 8], ['mobile', 'service', 14], ['mobile', 'draw', 0], ['mobile', 'contact', 8], ['mobile', 'show', 0], ['mobile', 'holiday', 0], ['mobile', 'account', 0], ['mobile', 'landline', 6], ['mobile', 'number', 21], ['mobile', 'today', 10], ['mobile', 'sent', 3], ['mobile', 'tonight', 2], ['mobile', 'want', 8], ['mobile', 'chat', 1], ['mobile', 'stop', 12], ['mobile', 'friend', 1], ['mobile', 'meet', 0], ['mobile', 'start', 4], ['mobile', 'someone', 1], ['mobile', 'name', 2], ['mobile', 'think', 0], ['mobile', 'voucher', 10], ['mobile', 'offer', 16], ['mobile', 'min', 10], ['mobile', 'video', 7], ['mobile', 'phone', 13], ['mobile', 'babe', 3], ['mobile', 'tone', 13], ['mobile', 'line', 8], ['mobile', 'minute', 5], ['mobile', 'land', 7], ['mobile', 'half', 0], ['mobile', 'help', 0], ['mobile', 'heart', 0], ['mobile', 'love', 0], ['mobile', 'dear', 1], ['mobile', 'yeah', 0], ['mobile', 'hello', 1], ['mobile', 'cool', 0], ['mobile', 'work', 2], ['mobile', 'night', 0], ['mobile', 'thought', 1], ['mobile', 'life', 1], ['mobile', 'tell', 4], ['mobile', 'need', 1], ['mobile', 'care', 0], ['mobile', 'world', 0], ['mobile', 'talk', 0], ['mobile', 'money', 0], ['mobile', 'girl', 0], ['mobile', 'wan', 2], ['mobile', 'guess', 0], ['mobile', 'na', 2], ['mobile', 'people', 2], ['mobile', 'cant', 0], ['mobile', 'wish', 1], ['mobile', 'place', 2], ['mobile', 'time', 0], ['mobile', 'hope', 0], ['mobile', 'sorry', 1], ['mobile', 'right', 1], ['mobile', 'home', 1], ['mobile', 'thing', 0], ['mobile', 'wait', 0], ['mobile', 'pick', 1], ['mobile', 'mind', 0], ['mobile', 'class', 0], ['mobile', 'person', 0], ['mobile', 'sure', 0], ['mobile', 'plan', 0], ['mobile', 'anything', 0], ['mobile', 'something', 0], ['mobile', 'fine', 0], ['mobile', 'sleep', 0], ['mobile', 'feel', 0], ['mobile', 'morning', 1], ['mobile', 'told', 0], ['mobile', 'gon', 0], ['mobile', 'meeting', 0], ['month', 'camera', 3], ['month', 'day', 0], ['month', 'cash', 1], ['month', 'reply', 3], ['month', 'cost', 2], ['month', 'chance', 0], ['month', 'urgent', 0], ['month', 'pobox', 1], ['month', 'message', 1], ['month', 'miss', 0], ['month', 'dont', 1], ['month', 'thanks', 2], ['month', 'please', 2], ['month', 'nokia', 2], ['month', 'tomorrow', 0], ['month', 'year', 0], ['month', 'stuff', 0], ['month', 'guaranteed', 0], ['month', 'service', 1], ['month', 'draw', 0], ['month', 'contact', 0], ['month', 'show', 0], ['month', 'holiday', 0], ['month', 'account', 0], ['month', 'landline', 0], ['month', 'number', 0], ['month', 'today', 0], ['month', 'sent', 0], ['month', 'tonight', 0], ['month', 'want', 1], ['month', 'chat', 0], ['month', 'stop', 3], ['month', 'friend', 0], ['month', 'meet', 0], ['month', 'start', 1], ['month', 'someone', 0], ['month', 'name', 0], ['month', 'think', 0], ['month', 'voucher', 0], ['month', 'offer', 0], ['month', 'min', 5], ['month', 'video', 1], ['month', 'phone', 4], ['month', 'babe', 0], ['month', 'tone', 0], ['month', 'line', 1], ['month', 'minute', 0], ['month', 'land', 0], ['month', 'half', 1], ['month', 'help', 2], ['month', 'heart', 0], ['month', 'love', 1], ['month', 'dear', 0], ['month', 'yeah', 1], ['month', 'hello', 1], ['month', 'cool', 0], ['month', 'work', 1], ['month', 'night', 1], ['month', 'thought', 0], ['month', 'life', 0], ['month', 'tell', 4], ['month', 'need', 1], ['month', 'care', 0], ['month', 'world', 0], ['month', 'talk', 1], ['month', 'money', 1], ['month', 'girl', 0], ['month', 'wan', 0], ['month', 'guess', 0], ['month', 'na', 0], ['month', 'people', 1], ['month', 'cant', 0], ['month', 'wish', 2], ['month', 'place', 0], ['month', 'time', 2], ['month', 'hope', 2], ['month', 'sorry', 0], ['month', 'right', 0], ['month', 'home', 0], ['month', 'thing', 2], ['month', 'wait', 0], ['month', 'pick', 0], ['month', 'mind', 0], ['month', 'class', 0], ['month', 'person', 0], ['month', 'sure', 0], ['month', 'plan', 0], ['month', 'anything', 1], ['month', 'something', 1], ['month', 'fine', 0], ['month', 'sleep', 1], ['month', 'feel', 0], ['month', 'morning', 0], ['month', 'told', 0], ['month', 'gon', 0], ['month', 'meeting', 0], ['camera', 'day', 6], ['camera', 'cash', 0], ['camera', 'reply', 1], ['camera', 'cost', 2], ['camera', 'chance', 0], ['camera', 'urgent', 0], ['camera', 'pobox', 1], ['camera', 'message', 0], ['camera', 'miss', 0], ['camera', 'dont', 0], ['camera', 'thanks', 0], ['camera', 'please', 0], ['camera', 'nokia', 3], ['camera', 'tomorrow', 0], ['camera', 'year', 1], ['camera', 'stuff', 0], ['camera', 'guaranteed', 0], ['camera', 'service', 0], ['camera', 'draw', 0], ['camera', 'contact', 0], ['camera', 'show', 0], ['camera', 'holiday', 1], ['camera', 'account', 0], ['camera', 'landline', 6], ['camera', 'number', 1], ['camera', 'today', 0], ['camera', 'sent', 0], ['camera', 'tonight', 0], ['camera', 'want', 0], ['camera', 'chat', 0], ['camera', 'stop', 1], ['camera', 'friend', 0], ['camera', 'meet', 0], ['camera', 'start', 0], ['camera', 'someone', 0], ['camera', 'name', 0], ['camera', 'think', 0], ['camera', 'voucher', 0], ['camera', 'offer', 5], ['camera', 'min', 8], ['camera', 'video', 6], ['camera', 'phone', 15], ['camera', 'babe', 0], ['camera', 'tone', 0], ['camera', 'line', 6], ['camera', 'minute', 0], ['camera', 'land', 0], ['camera', 'half', 5], ['camera', 'help', 0], ['camera', 'heart', 0], ['camera', 'love', 0], ['camera', 'dear', 0], ['camera', 'yeah', 0], ['camera', 'hello', 0], ['camera', 'cool', 0], ['camera', 'work', 0], ['camera', 'night', 0], ['camera', 'thought', 0], ['camera', 'life', 0], ['camera', 'tell', 0], ['camera', 'need', 0], ['camera', 'care', 0], ['camera', 'world', 0], ['camera', 'talk', 0], ['camera', 'money', 0], ['camera', 'girl', 1], ['camera', 'wan', 0], ['camera', 'guess', 0], ['camera', 'na', 0], ['camera', 'people', 0], ['camera', 'cant', 0], ['camera', 'wish', 0], ['camera', 'place', 0], ['camera', 'time', 0], ['camera', 'hope', 1], ['camera', 'sorry', 1], ['camera', 'right', 0], ['camera', 'home', 0], ['camera', 'thing', 0], ['camera', 'wait', 0], ['camera', 'pick', 0], ['camera', 'mind', 0], ['camera', 'class', 0], ['camera', 'person', 0], ['camera', 'sure', 0], ['camera', 'plan', 0], ['camera', 'anything', 0], ['camera', 'something', 1], ['camera', 'fine', 0], ['camera', 'sleep', 0], ['camera', 'feel', 0], ['camera', 'morning', 0], ['camera', 'told', 0], ['camera', 'gon', 0], ['camera', 'meeting', 0], ['day', 'cash', 2], ['day', 'reply', 2], ['day', 'cost', 2], ['day', 'chance', 2], ['day', 'urgent', 1], ['day', 'pobox', 0], ['day', 'message', 1], ['day', 'miss', 0], ['day', 'dont', 3], ['day', 'thanks', 0], ['day', 'please', 0], ['day', 'nokia', 0], ['day', 'tomorrow', 0], ['day', 'year', 0], ['day', 'stuff', 1], ['day', 'guaranteed', 0], ['day', 'service', 2], ['day', 'draw', 0], ['day', 'contact', 0], ['day', 'show', 0], ['day', 'holiday', 0], ['day', 'account', 0], ['day', 'landline', 6], ['day', 'number', 1], ['day', 'today', 0], ['day', 'sent', 0], ['day', 'tonight', 0], ['day', 'want', 1], ['day', 'chat', 0], ['day', 'stop', 7], ['day', 'friend', 0], ['day', 'meet', 0], ['day', 'start', 0], ['day', 'someone', 0], ['day', 'name', 0], ['day', 'think', 1], ['day', 'voucher', 0], ['day', 'offer', 0], ['day', 'min', 1], ['day', 'video', 0], ['day', 'phone', 2], ['day', 'babe', 0], ['day', 'tone', 0], ['day', 'line', 0], ['day', 'minute', 0], ['day', 'land', 0], ['day', 'half', 0], ['day', 'help', 0], ['day', 'heart', 0], ['day', 'love', 0], ['day', 'dear', 0], ['day', 'yeah', 0], ['day', 'hello', 0], ['day', 'cool', 0], ['day', 'work', 2], ['day', 'night', 0], ['day', 'thought', 0], ['day', 'life', 1], ['day', 'tell', 0], ['day', 'need', 2], ['day', 'care', 0], ['day', 'world', 1], ['day', 'talk', 0], ['day', 'money', 0], ['day', 'girl', 0], ['day', 'wan', 0], ['day', 'guess', 0], ['day', 'na', 0], ['day', 'people', 0], ['day', 'cant', 1], ['day', 'wish', 0], ['day', 'place', 0], ['day', 'time', 0], ['day', 'hope', 0], ['day', 'sorry', 0], ['day', 'right', 1], ['day', 'home', 2], ['day', 'thing', 0], ['day', 'wait', 1], ['day', 'pick', 0], ['day', 'mind', 1], ['day', 'class', 1], ['day', 'person', 0], ['day', 'sure', 0], ['day', 'plan', 1], ['day', 'anything', 0], ['day', 'something', 0], ['day', 'fine', 0], ['day', 'sleep', 0], ['day', 'feel', 0], ['day', 'morning', 1], ['day', 'told', 0], ['day', 'gon', 0], ['day', 'meeting', 0], ['cash', 'reply', 2], ['cash', 'cost', 9], ['cash', 'chance', 10], ['cash', 'urgent', 14], ['cash', 'pobox', 2], ['cash', 'message', 0], ['cash', 'miss', 0], ['cash', 'dont', 0], ['cash', 'thanks', 1], ['cash', 'please', 14], ['cash', 'nokia', 1], ['cash', 'tomorrow', 1], ['cash', 'year', 0], ['cash', 'stuff', 0], ['cash', 'guaranteed', 13], ['cash', 'service', 10], ['cash', 'draw', 2], ['cash', 'contact', 0], ['cash', 'show', 1], ['cash', 'holiday', 20], ['cash', 'account', 0], ['cash', 'landline', 16], ['cash', 'number', 1], ['cash', 'today', 0], ['cash', 'sent', 0], ['cash', 'tonight', 0], ['cash', 'want', 0], ['cash', 'chat', 0], ['cash', 'stop', 0], ['cash', 'friend', 0], ['cash', 'meet', 0], ['cash', 'start', 0], ['cash', 'someone', 0], ['cash', 'name', 1], ['cash', 'think', 1], ['cash', 'voucher', 3], ['cash', 'offer', 1], ['cash', 'min', 0], ['cash', 'video', 0], ['cash', 'phone', 0], ['cash', 'babe', 0], ['cash', 'tone', 0], ['cash', 'line', 0], ['cash', 'minute', 0], ['cash', 'land', 3], ['cash', 'half', 0], ['cash', 'help', 0], ['cash', 'heart', 0], ['cash', 'love', 0], ['cash', 'dear', 4], ['cash', 'yeah', 0], ['cash', 'hello', 0], ['cash', 'cool', 0], ['cash', 'work', 0], ['cash', 'night', 0], ['cash', 'thought', 0], ['cash', 'life', 0], ['cash', 'tell', 0], ['cash', 'need', 1], ['cash', 'care', 0], ['cash', 'world', 0], ['cash', 'talk', 0], ['cash', 'money', 0], ['cash', 'girl', 0], ['cash', 'wan', 0], ['cash', 'guess', 0], ['cash', 'na', 0], ['cash', 'people', 0], ['cash', 'cant', 0], ['cash', 'wish', 0], ['cash', 'place', 0], ['cash', 'time', 1], ['cash', 'hope', 1], ['cash', 'sorry', 0], ['cash', 'right', 0], ['cash', 'home', 0], ['cash', 'thing', 0], ['cash', 'wait', 0], ['cash', 'pick', 0], ['cash', 'mind', 1], ['cash', 'class', 0], ['cash', 'person', 0], ['cash', 'sure', 0], ['cash', 'plan', 0], ['cash', 'anything', 0], ['cash', 'something', 1], ['cash', 'fine', 0], ['cash', 'sleep', 0], ['cash', 'feel', 0], ['cash', 'morning', 0], ['cash', 'told', 0], ['cash', 'gon', 0], ['cash', 'meeting', 0], ['reply', 'cost', 4], ['reply', 'chance', 6], ['reply', 'urgent', 0], ['reply', 'pobox', 0], ['reply', 'message', 6], ['reply', 'miss', 0], ['reply', 'dont', 3], ['reply', 'thanks', 3], ['reply', 'please', 5], ['reply', 'nokia', 11], ['reply', 'tomorrow', 10], ['reply', 'year', 1], ['reply', 'stuff', 0], ['reply', 'guaranteed', 1], ['reply', 'service', 7], ['reply', 'draw', 0], ['reply', 'contact', 6], ['reply', 'show', 1], ['reply', 'holiday', 0], ['reply', 'account', 0], ['reply', 'landline', 0], ['reply', 'number', 2], ['reply', 'today', 5], ['reply', 'sent', 1], ['reply', 'tonight', 0], ['reply', 'want', 17], ['reply', 'chat', 2], ['reply', 'stop', 33], ['reply', 'friend', 12], ['reply', 'meet', 1], ['reply', 'start', 1], ['reply', 'someone', 1], ['reply', 'name', 3], ['reply', 'think', 3], ['reply', 'voucher', 3], ['reply', 'offer', 11], ['reply', 'min', 16], ['reply', 'video', 16], ['reply', 'phone', 14], ['reply', 'babe', 1], ['reply', 'tone', 13], ['reply', 'line', 4], ['reply', 'minute', 5], ['reply', 'land', 0], ['reply', 'half', 5], ['reply', 'help', 3], ['reply', 'heart', 0], ['reply', 'love', 2], ['reply', 'dear', 2], ['reply', 'yeah', 1], ['reply', 'hello', 2], ['reply', 'cool', 0], ['reply', 'work', 3], ['reply', 'night', 0], ['reply', 'thought', 0], ['reply', 'life', 0], ['reply', 'tell', 8], ['reply', 'need', 3], ['reply', 'care', 3], ['reply', 'world', 1], ['reply', 'talk', 0], ['reply', 'money', 1], ['reply', 'girl', 0], ['reply', 'wan', 1], ['reply', 'guess', 0], ['reply', 'na', 1], ['reply', 'people', 1], ['reply', 'cant', 0], ['reply', 'wish', 0], ['reply', 'place', 1], ['reply', 'time', 5], ['reply', 'hope', 1], ['reply', 'sorry', 4], ['reply', 'right', 2], ['reply', 'home', 2], ['reply', 'thing', 3], ['reply', 'wait', 1], ['reply', 'pick', 0], ['reply', 'mind', 2], ['reply', 'class', 0], ['reply', 'person', 1], ['reply', 'sure', 0], ['reply', 'plan', 0], ['reply', 'anything', 0], ['reply', 'something', 1], ['reply', 'fine', 0], ['reply', 'sleep', 0], ['reply', 'feel', 0], ['reply', 'morning', 2], ['reply', 'told', 0], ['reply', 'gon', 0], ['reply', 'meeting', 0], ['cost', 'chance', 2], ['cost', 'urgent', 2], ['cost', 'pobox', 8], ['cost', 'message', 0], ['cost', 'miss', 0], ['cost', 'dont', 0], ['cost', 'thanks', 2], ['cost', 'please', 1], ['cost', 'nokia', 2], ['cost', 'tomorrow', 0], ['cost', 'year', 0], ['cost', 'stuff', 0], ['cost', 'guaranteed', 3], ['cost', 'service', 2], ['cost', 'draw', 0], ['cost', 'contact', 0], ['cost', 'show', 0], ['cost', 'holiday', 6], ['cost', 'account', 0], ['cost', 'landline', 1], ['cost', 'number', 0], ['cost', 'today', 0], ['cost', 'sent', 0], ['cost', 'tonight', 0], ['cost', 'want', 3], ['cost', 'chat', 1], ['cost', 'stop', 3], ['cost', 'friend', 0], ['cost', 'meet', 2], ['cost', 'start', 0], ['cost', 'someone', 1], ['cost', 'name', 0], ['cost', 'think', 1], ['cost', 'voucher', 3], ['cost', 'offer', 0], ['cost', 'min', 8], ['cost', 'video', 2], ['cost', 'phone', 4], ['cost', 'babe', 2], ['cost', 'tone', 1], ['cost', 'line', 2], ['cost', 'minute', 0], ['cost', 'land', 0], ['cost', 'half', 0], ['cost', 'help', 1], ['cost', 'heart', 0], ['cost', 'love', 0], ['cost', 'dear', 0], ['cost', 'yeah', 0], ['cost', 'hello', 0], ['cost', 'cool', 0], ['cost', 'work', 0], ['cost', 'night', 0], ['cost', 'thought', 0], ['cost', 'life', 0], ['cost', 'tell', 0], ['cost', 'need', 1], ['cost', 'care', 0], ['cost', 'world', 0], ['cost', 'talk', 0], ['cost', 'money', 0], ['cost', 'girl', 0], ['cost', 'wan', 0], ['cost', 'guess', 0], ['cost', 'na', 0], ['cost', 'people', 0], ['cost', 'cant', 0], ['cost', 'wish', 0], ['cost', 'place', 0], ['cost', 'time', 0], ['cost', 'hope', 0], ['cost', 'sorry', 1], ['cost', 'right', 1], ['cost', 'home', 0], ['cost', 'thing', 0], ['cost', 'wait', 0], ['cost', 'pick', 0], ['cost', 'mind', 0], ['cost', 'class', 0], ['cost', 'person', 0], ['cost', 'sure', 0], ['cost', 'plan', 0], ['cost', 'anything', 1], ['cost', 'something', 1], ['cost', 'fine', 0], ['cost', 'sleep', 0], ['cost', 'feel', 0], ['cost', 'morning', 0], ['cost', 'told', 0], ['cost', 'gon', 0], ['cost', 'meeting', 0], ['chance', 'urgent', 0], ['chance', 'pobox', 4], ['chance', 'message', 0], ['chance', 'miss', 0], ['chance', 'dont', 0], ['chance', 'thanks', 0], ['chance', 'please', 1], ['chance', 'nokia', 1], ['chance', 'tomorrow', 0], ['chance', 'year', 0], ['chance', 'stuff', 0], ['chance', 'guaranteed', 0], ['chance', 'service', 0], ['chance', 'draw', 0], ['chance', 'contact', 1], ['chance', 'show', 2], ['chance', 'holiday', 0], ['chance', 'account', 0], ['chance', 'landline', 0], ['chance', 'number', 1], ['chance', 'today', 4], ['chance', 'sent', 0], ['chance', 'tonight', 0], ['chance', 'want', 1], ['chance', 'chat', 0], ['chance', 'stop', 2], ['chance', 'friend', 1], ['chance', 'meet', 0], ['chance', 'start', 0], ['chance', 'someone', 0], ['chance', 'name', 0], ['chance', 'think', 1], ['chance', 'voucher', 5], ['chance', 'offer', 5], ['chance', 'min', 0], ['chance', 'video', 0], ['chance', 'phone', 1], ['chance', 'babe', 0], ['chance', 'tone', 0], ['chance', 'line', 0], ['chance', 'minute', 0], ['chance', 'land', 0], ['chance', 'half', 0], ['chance', 'help', 0], ['chance', 'heart', 0], ['chance', 'love', 1], ['chance', 'dear', 0], ['chance', 'yeah', 0], ['chance', 'hello', 0], ['chance', 'cool', 1], ['chance', 'work', 0], ['chance', 'night', 0], ['chance', 'thought', 0], ['chance', 'life', 2], ['chance', 'tell', 0], ['chance', 'need', 1], ['chance', 'care', 0], ['chance', 'world', 0], ['chance', 'talk', 0], ['chance', 'money', 1], ['chance', 'girl', 0], ['chance', 'wan', 0], ['chance', 'guess', 0], ['chance', 'na', 0], ['chance', 'people', 0], ['chance', 'cant', 0], ['chance', 'wish', 0], ['chance', 'place', 0], ['chance', 'time', 0], ['chance', 'hope', 0], ['chance', 'sorry', 0], ['chance', 'right', 0], ['chance', 'home', 0], ['chance', 'thing', 0], ['chance', 'wait', 0], ['chance', 'pick', 0], ['chance', 'mind', 0], ['chance', 'class', 0], ['chance', 'person', 1], ['chance', 'sure', 0], ['chance', 'plan', 0], ['chance', 'anything', 1], ['chance', 'something', 0], ['chance', 'fine', 0], ['chance', 'sleep', 0], ['chance', 'feel', 0], ['chance', 'morning', 0], ['chance', 'told', 0], ['chance', 'gon', 0], ['chance', 'meeting', 0], ['urgent', 'pobox', 4], ['urgent', 'message', 5], ['urgent', 'miss', 0], ['urgent', 'dont', 1], ['urgent', 'thanks', 0], ['urgent', 'please', 12], ['urgent', 'nokia', 0], ['urgent', 'tomorrow', 0], ['urgent', 'year', 0], ['urgent', 'stuff', 0], ['urgent', 'guaranteed', 19], ['urgent', 'service', 0], ['urgent', 'draw', 12], ['urgent', 'contact', 20], ['urgent', 'show', 12], ['urgent', 'holiday', 16], ['urgent', 'account', 0], ['urgent', 'landline', 14], ['urgent', 'number', 9], ['urgent', 'today', 10], ['urgent', 'sent', 0], ['urgent', 'tonight', 0], ['urgent', 'want', 0], ['urgent', 'chat', 0], ['urgent', 'stop', 0], ['urgent', 'friend', 1], ['urgent', 'meet', 0], ['urgent', 'start', 0], ['urgent', 'someone', 0], ['urgent', 'name', 0], ['urgent', 'think', 0], ['urgent', 'voucher', 0], ['urgent', 'offer', 1], ['urgent', 'min', 2], ['urgent', 'video', 0], ['urgent', 'phone', 0], ['urgent', 'babe', 0], ['urgent', 'tone', 0], ['urgent', 'line', 15], ['urgent', 'minute', 0], ['urgent', 'land', 15], ['urgent', 'half', 0], ['urgent', 'help', 0], ['urgent', 'heart', 0], ['urgent', 'love', 0], ['urgent', 'dear', 0], ['urgent', 'yeah', 0], ['urgent', 'hello', 1], ['urgent', 'cool', 0], ['urgent', 'work', 1], ['urgent', 'night', 0], ['urgent', 'thought', 0], ['urgent', 'life', 0], ['urgent', 'tell', 0], ['urgent', 'need', 2], ['urgent', 'care', 0], ['urgent', 'world', 0], ['urgent', 'talk', 0], ['urgent', 'money', 0], ['urgent', 'girl', 0], ['urgent', 'wan', 0], ['urgent', 'guess', 0], ['urgent', 'na', 0], ['urgent', 'people', 0], ['urgent', 'cant', 0], ['urgent', 'wish', 0], ['urgent', 'place', 0], ['urgent', 'time', 0], ['urgent', 'hope', 0], ['urgent', 'sorry', 0], ['urgent', 'right', 0], ['urgent', 'home', 0], ['urgent', 'thing', 0], ['urgent', 'wait', 0], ['urgent', 'pick', 0], ['urgent', 'mind', 0], ['urgent', 'class', 0], ['urgent', 'person', 0], ['urgent', 'sure', 0], ['urgent', 'plan', 1], ['urgent', 'anything', 0], ['urgent', 'something', 0], ['urgent', 'fine', 0], ['urgent', 'sleep', 0], ['urgent', 'feel', 0], ['urgent', 'morning', 0], ['urgent', 'told', 0], ['urgent', 'gon', 0], ['urgent', 'meeting', 0], ['pobox', 'message', 0], ['pobox', 'miss', 0], ['pobox', 'dont', 0], ['pobox', 'thanks', 0], ['pobox', 'please', 0], ['pobox', 'nokia', 10], ['pobox', 'tomorrow', 0], ['pobox', 'year', 0], ['pobox', 'stuff', 0], ['pobox', 'guaranteed', 0], ['pobox', 'service', 9], ['pobox', 'draw', 0], ['pobox', 'contact', 3], ['pobox', 'show', 0], ['pobox', 'holiday', 6], ['pobox', 'account', 0], ['pobox', 'landline', 4], ['pobox', 'number', 0], ['pobox', 'today', 4], ['pobox', 'sent', 0], ['pobox', 'tonight', 0], ['pobox', 'want', 1], ['pobox', 'chat', 1], ['pobox', 'stop', 0], ['pobox', 'friend', 0], ['pobox', 'meet', 0], ['pobox', 'start', 0], ['pobox', 'someone', 10], ['pobox', 'name', 2], ['pobox', 'think', 0], ['pobox', 'voucher', 4], ['pobox', 'offer', 5], ['pobox', 'min', 6], ['pobox', 'video', 0], ['pobox', 'phone', 3], ['pobox', 'babe', 0], ['pobox', 'tone', 11], ['pobox', 'line', 2], ['pobox', 'minute', 0], ['pobox', 'land', 2], ['pobox', 'half', 0], ['pobox', 'help', 0], ['pobox', 'heart', 2], ['pobox', 'love', 2], ['pobox', 'dear', 0], ['pobox', 'yeah', 0], ['pobox', 'hello', 0], ['pobox', 'cool', 0], ['pobox', 'work', 0], ['pobox', 'night', 0], ['pobox', 'thought', 0], ['pobox', 'life', 0], ['pobox', 'tell', 7], ['pobox', 'need', 0], ['pobox', 'care', 0], ['pobox', 'world', 0], ['pobox', 'talk', 0], ['pobox', 'money', 0], ['pobox', 'girl', 0], ['pobox', 'wan', 0], ['pobox', 'guess', 2], ['pobox', 'na', 0], ['pobox', 'people', 0], ['pobox', 'cant', 2], ['pobox', 'wish', 0], ['pobox', 'place', 0], ['pobox', 'time', 0], ['pobox', 'hope', 0], ['pobox', 'sorry', 0], ['pobox', 'right', 0], ['pobox', 'home', 0], ['pobox', 'thing', 0], ['pobox', 'wait', 0], ['pobox', 'pick', 0], ['pobox', 'mind', 0], ['pobox', 'class', 0], ['pobox', 'person', 0], ['pobox', 'sure', 0], ['pobox', 'plan', 0], ['pobox', 'anything', 0], ['pobox', 'something', 0], ['pobox', 'fine', 0], ['pobox', 'sleep', 0], ['pobox', 'feel', 0], ['pobox', 'morning', 0], ['pobox', 'told', 0], ['pobox', 'gon', 0], ['pobox', 'meeting', 0], ['message', 'miss', 1], ['message', 'dont', 2], ['message', 'thanks', 2], ['message', 'please', 11], ['message', 'nokia', 1], ['message', 'tomorrow', 0], ['message', 'year', 0], ['message', 'stuff', 0], ['message', 'guaranteed', 0], ['message', 'service', 5], ['message', 'draw', 0], ['message', 'contact', 1], ['message', 'show', 1], ['message', 'holiday', 0], ['message', 'account', 1], ['message', 'landline', 0], ['message', 'number', 3], ['message', 'today', 2], ['message', 'sent', 9], ['message', 'tonight', 0], ['message', 'want', 3], ['message', 'chat', 0], ['message', 'stop', 5], ['message', 'friend', 0], ['message', 'meet', 0], ['message', 'start', 0], ['message', 'someone', 0], ['message', 'name', 6], ['message', 'think', 1], ['message', 'voucher', 0], ['message', 'offer', 2], ['message', 'min', 0], ['message', 'video', 2], ['message', 'phone', 14], ['message', 'babe', 0], ['message', 'tone', 5], ['message', 'line', 1], ['message', 'minute', 0], ['message', 'land', 0], ['message', 'half', 2], ['message', 'help', 2], ['message', 'heart', 0], ['message', 'love', 1], ['message', 'dear', 1], ['message', 'yeah', 0], ['message', 'hello', 1], ['message', 'cool', 0], ['message', 'work', 0], ['message', 'night', 1], ['message', 'thought', 2], ['message', 'life', 0], ['message', 'tell', 1], ['message', 'need', 1], ['message', 'care', 0], ['message', 'world', 0], ['message', 'talk', 1], ['message', 'money', 0], ['message', 'girl', 0], ['message', 'wan', 0], ['message', 'guess', 0], ['message', 'na', 0], ['message', 'people', 0], ['message', 'cant', 10], ['message', 'wish', 0], ['message', 'place', 0], ['message', 'time', 1], ['message', 'hope', 1], ['message', 'sorry', 0], ['message', 'right', 11], ['message', 'home', 1], ['message', 'thing', 2], ['message', 'wait', 2], ['message', 'pick', 10], ['message', 'mind', 0], ['message', 'class', 0], ['message', 'person', 0], ['message', 'sure', 0], ['message', 'plan', 1], ['message', 'anything', 0], ['message', 'something', 0], ['message', 'fine', 0], ['message', 'sleep', 0], ['message', 'feel', 1], ['message', 'morning', 0], ['message', 'told', 0], ['message', 'gon', 0], ['message', 'meeting', 0], ['miss', 'dont', 9], ['miss', 'thanks', 0], ['miss', 'please', 0], ['miss', 'nokia', 0], ['miss', 'tomorrow', 0], ['miss', 'year', 5], ['miss', 'stuff', 0], ['miss', 'guaranteed', 0], ['miss', 'service', 0], ['miss', 'draw', 0], ['miss', 'contact', 0], ['miss', 'show', 0], ['miss', 'holiday', 0], ['miss', 'account', 0], ['miss', 'landline', 0], ['miss', 'number', 2], ['miss', 'today', 4], ['miss', 'sent', 0], ['miss', 'tonight', 0], ['miss', 'want', 2], ['miss', 'chat', 0], ['miss', 'stop', 1], ['miss', 'friend', 2], ['miss', 'meet', 2], ['miss', 'start', 0], ['miss', 'someone', 1], ['miss', 'name', 0], ['miss', 'think', 5], ['miss', 'voucher', 0], ['miss', 'offer', 0], ['miss', 'min', 0], ['miss', 'video', 0], ['miss', 'phone', 1], ['miss', 'babe', 10], ['miss', 'tone', 0], ['miss', 'line', 2], ['miss', 'minute', 0], ['miss', 'land', 0], ['miss', 'half', 0], ['miss', 'help', 0], ['miss', 'heart', 0], ['miss', 'love', 14], ['miss', 'dear', 3], ['miss', 'yeah', 0], ['miss', 'hello', 4], ['miss', 'cool', 0], ['miss', 'work', 0], ['miss', 'night', 1], ['miss', 'thought', 0], ['miss', 'life', 4], ['miss', 'tell', 1], ['miss', 'need', 4], ['miss', 'care', 2], ['miss', 'world', 1], ['miss', 'talk', 1], ['miss', 'money', 1], ['miss', 'girl', 0], ['miss', 'wan', 0], ['miss', 'guess', 0], ['miss', 'na', 0], ['miss', 'people', 3], ['miss', 'cant', 0], ['miss', 'wish', 2], ['miss', 'place', 0], ['miss', 'time', 0], ['miss', 'hope', 6], ['miss', 'sorry', 2], ['miss', 'right', 0], ['miss', 'home', 0], ['miss', 'thing', 1], ['miss', 'wait', 1], ['miss', 'pick', 0], ['miss', 'mind', 1], ['miss', 'class', 0], ['miss', 'person', 0], ['miss', 'sure', 0], ['miss', 'plan', 0], ['miss', 'anything', 2], ['miss', 'something', 2], ['miss', 'fine', 2], ['miss', 'sleep', 2], ['miss', 'feel', 2], ['miss', 'morning', 1], ['miss', 'told', 0], ['miss', 'gon', 1], ['miss', 'meeting', 0], ['dont', 'thanks', 2], ['dont', 'please', 5], ['dont', 'nokia', 0], ['dont', 'tomorrow', 1], ['dont', 'year', 4], ['dont', 'stuff', 1], ['dont', 'guaranteed', 0], ['dont', 'service', 0], ['dont', 'draw', 1], ['dont', 'contact', 0], ['dont', 'show', 1], ['dont', 'holiday', 0], ['dont', 'account', 0], ['dont', 'landline', 0], ['dont', 'number', 2], ['dont', 'today', 5], ['dont', 'sent', 1], ['dont', 'tonight', 0], ['dont', 'want', 9], ['dont', 'chat', 1], ['dont', 'stop', 2], ['dont', 'friend', 4], ['dont', 'meet', 3], ['dont', 'start', 0], ['dont', 'someone', 1], ['dont', 'name', 0], ['dont', 'think', 3], ['dont', 'voucher', 0], ['dont', 'offer', 1], ['dont', 'min', 2], ['dont', 'video', 0], ['dont', 'phone', 1], ['dont', 'babe', 1], ['dont', 'tone', 1], ['dont', 'line', 0], ['dont', 'minute', 1], ['dont', 'land', 0], ['dont', 'half', 0], ['dont', 'help', 2], ['dont', 'heart', 1], ['dont', 'love', 3], ['dont', 'dear', 3], ['dont', 'yeah', 1], ['dont', 'hello', 1], ['dont', 'cool', 1], ['dont', 'work', 5], ['dont', 'night', 2], ['dont', 'thought', 0], ['dont', 'life', 3], ['dont', 'tell', 9], ['dont', 'need', 10], ['dont', 'care', 3], ['dont', 'world', 0], ['dont', 'talk', 4], ['dont', 'money', 1], ['dont', 'girl', 0], ['dont', 'wan', 0], ['dont', 'guess', 1], ['dont', 'na', 0], ['dont', 'people', 0], ['dont', 'cant', 2], ['dont', 'wish', 2], ['dont', 'place', 1], ['dont', 'time', 3], ['dont', 'hope', 2], ['dont', 'sorry', 2], ['dont', 'right', 2], ['dont', 'home', 1], ['dont', 'thing', 6], ['dont', 'wait', 1], ['dont', 'pick', 1], ['dont', 'mind', 1], ['dont', 'class', 1], ['dont', 'person', 3], ['dont', 'sure', 2], ['dont', 'plan', 3], ['dont', 'anything', 5], ['dont', 'something', 3], ['dont', 'fine', 0], ['dont', 'sleep', 2], ['dont', 'feel', 3], ['dont', 'morning', 0], ['dont', 'told', 4], ['dont', 'gon', 0], ['dont', 'meeting', 0], ['thanks', 'please', 7], ['thanks', 'nokia', 0], ['thanks', 'tomorrow', 1], ['thanks', 'year', 1], ['thanks', 'stuff', 1], ['thanks', 'guaranteed', 0], ['thanks', 'service', 8], ['thanks', 'draw', 1], ['thanks', 'contact', 0], ['thanks', 'show', 0], ['thanks', 'holiday', 0], ['thanks', 'account', 1], ['thanks', 'landline', 0], ['thanks', 'number', 5], ['thanks', 'today', 2], ['thanks', 'sent', 0], ['thanks', 'tonight', 0], ['thanks', 'want', 0], ['thanks', 'chat', 0], ['thanks', 'stop', 1], ['thanks', 'friend', 3], ['thanks', 'meet', 0], ['thanks', 'start', 0], ['thanks', 'someone', 0], ['thanks', 'name', 1], ['thanks', 'think', 3], ['thanks', 'voucher', 0], ['thanks', 'offer', 0], ['thanks', 'min', 0], ['thanks', 'video', 1], ['thanks', 'phone', 0], ['thanks', 'babe', 3], ['thanks', 'tone', 5], ['thanks', 'line', 0], ['thanks', 'minute', 3], ['thanks', 'land', 0], ['thanks', 'half', 0], ['thanks', 'help', 2], ['thanks', 'heart', 0], ['thanks', 'love', 3], ['thanks', 'dear', 1], ['thanks', 'yeah', 0], ['thanks', 'hello', 0], ['thanks', 'cool', 0], ['thanks', 'work', 0], ['thanks', 'night', 2], ['thanks', 'thought', 1], ['thanks', 'life', 1], ['thanks', 'tell', 3], ['thanks', 'need', 2], ['thanks', 'care', 0], ['thanks', 'world', 0], ['thanks', 'talk', 1], ['thanks', 'money', 3], ['thanks', 'girl', 0], ['thanks', 'wan', 0], ['thanks', 'guess', 0], ['thanks', 'na', 0], ['thanks', 'people', 0], ['thanks', 'cant', 0], ['thanks', 'wish', 1], ['thanks', 'place', 1], ['thanks', 'time', 0], ['thanks', 'hope', 3], ['thanks', 'sorry', 0], ['thanks', 'right', 1], ['thanks', 'home', 0], ['thanks', 'thing', 1], ['thanks', 'wait', 0], ['thanks', 'pick', 0], ['thanks', 'mind', 0], ['thanks', 'class', 0], ['thanks', 'person', 0], ['thanks', 'sure', 1], ['thanks', 'plan', 0], ['thanks', 'anything', 1], ['thanks', 'something', 1], ['thanks', 'fine', 1], ['thanks', 'sleep', 1], ['thanks', 'feel', 0], ['thanks', 'morning', 0], ['thanks', 'told', 0], ['thanks', 'gon', 0], ['thanks', 'meeting', 0], ['please', 'nokia', 1], ['please', 'tomorrow', 1], ['please', 'year', 1], ['please', 'stuff', 0], ['please', 'guaranteed', 6], ['please', 'service', 15], ['please', 'draw', 1], ['please', 'contact', 1], ['please', 'show', 0], ['please', 'holiday', 8], ['please', 'account', 1], ['please', 'landline', 8], ['please', 'number', 15], ['please', 'today', 9], ['please', 'sent', 0], ['please', 'tonight', 0], ['please', 'want', 5], ['please', 'chat', 0], ['please', 'stop', 2], ['please', 'friend', 1], ['please', 'meet', 0], ['please', 'start', 1], ['please', 'someone', 2], ['please', 'name', 0], ['please', 'think', 0], ['please', 'voucher', 3], ['please', 'offer', 4], ['please', 'min', 0], ['please', 'video', 0], ['please', 'phone', 1], ['please', 'babe', 0], ['please', 'tone', 6], ['please', 'line', 0], ['please', 'minute', 1], ['please', 'land', 0], ['please', 'half', 0], ['please', 'help', 2], ['please', 'heart', 0], ['please', 'love', 1], ['please', 'dear', 5], ['please', 'yeah', 0], ['please', 'hello', 0], ['please', 'cool', 2], ['please', 'work', 2], ['please', 'night', 1], ['please', 'thought', 0], ['please', 'life', 2], ['please', 'tell', 7], ['please', 'need', 3], ['please', 'care', 1], ['please', 'world', 0], ['please', 'talk', 0], ['please', 'money', 0], ['please', 'girl', 0], ['please', 'wan', 1], ['please', 'guess', 0], ['please', 'na', 1], ['please', 'people', 0], ['please', 'cant', 0], ['please', 'wish', 1], ['please', 'place', 0], ['please', 'time', 1], ['please', 'hope', 2], ['please', 'sorry', 7], ['please', 'right', 1], ['please', 'home', 2], ['please', 'thing', 3], ['please', 'wait', 1], ['please', 'pick', 1], ['please', 'mind', 0], ['please', 'class', 0], ['please', 'person', 0], ['please', 'sure', 0], ['please', 'plan', 0], ['please', 'anything', 0], ['please', 'something', 3], ['please', 'fine', 0], ['please', 'sleep', 1], ['please', 'feel', 1], ['please', 'morning', 1], ['please', 'told', 0], ['please', 'gon', 1], ['please', 'meeting', 0], ['nokia', 'tomorrow', 3], ['nokia', 'year', 0], ['nokia', 'stuff', 0], ['nokia', 'guaranteed', 5], ['nokia', 'service', 0], ['nokia', 'draw', 0], ['nokia', 'contact', 1], ['nokia', 'show', 0], ['nokia', 'holiday', 0], ['nokia', 'account', 0], ['nokia', 'landline', 0], ['nokia', 'number', 0], ['nokia', 'today', 5], ['nokia', 'sent', 0], ['nokia', 'tonight', 0], ['nokia', 'want', 5], ['nokia', 'chat', 0], ['nokia', 'stop', 0], ['nokia', 'friend', 2], ['nokia', 'meet', 0], ['nokia', 'start', 4], ['nokia', 'someone', 0], ['nokia', 'name', 0], ['nokia', 'think', 0], ['nokia', 'voucher', 0], ['nokia', 'offer', 7], ['nokia', 'min', 12], ['nokia', 'video', 2], ['nokia', 'phone', 14], ['nokia', 'babe', 0], ['nokia', 'tone', 13], ['nokia', 'line', 0], ['nokia', 'minute', 5], ['nokia', 'land', 5], ['nokia', 'half', 0], ['nokia', 'help', 0], ['nokia', 'heart', 0], ['nokia', 'love', 0], ['nokia', 'dear', 0], ['nokia', 'yeah', 0], ['nokia', 'hello', 0], ['nokia', 'cool', 0], ['nokia', 'work', 0], ['nokia', 'night', 0], ['nokia', 'thought', 0], ['nokia', 'life', 0], ['nokia', 'tell', 9], ['nokia', 'need', 0], ['nokia', 'care', 0], ['nokia', 'world', 0], ['nokia', 'talk', 0], ['nokia', 'money', 0], ['nokia', 'girl', 0], ['nokia', 'wan', 0], ['nokia', 'guess', 0], ['nokia', 'na', 0], ['nokia', 'people', 0], ['nokia', 'cant', 0], ['nokia', 'wish', 0], ['nokia', 'place', 0], ['nokia', 'time', 0], ['nokia', 'hope', 0], ['nokia', 'sorry', 0], ['nokia', 'right', 0], ['nokia', 'home', 0], ['nokia', 'thing', 0], ['nokia', 'wait', 0], ['nokia', 'pick', 0], ['nokia', 'mind', 0], ['nokia', 'class', 0], ['nokia', 'person', 0], ['nokia', 'sure', 0], ['nokia', 'plan', 0], ['nokia', 'anything', 0], ['nokia', 'something', 0], ['nokia', 'fine', 0], ['nokia', 'sleep', 0], ['nokia', 'feel', 0], ['nokia', 'morning', 0], ['nokia', 'told', 0], ['nokia', 'gon', 0], ['nokia', 'meeting', 0], ['tomorrow', 'year', 0], ['tomorrow', 'stuff', 1], ['tomorrow', 'guaranteed', 0], ['tomorrow', 'service', 0], ['tomorrow', 'draw', 0], ['tomorrow', 'contact', 2], ['tomorrow', 'show', 0], ['tomorrow', 'holiday', 0], ['tomorrow', 'account', 0], ['tomorrow', 'landline', 0], ['tomorrow', 'number', 1], ['tomorrow', 'today', 4], ['tomorrow', 'sent', 1], ['tomorrow', 'tonight', 3], ['tomorrow', 'want', 8], ['tomorrow', 'chat', 0], ['tomorrow', 'stop', 1], ['tomorrow', 'friend', 0], ['tomorrow', 'meet', 1], ['tomorrow', 'start', 0], ['tomorrow', 'someone', 0], ['tomorrow', 'name', 0], ['tomorrow', 'think', 1], ['tomorrow', 'voucher', 0], ['tomorrow', 'offer', 1], ['tomorrow', 'min', 7], ['tomorrow', 'video', 6], ['tomorrow', 'phone', 7], ['tomorrow', 'babe', 0], ['tomorrow', 'tone', 0], ['tomorrow', 'line', 2], ['tomorrow', 'minute', 2], ['tomorrow', 'land', 0], ['tomorrow', 'half', 2], ['tomorrow', 'help', 1], ['tomorrow', 'heart', 4], ['tomorrow', 'love', 6], ['tomorrow', 'dear', 1], ['tomorrow', 'yeah', 1], ['tomorrow', 'hello', 0], ['tomorrow', 'cool', 0], ['tomorrow', 'work', 3], ['tomorrow', 'night', 5], ['tomorrow', 'thought', 1], ['tomorrow', 'life', 1], ['tomorrow', 'tell', 1], ['tomorrow', 'need', 5], ['tomorrow', 'care', 2], ['tomorrow', 'world', 0], ['tomorrow', 'talk', 1], ['tomorrow', 'money', 0], ['tomorrow', 'girl', 0], ['tomorrow', 'wan', 0], ['tomorrow', 'guess', 0], ['tomorrow', 'na', 0], ['tomorrow', 'people', 5], ['tomorrow', 'cant', 0], ['tomorrow', 'wish', 0], ['tomorrow', 'place', 2], ['tomorrow', 'time', 4], ['tomorrow', 'hope', 3], ['tomorrow', 'sorry', 1], ['tomorrow', 'right', 1], ['tomorrow', 'home', 2], ['tomorrow', 'thing', 0], ['tomorrow', 'wait', 1], ['tomorrow', 'pick', 1], ['tomorrow', 'mind', 0], ['tomorrow', 'class', 2], ['tomorrow', 'person', 1], ['tomorrow', 'sure', 0], ['tomorrow', 'plan', 0], ['tomorrow', 'anything', 0], ['tomorrow', 'something', 1], ['tomorrow', 'fine', 0], ['tomorrow', 'sleep', 1], ['tomorrow', 'feel', 0], ['tomorrow', 'morning', 2], ['tomorrow', 'told', 0], ['tomorrow', 'gon', 1], ['tomorrow', 'meeting', 2], ['year', 'stuff', 1], ['year', 'guaranteed', 0], ['year', 'service', 1], ['year', 'draw', 2], ['year', 'contact', 0], ['year', 'show', 0], ['year', 'holiday', 1], ['year', 'account', 0], ['year', 'landline', 0], ['year', 'number', 2], ['year', 'today', 1], ['year', 'sent', 0], ['year', 'tonight', 0], ['year', 'want', 0], ['year', 'chat', 3], ['year', 'stop', 0], ['year', 'friend', 0], ['year', 'meet', 1], ['year', 'start', 0], ['year', 'someone', 1], ['year', 'name', 0], ['year', 'think', 2], ['year', 'voucher', 0], ['year', 'offer', 0], ['year', 'min', 0], ['year', 'video', 0], ['year', 'phone', 1], ['year', 'babe', 2], ['year', 'tone', 0], ['year', 'line', 0], ['year', 'minute', 0], ['year', 'land', 3], ['year', 'half', 1], ['year', 'help', 0], ['year', 'heart', 0], ['year', 'love', 3], ['year', 'dear', 1], ['year', 'yeah', 0], ['year', 'hello', 0], ['year', 'cool', 0], ['year', 'work', 2], ['year', 'night', 3], ['year', 'thought', 0], ['year', 'life', 3], ['year', 'tell', 2], ['year', 'need', 1], ['year', 'care', 0], ['year', 'world', 0], ['year', 'talk', 2], ['year', 'money', 3], ['year', 'girl', 0], ['year', 'wan', 0], ['year', 'guess', 0], ['year', 'na', 0], ['year', 'people', 1], ['year', 'cant', 0], ['year', 'wish', 2], ['year', 'place', 1], ['year', 'time', 3], ['year', 'hope', 6], ['year', 'sorry', 1], ['year', 'right', 0], ['year', 'home', 0], ['year', 'thing', 2], ['year', 'wait', 2], ['year', 'pick', 0], ['year', 'mind', 0], ['year', 'class', 0], ['year', 'person', 1], ['year', 'sure', 0], ['year', 'plan', 4], ['year', 'anything', 1], ['year', 'something', 1], ['year', 'fine', 0], ['year', 'sleep', 0], ['year', 'feel', 0], ['year', 'morning', 4], ['year', 'told', 1], ['year', 'gon', 0], ['year', 'meeting', 1], ['stuff', 'guaranteed', 0], ['stuff', 'service', 1], ['stuff', 'draw', 0], ['stuff', 'contact', 0], ['stuff', 'show', 0], ['stuff', 'holiday', 0], ['stuff', 'account', 0], ['stuff', 'landline', 0], ['stuff', 'number', 1], ['stuff', 'today', 1], ['stuff', 'sent', 0], ['stuff', 'tonight', 0], ['stuff', 'want', 1], ['stuff', 'chat', 0], ['stuff', 'stop', 1], ['stuff', 'friend', 2], ['stuff', 'meet', 0], ['stuff', 'start', 0], ['stuff', 'someone', 0], ['stuff', 'name', 0], ['stuff', 'think', 0], ['stuff', 'voucher', 0], ['stuff', 'offer', 0], ['stuff', 'min', 0], ['stuff', 'video', 0], ['stuff', 'phone', 1], ['stuff', 'babe', 0], ['stuff', 'tone', 0], ['stuff', 'line', 0], ['stuff', 'minute', 0], ['stuff', 'land', 0], ['stuff', 'half', 0], ['stuff', 'help', 1], ['stuff', 'heart', 0], ['stuff', 'love', 0], ['stuff', 'dear', 0], ['stuff', 'yeah', 2], ['stuff', 'hello', 0], ['stuff', 'cool', 0], ['stuff', 'work', 1], ['stuff', 'night', 0], ['stuff', 'thought', 0], ['stuff', 'life', 0], ['stuff', 'tell', 2], ['stuff', 'need', 2], ['stuff', 'care', 1], ['stuff', 'world', 0], ['stuff', 'talk', 1], ['stuff', 'money', 2], ['stuff', 'girl', 0], ['stuff', 'wan', 0], ['stuff', 'guess', 0], ['stuff', 'na', 0], ['stuff', 'people', 1], ['stuff', 'cant', 0], ['stuff', 'wish', 0], ['stuff', 'place', 0], ['stuff', 'time', 4], ['stuff', 'hope', 0], ['stuff', 'sorry', 1], ['stuff', 'right', 0], ['stuff', 'home', 2], ['stuff', 'thing', 1], ['stuff', 'wait', 1], ['stuff', 'pick', 0], ['stuff', 'mind', 0], ['stuff', 'class', 0], ['stuff', 'person', 0], ['stuff', 'sure', 1], ['stuff', 'plan', 0], ['stuff', 'anything', 0], ['stuff', 'something', 0], ['stuff', 'fine', 1], ['stuff', 'sleep', 1], ['stuff', 'feel', 0], ['stuff', 'morning', 0], ['stuff', 'told', 0], ['stuff', 'gon', 0], ['stuff', 'meeting', 0], ['guaranteed', 'service', 10], ['guaranteed', 'draw', 18], ['guaranteed', 'contact', 15], ['guaranteed', 'show', 14], ['guaranteed', 'holiday', 0], ['guaranteed', 'account', 0], ['guaranteed', 'landline', 1], ['guaranteed', 'number', 8], ['guaranteed', 'today', 9], ['guaranteed', 'sent', 0], ['guaranteed', 'tonight', 0], ['guaranteed', 'want', 0], ['guaranteed', 'chat', 0], ['guaranteed', 'stop', 2], ['guaranteed', 'friend', 0], ['guaranteed', 'meet', 0], ['guaranteed', 'start', 0], ['guaranteed', 'someone', 0], ['guaranteed', 'name', 0], ['guaranteed', 'think', 1], ['guaranteed', 'voucher', 4], ['guaranteed', 'offer', 0], ['guaranteed', 'min', 1], ['guaranteed', 'video', 0], ['guaranteed', 'phone', 4], ['guaranteed', 'babe', 0], ['guaranteed', 'tone', 0], ['guaranteed', 'line', 15], ['guaranteed', 'minute', 0], ['guaranteed', 'land', 15], ['guaranteed', 'half', 0], ['guaranteed', 'help', 0], ['guaranteed', 'heart', 0], ['guaranteed', 'love', 0], ['guaranteed', 'dear', 0], ['guaranteed', 'yeah', 0], ['guaranteed', 'hello', 0], ['guaranteed', 'cool', 0], ['guaranteed', 'work', 0], ['guaranteed', 'night', 0], ['guaranteed', 'thought', 0], ['guaranteed', 'life', 0], ['guaranteed', 'tell', 0], ['guaranteed', 'need', 0], ['guaranteed', 'care', 0], ['guaranteed', 'world', 0], ['guaranteed', 'talk', 0], ['guaranteed', 'money', 0], ['guaranteed', 'girl', 0], ['guaranteed', 'wan', 0], ['guaranteed', 'guess', 0], ['guaranteed', 'na', 0], ['guaranteed', 'people', 0], ['guaranteed', 'cant', 0], ['guaranteed', 'wish', 0], ['guaranteed', 'place', 0], ['guaranteed', 'time', 0], ['guaranteed', 'hope', 0], ['guaranteed', 'sorry', 0], ['guaranteed', 'right', 0], ['guaranteed', 'home', 0], ['guaranteed', 'thing', 0], ['guaranteed', 'wait', 0], ['guaranteed', 'pick', 0], ['guaranteed', 'mind', 0], ['guaranteed', 'class', 0], ['guaranteed', 'person', 0], ['guaranteed', 'sure', 0], ['guaranteed', 'plan', 0], ['guaranteed', 'anything', 0], ['guaranteed', 'something', 0], ['guaranteed', 'fine', 0], ['guaranteed', 'sleep', 0], ['guaranteed', 'feel', 0], ['guaranteed', 'morning', 0], ['guaranteed', 'told', 0], ['guaranteed', 'gon', 0], ['guaranteed', 'meeting', 0], ['service', 'draw', 1], ['service', 'contact', 7], ['service', 'show', 1], ['service', 'holiday', 0], ['service', 'account', 1], ['service', 'landline', 5], ['service', 'number', 5], ['service', 'today', 0], ['service', 'sent', 1], ['service', 'tonight', 0], ['service', 'want', 0], ['service', 'chat', 5], ['service', 'stop', 21], ['service', 'friend', 1], ['service', 'meet', 1], ['service', 'start', 0], ['service', 'someone', 11], ['service', 'name', 0], ['service', 'think', 0], ['service', 'voucher', 0], ['service', 'offer', 1], ['service', 'min', 1], ['service', 'video', 1], ['service', 'phone', 8], ['service', 'babe', 1], ['service', 'tone', 7], ['service', 'line', 2], ['service', 'minute', 0], ['service', 'land', 2], ['service', 'half', 0], ['service', 'help', 4], ['service', 'heart', 0], ['service', 'love', 1], ['service', 'dear', 0], ['service', 'yeah', 0], ['service', 'hello', 0], ['service', 'cool', 1], ['service', 'work', 0], ['service', 'night', 1], ['service', 'thought', 0], ['service', 'life', 0], ['service', 'tell', 0], ['service', 'need', 0], ['service', 'care', 1], ['service', 'world', 2], ['service', 'talk', 1], ['service', 'money', 0], ['service', 'girl', 4], ['service', 'wan', 0], ['service', 'guess', 4], ['service', 'na', 0], ['service', 'people', 0], ['service', 'cant', 4], ['service', 'wish', 0], ['service', 'place', 1], ['service', 'time', 0], ['service', 'hope', 0], ['service', 'sorry', 1], ['service', 'right', 0], ['service', 'home', 0], ['service', 'thing', 0], ['service', 'wait', 0], ['service', 'pick', 0], ['service', 'mind', 0], ['service', 'class', 0], ['service', 'person', 0], ['service', 'sure', 0], ['service', 'plan', 0], ['service', 'anything', 0], ['service', 'something', 0], ['service', 'fine', 0], ['service', 'sleep', 0], ['service', 'feel', 0], ['service', 'morning', 0], ['service', 'told', 0], ['service', 'gon', 0], ['service', 'meeting', 0], ['draw', 'contact', 14], ['draw', 'show', 15], ['draw', 'holiday', 1], ['draw', 'account', 0], ['draw', 'landline', 0], ['draw', 'number', 0], ['draw', 'today', 9], ['draw', 'sent', 0], ['draw', 'tonight', 0], ['draw', 'want', 0], ['draw', 'chat', 0], ['draw', 'stop', 4], ['draw', 'friend', 0], ['draw', 'meet', 0], ['draw', 'start', 0], ['draw', 'someone', 1], ['draw', 'name', 1], ['draw', 'think', 1], ['draw', 'voucher', 16], ['draw', 'offer', 0], ['draw', 'min', 0], ['draw', 'video', 0], ['draw', 'phone', 0], ['draw', 'babe', 0], ['draw', 'tone', 0], ['draw', 'line', 9], ['draw', 'minute', 0], ['draw', 'land', 9], ['draw', 'half', 0], ['draw', 'help', 0], ['draw', 'heart', 0], ['draw', 'love', 0], ['draw', 'dear', 1], ['draw', 'yeah', 0], ['draw', 'hello', 0], ['draw', 'cool', 0], ['draw', 'work', 0], ['draw', 'night', 0], ['draw', 'thought', 0], ['draw', 'life', 0], ['draw', 'tell', 0], ['draw', 'need', 0], ['draw', 'care', 0], ['draw', 'world', 0], ['draw', 'talk', 0], ['draw', 'money', 1], ['draw', 'girl', 0], ['draw', 'wan', 0], ['draw', 'guess', 0], ['draw', 'na', 0], ['draw', 'people', 0], ['draw', 'cant', 0], ['draw', 'wish', 0], ['draw', 'place', 1], ['draw', 'time', 0], ['draw', 'hope', 0], ['draw', 'sorry', 0], ['draw', 'right', 0], ['draw', 'home', 0], ['draw', 'thing', 0], ['draw', 'wait', 0], ['draw', 'pick', 0], ['draw', 'mind', 0], ['draw', 'class', 0], ['draw', 'person', 0], ['draw', 'sure', 0], ['draw', 'plan', 0], ['draw', 'anything', 0], ['draw', 'something', 0], ['draw', 'fine', 0], ['draw', 'sleep', 0], ['draw', 'feel', 0], ['draw', 'morning', 0], ['draw', 'told', 0], ['draw', 'gon', 0], ['draw', 'meeting', 0], ['contact', 'show', 14], ['contact', 'holiday', 0], ['contact', 'account', 1], ['contact', 'landline', 2], ['contact', 'number', 1], ['contact', 'today', 9], ['contact', 'sent', 1], ['contact', 'tonight', 0], ['contact', 'want', 0], ['contact', 'chat', 4], ['contact', 'stop', 1], ['contact', 'friend', 0], ['contact', 'meet', 0], ['contact', 'start', 0], ['contact', 'someone', 5], ['contact', 'name', 0], ['contact', 'think', 8], ['contact', 'voucher', 0], ['contact', 'offer', 6], ['contact', 'min', 5], ['contact', 'video', 5], ['contact', 'phone', 4], ['contact', 'babe', 0], ['contact', 'tone', 0], ['contact', 'line', 10], ['contact', 'minute', 2], ['contact', 'land', 12], ['contact', 'half', 2], ['contact', 'help', 0], ['contact', 'heart', 0], ['contact', 'love', 0], ['contact', 'dear', 5], ['contact', 'yeah', 0], ['contact', 'hello', 0], ['contact', 'cool', 1], ['contact', 'work', 0], ['contact', 'night', 0], ['contact', 'thought', 0], ['contact', 'life', 0], ['contact', 'tell', 0], ['contact', 'need', 0], ['contact', 'care', 0], ['contact', 'world', 0], ['contact', 'talk', 0], ['contact', 'money', 0], ['contact', 'girl', 0], ['contact', 'wan', 0], ['contact', 'guess', 4], ['contact', 'na', 0], ['contact', 'people', 2], ['contact', 'cant', 4], ['contact', 'wish', 0], ['contact', 'place', 2], ['contact', 'time', 6], ['contact', 'hope', 0], ['contact', 'sorry', 0], ['contact', 'right', 0], ['contact', 'home', 0], ['contact', 'thing', 0], ['contact', 'wait', 0], ['contact', 'pick', 0], ['contact', 'mind', 0], ['contact', 'class', 0], ['contact', 'person', 0], ['contact', 'sure', 0], ['contact', 'plan', 0], ['contact', 'anything', 0], ['contact', 'something', 0], ['contact', 'fine', 0], ['contact', 'sleep', 0], ['contact', 'feel', 0], ['contact', 'morning', 0], ['contact', 'told', 0], ['contact', 'gon', 0], ['contact', 'meeting', 0], ['show', 'holiday', 1], ['show', 'account', 16], ['show', 'landline', 0], ['show', 'number', 3], ['show', 'today', 9], ['show', 'sent', 0], ['show', 'tonight', 0], ['show', 'want', 2], ['show', 'chat', 0], ['show', 'stop', 0], ['show', 'friend', 1], ['show', 'meet', 0], ['show', 'start', 0], ['show', 'someone', 1], ['show', 'name', 1], ['show', 'think', 0], ['show', 'voucher', 0], ['show', 'offer', 2], ['show', 'min', 0], ['show', 'video', 0], ['show', 'phone', 1], ['show', 'babe', 0], ['show', 'tone', 1], ['show', 'line', 9], ['show', 'minute', 0], ['show', 'land', 9], ['show', 'half', 1], ['show', 'help', 0], ['show', 'heart', 0], ['show', 'love', 1], ['show', 'dear', 0], ['show', 'yeah', 0], ['show', 'hello', 0], ['show', 'cool', 0], ['show', 'work', 2], ['show', 'night', 0], ['show', 'thought', 0], ['show', 'life', 0], ['show', 'tell', 0], ['show', 'need', 0], ['show', 'care', 1], ['show', 'world', 2], ['show', 'talk', 0], ['show', 'money', 0], ['show', 'girl', 0], ['show', 'wan', 0], ['show', 'guess', 1], ['show', 'na', 0], ['show', 'people', 0], ['show', 'cant', 0], ['show', 'wish', 0], ['show', 'place', 1], ['show', 'time', 1], ['show', 'hope', 0], ['show', 'sorry', 0], ['show', 'right', 1], ['show', 'home', 0], ['show', 'thing', 1], ['show', 'wait', 0], ['show', 'pick', 1], ['show', 'mind', 0], ['show', 'class', 0], ['show', 'person', 0], ['show', 'sure', 1], ['show', 'plan', 0], ['show', 'anything', 0], ['show', 'something', 0], ['show', 'fine', 0], ['show', 'sleep', 0], ['show', 'feel', 1], ['show', 'morning', 0], ['show', 'told', 0], ['show', 'gon', 0], ['show', 'meeting', 0], ['holiday', 'account', 0], ['holiday', 'landline', 15], ['holiday', 'number', 1], ['holiday', 'today', 3], ['holiday', 'sent', 0], ['holiday', 'tonight', 0], ['holiday', 'want', 1], ['holiday', 'chat', 0], ['holiday', 'stop', 2], ['holiday', 'friend', 0], ['holiday', 'meet', 0], ['holiday', 'start', 3], ['holiday', 'someone', 0], ['holiday', 'name', 0], ['holiday', 'think', 0], ['holiday', 'voucher', 1], ['holiday', 'offer', 1], ['holiday', 'min', 6], ['holiday', 'video', 0], ['holiday', 'phone', 0], ['holiday', 'babe', 0], ['holiday', 'tone', 0], ['holiday', 'line', 0], ['holiday', 'minute', 0], ['holiday', 'land', 0], ['holiday', 'half', 0], ['holiday', 'help', 0], ['holiday', 'heart', 0], ['holiday', 'love', 0], ['holiday', 'dear', 5], ['holiday', 'yeah', 0], ['holiday', 'hello', 0], ['holiday', 'cool', 0], ['holiday', 'work', 3], ['holiday', 'night', 0], ['holiday', 'thought', 0], ['holiday', 'life', 0], ['holiday', 'tell', 1], ['holiday', 'need', 1], ['holiday', 'care', 0], ['holiday', 'world', 0], ['holiday', 'talk', 0], ['holiday', 'money', 0], ['holiday', 'girl', 0], ['holiday', 'wan', 0], ['holiday', 'guess', 0], ['holiday', 'na', 0], ['holiday', 'people', 0], ['holiday', 'cant', 0], ['holiday', 'wish', 0], ['holiday', 'place', 0], ['holiday', 'time', 0], ['holiday', 'hope', 1], ['holiday', 'sorry', 0], ['holiday', 'right', 0], ['holiday', 'home', 0], ['holiday', 'thing', 0], ['holiday', 'wait', 0], ['holiday', 'pick', 0], ['holiday', 'mind', 0], ['holiday', 'class', 1], ['holiday', 'person', 0], ['holiday', 'sure', 0], ['holiday', 'plan', 0], ['holiday', 'anything', 0], ['holiday', 'something', 0], ['holiday', 'fine', 0], ['holiday', 'sleep', 0], ['holiday', 'feel', 0], ['holiday', 'morning', 0], ['holiday', 'told', 0], ['holiday', 'gon', 1], ['holiday', 'meeting', 0], ['account', 'landline', 0], ['account', 'number', 4], ['account', 'today', 0], ['account', 'sent', 1], ['account', 'tonight', 0], ['account', 'want', 1], ['account', 'chat', 0], ['account', 'stop', 0], ['account', 'friend', 0], ['account', 'meet', 0], ['account', 'start', 0], ['account', 'someone', 1], ['account', 'name', 0], ['account', 'think', 0], ['account', 'voucher', 0], ['account', 'offer', 0], ['account', 'min', 0], ['account', 'video', 0], ['account', 'phone', 0], ['account', 'babe', 0], ['account', 'tone', 0], ['account', 'line', 0], ['account', 'minute', 0], ['account', 'land', 0], ['account', 'half', 1], ['account', 'help', 0], ['account', 'heart', 0], ['account', 'love', 0], ['account', 'dear', 0], ['account', 'yeah', 0], ['account', 'hello', 0], ['account', 'cool', 0], ['account', 'work', 0], ['account', 'night', 0], ['account', 'thought', 0], ['account', 'life', 1], ['account', 'tell', 0], ['account', 'need', 1], ['account', 'care', 0], ['account', 'world', 0], ['account', 'talk', 0], ['account', 'money', 2], ['account', 'girl', 0], ['account', 'wan', 0], ['account', 'guess', 0], ['account', 'na', 0], ['account', 'people', 0], ['account', 'cant', 0], ['account', 'wish', 0], ['account', 'place', 0], ['account', 'time', 3], ['account', 'hope', 0], ['account', 'sorry', 2], ['account', 'right', 0], ['account', 'home', 0], ['account', 'thing', 0], ['account', 'wait', 0], ['account', 'pick', 0], ['account', 'mind', 0], ['account', 'class', 0], ['account', 'person', 1], ['account', 'sure', 1], ['account', 'plan', 0], ['account', 'anything', 0], ['account', 'something', 0], ['account', 'fine', 0], ['account', 'sleep', 0], ['account', 'feel', 0], ['account', 'morning', 0], ['account', 'told', 0], ['account', 'gon', 0], ['account', 'meeting', 0], ['landline', 'number', 2], ['landline', 'today', 0], ['landline', 'sent', 0], ['landline', 'tonight', 0], ['landline', 'want', 0], ['landline', 'chat', 2], ['landline', 'stop', 0], ['landline', 'friend', 0], ['landline', 'meet', 0], ['landline', 'start', 0], ['landline', 'someone', 4], ['landline', 'name', 0], ['landline', 'think', 0], ['landline', 'voucher', 1], ['landline', 'offer', 1], ['landline', 'min', 0], ['landline', 'video', 0], ['landline', 'phone', 3], ['landline', 'babe', 0], ['landline', 'tone', 0], ['landline', 'line', 0], ['landline', 'minute', 0], ['landline', 'land', 0], ['landline', 'half', 0], ['landline', 'help', 0], ['landline', 'heart', 0], ['landline', 'love', 0], ['landline', 'dear', 3], ['landline', 'yeah', 0], ['landline', 'hello', 0], ['landline', 'cool', 0], ['landline', 'work', 0], ['landline', 'night', 0], ['landline', 'thought', 0], ['landline', 'life', 0], ['landline', 'tell', 0], ['landline', 'need', 1], ['landline', 'care', 0], ['landline', 'world', 0], ['landline', 'talk', 0], ['landline', 'money', 0], ['landline', 'girl', 0], ['landline', 'wan', 2], ['landline', 'guess', 2], ['landline', 'na', 2], ['landline', 'people', 0], ['landline', 'cant', 0], ['landline', 'wish', 0], ['landline', 'place', 0], ['landline', 'time', 0], ['landline', 'hope', 0], ['landline', 'sorry', 0], ['landline', 'right', 0], ['landline', 'home', 0], ['landline', 'thing', 0], ['landline', 'wait', 0], ['landline', 'pick', 0], ['landline', 'mind', 0], ['landline', 'class', 0], ['landline', 'person', 0], ['landline', 'sure', 0], ['landline', 'plan', 0], ['landline', 'anything', 0], ['landline', 'something', 0], ['landline', 'fine', 0], ['landline', 'sleep', 0], ['landline', 'feel', 0], ['landline', 'morning', 0], ['landline', 'told', 0], ['landline', 'gon', 0], ['landline', 'meeting', 0], ['number', 'today', 10], ['number', 'sent', 4], ['number', 'tonight', 1], ['number', 'want', 1], ['number', 'chat', 0], ['number', 'stop', 0], ['number', 'friend', 3], ['number', 'meet', 1], ['number', 'start', 0], ['number', 'someone', 1], ['number', 'name', 3], ['number', 'think', 3], ['number', 'voucher', 0], ['number', 'offer', 0], ['number', 'min', 1], ['number', 'video', 1], ['number', 'phone', 4], ['number', 'babe', 1], ['number', 'tone', 5], ['number', 'line', 10], ['number', 'minute', 2], ['number', 'land', 7], ['number', 'half', 0], ['number', 'help', 1], ['number', 'heart', 0], ['number', 'love', 0], ['number', 'dear', 3], ['number', 'yeah', 1], ['number', 'hello', 0], ['number', 'cool', 1], ['number', 'work', 1], ['number', 'night', 0], ['number', 'thought', 2], ['number', 'life', 0], ['number', 'tell', 2], ['number', 'need', 0], ['number', 'care', 0], ['number', 'world', 0], ['number', 'talk', 1], ['number', 'money', 1], ['number', 'girl', 0], ['number', 'wan', 1], ['number', 'guess', 0], ['number', 'na', 1], ['number', 'people', 0], ['number', 'cant', 2], ['number', 'wish', 0], ['number', 'place', 3], ['number', 'time', 2], ['number', 'hope', 0], ['number', 'sorry', 2], ['number', 'right', 3], ['number', 'home', 1], ['number', 'thing', 1], ['number', 'wait', 0], ['number', 'pick', 2], ['number', 'mind', 0], ['number', 'class', 0], ['number', 'person', 0], ['number', 'sure', 2], ['number', 'plan', 0], ['number', 'anything', 0], ['number', 'something', 0], ['number', 'fine', 0], ['number', 'sleep', 1], ['number', 'feel', 0], ['number', 'morning', 2], ['number', 'told', 2], ['number', 'gon', 2], ['number', 'meeting', 0], ['today', 'sent', 3], ['today', 'tonight', 0], ['today', 'want', 4], ['today', 'chat', 2], ['today', 'stop', 1], ['today', 'friend', 2], ['today', 'meet', 1], ['today', 'start', 1], ['today', 'someone', 1], ['today', 'name', 1], ['today', 'think', 6], ['today', 'voucher', 6], ['today', 'offer', 7], ['today', 'min', 0], ['today', 'video', 0], ['today', 'phone', 0], ['today', 'babe', 1], ['today', 'tone', 0], ['today', 'line', 9], ['today', 'minute', 0], ['today', 'land', 10], ['today', 'half', 0], ['today', 'help', 1], ['today', 'heart', 0], ['today', 'love', 6], ['today', 'dear', 4], ['today', 'yeah', 0], ['today', 'hello', 4], ['today', 'cool', 0], ['today', 'work', 6], ['today', 'night', 2], ['today', 'thought', 0], ['today', 'life', 0], ['today', 'tell', 2], ['today', 'need', 5], ['today', 'care', 3], ['today', 'world', 0], ['today', 'talk', 2], ['today', 'money', 2], ['today', 'girl', 1], ['today', 'wan', 1], ['today', 'guess', 0], ['today', 'na', 1], ['today', 'people', 0], ['today', 'cant', 1], ['today', 'wish', 6], ['today', 'place', 1], ['today', 'time', 6], ['today', 'hope', 7], ['today', 'sorry', 6], ['today', 'right', 1], ['today', 'home', 3], ['today', 'thing', 4], ['today', 'wait', 0], ['today', 'pick', 1], ['today', 'mind', 1], ['today', 'class', 1], ['today', 'person', 0], ['today', 'sure', 0], ['today', 'plan', 3], ['today', 'anything', 0], ['today', 'something', 2], ['today', 'fine', 0], ['today', 'sleep', 0], ['today', 'feel', 2], ['today', 'morning', 3], ['today', 'told', 3], ['today', 'gon', 3], ['today', 'meeting', 3], ['sent', 'tonight', 2], ['sent', 'want', 10], ['sent', 'chat', 0], ['sent', 'stop', 1], ['sent', 'friend', 0], ['sent', 'meet', 0], ['sent', 'start', 0], ['sent', 'someone', 0], ['sent', 'name', 2], ['sent', 'think', 2], ['sent', 'voucher', 0], ['sent', 'offer', 0], ['sent', 'min', 1], ['sent', 'video', 1], ['sent', 'phone', 2], ['sent', 'babe', 1], ['sent', 'tone', 1], ['sent', 'line', 0], ['sent', 'minute', 0], ['sent', 'land', 0], ['sent', 'half', 0], ['sent', 'help', 0], ['sent', 'heart', 1], ['sent', 'love', 0], ['sent', 'dear', 0], ['sent', 'yeah', 0], ['sent', 'hello', 0], ['sent', 'cool', 0], ['sent', 'work', 1], ['sent', 'night', 0], ['sent', 'thought', 1], ['sent', 'life', 1], ['sent', 'tell', 2], ['sent', 'need', 1], ['sent', 'care', 0], ['sent', 'world', 1], ['sent', 'talk', 1], ['sent', 'money', 1], ['sent', 'girl', 0], ['sent', 'wan', 1], ['sent', 'guess', 0], ['sent', 'na', 1], ['sent', 'people', 0], ['sent', 'cant', 1], ['sent', 'wish', 0], ['sent', 'place', 1], ['sent', 'time', 0], ['sent', 'hope', 0], ['sent', 'sorry', 1], ['sent', 'right', 1], ['sent', 'home', 3], ['sent', 'thing', 2], ['sent', 'wait', 0], ['sent', 'pick', 0], ['sent', 'mind', 1], ['sent', 'class', 0], ['sent', 'person', 2], ['sent', 'sure', 0], ['sent', 'plan', 0], ['sent', 'anything', 0], ['sent', 'something', 0], ['sent', 'fine', 0], ['sent', 'sleep', 1], ['sent', 'feel', 0], ['sent', 'morning', 0], ['sent', 'told', 0], ['sent', 'gon', 0], ['sent', 'meeting', 0], ['tonight', 'want', 5], ['tonight', 'chat', 0], ['tonight', 'stop', 2], ['tonight', 'friend', 2], ['tonight', 'meet', 0], ['tonight', 'start', 0], ['tonight', 'someone', 0], ['tonight', 'name', 0], ['tonight', 'think', 1], ['tonight', 'voucher', 0], ['tonight', 'offer', 0], ['tonight', 'min', 0], ['tonight', 'video', 0], ['tonight', 'phone', 1], ['tonight', 'babe', 1], ['tonight', 'tone', 2], ['tonight', 'line', 0], ['tonight', 'minute', 0], ['tonight', 'land', 0], ['tonight', 'half', 1], ['tonight', 'help', 0], ['tonight', 'heart', 0], ['tonight', 'love', 0], ['tonight', 'dear', 0], ['tonight', 'yeah', 1], ['tonight', 'hello', 0], ['tonight', 'cool', 3], ['tonight', 'work', 0], ['tonight', 'night', 2], ['tonight', 'thought', 0], ['tonight', 'life', 0], ['tonight', 'tell', 1], ['tonight', 'need', 1], ['tonight', 'care', 0], ['tonight', 'world', 0], ['tonight', 'talk', 0], ['tonight', 'money', 0], ['tonight', 'girl', 0], ['tonight', 'wan', 0], ['tonight', 'guess', 0], ['tonight', 'na', 0], ['tonight', 'people', 0], ['tonight', 'cant', 0], ['tonight', 'wish', 0], ['tonight', 'place', 2], ['tonight', 'time', 3], ['tonight', 'hope', 2], ['tonight', 'sorry', 1], ['tonight', 'right', 0], ['tonight', 'home', 3], ['tonight', 'thing', 1], ['tonight', 'wait', 2], ['tonight', 'pick', 3], ['tonight', 'mind', 2], ['tonight', 'class', 1], ['tonight', 'person', 0], ['tonight', 'sure', 1], ['tonight', 'plan', 2], ['tonight', 'anything', 0], ['tonight', 'something', 3], ['tonight', 'fine', 1], ['tonight', 'sleep', 1], ['tonight', 'feel', 0], ['tonight', 'morning', 0], ['tonight', 'told', 0], ['tonight', 'gon', 3], ['tonight', 'meeting', 2], ['want', 'chat', 1], ['want', 'stop', 4], ['want', 'friend', 4], ['want', 'meet', 1], ['want', 'start', 2], ['want', 'someone', 1], ['want', 'name', 0], ['want', 'think', 3], ['want', 'voucher', 0], ['want', 'offer', 0], ['want', 'min', 9], ['want', 'video', 9], ['want', 'phone', 13], ['want', 'babe', 4], ['want', 'tone', 2], ['want', 'line', 4], ['want', 'minute', 5], ['want', 'land', 0], ['want', 'half', 5], ['want', 'help', 2], ['want', 'heart', 1], ['want', 'love', 5], ['want', 'dear', 2], ['want', 'yeah', 0], ['want', 'hello', 0], ['want', 'cool', 1], ['want', 'work', 3], ['want', 'night', 4], ['want', 'thought', 0], ['want', 'life', 0], ['want', 'tell', 13], ['want', 'need', 9], ['want', 'care', 3], ['want', 'world', 1], ['want', 'talk', 2], ['want', 'money', 7], ['want', 'girl', 0], ['want', 'wan', 1], ['want', 'guess', 1], ['want', 'na', 1], ['want', 'people', 1], ['want', 'cant', 3], ['want', 'wish', 1], ['want', 'place', 1], ['want', 'time', 9], ['want', 'hope', 1], ['want', 'sorry', 5], ['want', 'right', 5], ['want', 'home', 4], ['want', 'thing', 6], ['want', 'wait', 3], ['want', 'pick', 2], ['want', 'mind', 1], ['want', 'class', 1], ['want', 'person', 3], ['want', 'sure', 5], ['want', 'plan', 2], ['want', 'anything', 4], ['want', 'something', 3], ['want', 'fine', 2], ['want', 'sleep', 3], ['want', 'feel', 4], ['want', 'morning', 2], ['want', 'told', 1], ['want', 'gon', 3], ['want', 'meeting', 2], ['chat', 'stop', 11], ['chat', 'friend', 1], ['chat', 'meet', 4], ['chat', 'start', 0], ['chat', 'someone', 0], ['chat', 'name', 2], ['chat', 'think', 0], ['chat', 'voucher', 0], ['chat', 'offer', 0], ['chat', 'min', 0], ['chat', 'video', 1], ['chat', 'phone', 3], ['chat', 'babe', 1], ['chat', 'tone', 0], ['chat', 'line', 2], ['chat', 'minute', 0], ['chat', 'land', 7], ['chat', 'half', 1], ['chat', 'help', 1], ['chat', 'heart', 0], ['chat', 'love', 2], ['chat', 'dear', 4], ['chat', 'yeah', 0], ['chat', 'hello', 1], ['chat', 'cool', 0], ['chat', 'work', 1], ['chat', 'night', 1], ['chat', 'thought', 0], ['chat', 'life', 0], ['chat', 'tell', 1], ['chat', 'need', 1], ['chat', 'care', 0], ['chat', 'world', 0], ['chat', 'talk', 0], ['chat', 'money', 1], ['chat', 'girl', 3], ['chat', 'wan', 6], ['chat', 'guess', 0], ['chat', 'na', 6], ['chat', 'people', 1], ['chat', 'cant', 0], ['chat', 'wish', 0], ['chat', 'place', 2], ['chat', 'time', 3], ['chat', 'hope', 3], ['chat', 'sorry', 0], ['chat', 'right', 1], ['chat', 'home', 3], ['chat', 'thing', 1], ['chat', 'wait', 0], ['chat', 'pick', 0], ['chat', 'mind', 0], ['chat', 'class', 0], ['chat', 'person', 1], ['chat', 'sure', 0], ['chat', 'plan', 0], ['chat', 'anything', 0], ['chat', 'something', 0], ['chat', 'fine', 0], ['chat', 'sleep', 0], ['chat', 'feel', 0], ['chat', 'morning', 0], ['chat', 'told', 0], ['chat', 'gon', 0], ['chat', 'meeting', 0], ['stop', 'friend', 6], ['stop', 'meet', 1], ['stop', 'start', 2], ['stop', 'someone', 1], ['stop', 'name', 3], ['stop', 'think', 2], ['stop', 'voucher', 5], ['stop', 'offer', 3], ['stop', 'min', 2], ['stop', 'video', 2], ['stop', 'phone', 8], ['stop', 'babe', 3], ['stop', 'tone', 11], ['stop', 'line', 3], ['stop', 'minute', 1], ['stop', 'land', 0], ['stop', 'half', 1], ['stop', 'help', 12], ['stop', 'heart', 0], ['stop', 'love', 3], ['stop', 'dear', 2], ['stop', 'yeah', 1], ['stop', 'hello', 0], ['stop', 'cool', 0], ['stop', 'work', 2], ['stop', 'night', 2], ['stop', 'thought', 0], ['stop', 'life', 0], ['stop', 'tell', 1], ['stop', 'need', 4], ['stop', 'care', 4], ['stop', 'world', 1], ['stop', 'talk', 3], ['stop', 'money', 0], ['stop', 'girl', 3], ['stop', 'wan', 2], ['stop', 'guess', 0], ['stop', 'na', 2], ['stop', 'people', 0], ['stop', 'cant', 1], ['stop', 'wish', 0], ['stop', 'place', 1], ['stop', 'time', 6], ['stop', 'hope', 4], ['stop', 'sorry', 0], ['stop', 'right', 0], ['stop', 'home', 3], ['stop', 'thing', 0], ['stop', 'wait', 2], ['stop', 'pick', 1], ['stop', 'mind', 0], ['stop', 'class', 0], ['stop', 'person', 0], ['stop', 'sure', 0], ['stop', 'plan', 0], ['stop', 'anything', 1], ['stop', 'something', 0], ['stop', 'fine', 0], ['stop', 'sleep', 1], ['stop', 'feel', 0], ['stop', 'morning', 0], ['stop', 'told', 2], ['stop', 'gon', 0], ['stop', 'meeting', 0], ['friend', 'meet', 1], ['friend', 'start', 0], ['friend', 'someone', 1], ['friend', 'name', 0], ['friend', 'think', 3], ['friend', 'voucher', 0], ['friend', 'offer', 0], ['friend', 'min', 0], ['friend', 'video', 0], ['friend', 'phone', 3], ['friend', 'babe', 0], ['friend', 'tone', 4], ['friend', 'line', 0], ['friend', 'minute', 5], ['friend', 'land', 0], ['friend', 'half', 0], ['friend', 'help', 1], ['friend', 'heart', 2], ['friend', 'love', 6], ['friend', 'dear', 3], ['friend', 'yeah', 0], ['friend', 'hello', 2], ['friend', 'cool', 0], ['friend', 'work', 3], ['friend', 'night', 2], ['friend', 'thought', 1], ['friend', 'life', 2], ['friend', 'tell', 10], ['friend', 'need', 4], ['friend', 'care', 2], ['friend', 'world', 5], ['friend', 'talk', 4], ['friend', 'money', 1], ['friend', 'girl', 1], ['friend', 'wan', 0], ['friend', 'guess', 1], ['friend', 'na', 0], ['friend', 'people', 3], ['friend', 'cant', 0], ['friend', 'wish', 2], ['friend', 'place', 0], ['friend', 'time', 4], ['friend', 'hope', 1], ['friend', 'sorry', 4], ['friend', 'right', 0], ['friend', 'home', 0], ['friend', 'thing', 2], ['friend', 'wait', 0], ['friend', 'pick', 1], ['friend', 'mind', 3], ['friend', 'class', 0], ['friend', 'person', 3], ['friend', 'sure', 2], ['friend', 'plan', 3], ['friend', 'anything', 0], ['friend', 'something', 1], ['friend', 'fine', 1], ['friend', 'sleep', 0], ['friend', 'feel', 4], ['friend', 'morning', 1], ['friend', 'told', 0], ['friend', 'gon', 0], ['friend', 'meeting', 1], ['meet', 'start', 1], ['meet', 'someone', 2], ['meet', 'name', 1], ['meet', 'think', 0], ['meet', 'voucher', 0], ['meet', 'offer', 1], ['meet', 'min', 0], ['meet', 'video', 0], ['meet', 'phone', 2], ['meet', 'babe', 0], ['meet', 'tone', 0], ['meet', 'line', 0], ['meet', 'minute', 1], ['meet', 'land', 0], ['meet', 'half', 0], ['meet', 'help', 0], ['meet', 'heart', 0], ['meet', 'love', 3], ['meet', 'dear', 0], ['meet', 'yeah', 1], ['meet', 'hello', 1], ['meet', 'cool', 0], ['meet', 'work', 1], ['meet', 'night', 2], ['meet', 'thought', 1], ['meet', 'life', 0], ['meet', 'tell', 1], ['meet', 'need', 1], ['meet', 'care', 1], ['meet', 'world', 1], ['meet', 'talk', 1], ['meet', 'money', 0], ['meet', 'girl', 0], ['meet', 'wan', 4], ['meet', 'guess', 0], ['meet', 'na', 4], ['meet', 'people', 2], ['meet', 'cant', 1], ['meet', 'wish', 1], ['meet', 'place', 2], ['meet', 'time', 3], ['meet', 'hope', 2], ['meet', 'sorry', 1], ['meet', 'right', 1], ['meet', 'home', 3], ['meet', 'thing', 0], ['meet', 'wait', 0], ['meet', 'pick', 2], ['meet', 'mind', 1], ['meet', 'class', 0], ['meet', 'person', 3], ['meet', 'sure', 0], ['meet', 'plan', 2], ['meet', 'anything', 0], ['meet', 'something', 0], ['meet', 'fine', 2], ['meet', 'sleep', 0], ['meet', 'feel', 5], ['meet', 'morning', 0], ['meet', 'told', 1], ['meet', 'gon', 0], ['meet', 'meeting', 2], ['start', 'someone', 0], ['start', 'name', 2], ['start', 'think', 0], ['start', 'voucher', 0], ['start', 'offer', 4], ['start', 'min', 0], ['start', 'video', 0], ['start', 'phone', 0], ['start', 'babe', 0], ['start', 'tone', 0], ['start', 'line', 0], ['start', 'minute', 0], ['start', 'land', 0], ['start', 'half', 0], ['start', 'help', 0], ['start', 'heart', 0], ['start', 'love', 2], ['start', 'dear', 1], ['start', 'yeah', 0], ['start', 'hello', 1], ['start', 'cool', 0], ['start', 'work', 0], ['start', 'night', 0], ['start', 'thought', 1], ['start', 'life', 1], ['start', 'tell', 3], ['start', 'need', 2], ['start', 'care', 1], ['start', 'world', 0], ['start', 'talk', 1], ['start', 'money', 0], ['start', 'girl', 1], ['start', 'wan', 0], ['start', 'guess', 0], ['start', 'na', 0], ['start', 'people', 1], ['start', 'cant', 0], ['start', 'wish', 0], ['start', 'place', 0], ['start', 'time', 1], ['start', 'hope', 0], ['start', 'sorry', 0], ['start', 'right', 0], ['start', 'home', 0], ['start', 'thing', 3], ['start', 'wait', 1], ['start', 'pick', 0], ['start', 'mind', 0], ['start', 'class', 0], ['start', 'person', 0], ['start', 'sure', 1], ['start', 'plan', 0], ['start', 'anything', 0], ['start', 'something', 1], ['start', 'fine', 0], ['start', 'sleep', 0], ['start', 'feel', 1], ['start', 'morning', 2], ['start', 'told', 0], ['start', 'gon', 2], ['start', 'meeting', 0], ['someone', 'name', 1], ['someone', 'think', 3], ['someone', 'voucher', 0], ['someone', 'offer', 0], ['someone', 'min', 0], ['someone', 'video', 0], ['someone', 'phone', 4], ['someone', 'babe', 1], ['someone', 'tone', 0], ['someone', 'line', 2], ['someone', 'minute', 0], ['someone', 'land', 2], ['someone', 'half', 0], ['someone', 'help', 1], ['someone', 'heart', 2], ['someone', 'love', 7], ['someone', 'dear', 0], ['someone', 'yeah', 0], ['someone', 'hello', 0], ['someone', 'cool', 0], ['someone', 'work', 0], ['someone', 'night', 1], ['someone', 'thought', 1], ['someone', 'life', 4], ['someone', 'tell', 2], ['someone', 'need', 3], ['someone', 'care', 0], ['someone', 'world', 0], ['someone', 'talk', 1], ['someone', 'money', 2], ['someone', 'girl', 1], ['someone', 'wan', 0], ['someone', 'guess', 4], ['someone', 'na', 0], ['someone', 'people', 0], ['someone', 'cant', 4], ['someone', 'wish', 0], ['someone', 'place', 1], ['someone', 'time', 4], ['someone', 'hope', 0], ['someone', 'sorry', 1], ['someone', 'right', 2], ['someone', 'home', 0], ['someone', 'thing', 3], ['someone', 'wait', 0], ['someone', 'pick', 0], ['someone', 'mind', 0], ['someone', 'class', 0], ['someone', 'person', 2], ['someone', 'sure', 1], ['someone', 'plan', 1], ['someone', 'anything', 0], ['someone', 'something', 0], ['someone', 'fine', 1], ['someone', 'sleep', 0], ['someone', 'feel', 2], ['someone', 'morning', 0], ['someone', 'told', 1], ['someone', 'gon', 1], ['someone', 'meeting', 0], ['name', 'think', 0], ['name', 'voucher', 0], ['name', 'offer', 1], ['name', 'min', 0], ['name', 'video', 0], ['name', 'phone', 0], ['name', 'babe', 0], ['name', 'tone', 0], ['name', 'line', 0], ['name', 'minute', 0], ['name', 'land', 0], ['name', 'half', 0], ['name', 'help', 0], ['name', 'heart', 2], ['name', 'love', 4], ['name', 'dear', 0], ['name', 'yeah', 0], ['name', 'hello', 1], ['name', 'cool', 0], ['name', 'work', 0], ['name', 'night', 0], ['name', 'thought', 2], ['name', 'life', 2], ['name', 'tell', 1], ['name', 'need', 1], ['name', 'care', 0], ['name', 'world', 0], ['name', 'talk', 0], ['name', 'money', 0], ['name', 'girl', 4], ['name', 'wan', 0], ['name', 'guess', 0], ['name', 'na', 0], ['name', 'people', 0], ['name', 'cant', 0], ['name', 'wish', 0], ['name', 'place', 1], ['name', 'time', 1], ['name', 'hope', 0], ['name', 'sorry', 0], ['name', 'right', 0], ['name', 'home', 0], ['name', 'thing', 1], ['name', 'wait', 0], ['name', 'pick', 2], ['name', 'mind', 0], ['name', 'class', 1], ['name', 'person', 1], ['name', 'sure', 0], ['name', 'plan', 0], ['name', 'anything', 0], ['name', 'something', 0], ['name', 'fine', 0], ['name', 'sleep', 0], ['name', 'feel', 1], ['name', 'morning', 1], ['name', 'told', 1], ['name', 'gon', 0], ['name', 'meeting', 0], ['think', 'voucher', 0], ['think', 'offer', 0], ['think', 'min', 1], ['think', 'video', 1], ['think', 'phone', 3], ['think', 'babe', 5], ['think', 'tone', 0], ['think', 'line', 0], ['think', 'minute', 1], ['think', 'land', 0], ['think', 'half', 0], ['think', 'help', 1], ['think', 'heart', 1], ['think', 'love', 10], ['think', 'dear', 0], ['think', 'yeah', 1], ['think', 'hello', 4], ['think', 'cool', 1], ['think', 'work', 1], ['think', 'night', 3], ['think', 'thought', 2], ['think', 'life', 2], ['think', 'tell', 0], ['think', 'need', 6], ['think', 'care', 2], ['think', 'world', 3], ['think', 'talk', 2], ['think', 'money', 2], ['think', 'girl', 3], ['think', 'wan', 1], ['think', 'guess', 0], ['think', 'na', 1], ['think', 'people', 5], ['think', 'cant', 3], ['think', 'wish', 1], ['think', 'place', 3], ['think', 'time', 6], ['think', 'hope', 3], ['think', 'sorry', 4], ['think', 'right', 6], ['think', 'home', 1], ['think', 'thing', 7], ['think', 'wait', 1], ['think', 'pick', 1], ['think', 'mind', 1], ['think', 'class', 0], ['think', 'person', 2], ['think', 'sure', 2], ['think', 'plan', 1], ['think', 'anything', 3], ['think', 'something', 1], ['think', 'fine', 0], ['think', 'sleep', 2], ['think', 'feel', 1], ['think', 'morning', 1], ['think', 'told', 2], ['think', 'gon', 4], ['think', 'meeting', 0], ['voucher', 'offer', 11], ['voucher', 'min', 0], ['voucher', 'video', 0], ['voucher', 'phone', 0], ['voucher', 'babe', 0], ['voucher', 'tone', 0], ['voucher', 'line', 0], ['voucher', 'minute', 0], ['voucher', 'land', 0], ['voucher', 'half', 0], ['voucher', 'help', 0], ['voucher', 'heart', 0], ['voucher', 'love', 0], ['voucher', 'dear', 7], ['voucher', 'yeah', 0], ['voucher', 'hello', 0], ['voucher', 'cool', 0], ['voucher', 'work', 0], ['voucher', 'night', 0], ['voucher', 'thought', 0], ['voucher', 'life', 0], ['voucher', 'tell', 0], ['voucher', 'need', 0], ['voucher', 'care', 1], ['voucher', 'world', 0], ['voucher', 'talk', 0], ['voucher', 'money', 0], ['voucher', 'girl', 0], ['voucher', 'wan', 0], ['voucher', 'guess', 0], ['voucher', 'na', 0], ['voucher', 'people', 0], ['voucher', 'cant', 0], ['voucher', 'wish', 0], ['voucher', 'place', 0], ['voucher', 'time', 0], ['voucher', 'hope', 0], ['voucher', 'sorry', 0], ['voucher', 'right', 0], ['voucher', 'home', 0], ['voucher', 'thing', 0], ['voucher', 'wait', 0], ['voucher', 'pick', 0], ['voucher', 'mind', 0], ['voucher', 'class', 1], ['voucher', 'person', 0], ['voucher', 'sure', 0], ['voucher', 'plan', 0], ['voucher', 'anything', 0], ['voucher', 'something', 0], ['voucher', 'fine', 0], ['voucher', 'sleep', 0], ['voucher', 'feel', 0], ['voucher', 'morning', 0], ['voucher', 'told', 0], ['voucher', 'gon', 0], ['voucher', 'meeting', 0], ['offer', 'min', 11], ['offer', 'video', 5], ['offer', 'phone', 9], ['offer', 'babe', 0], ['offer', 'tone', 1], ['offer', 'line', 1], ['offer', 'minute', 0], ['offer', 'land', 0], ['offer', 'half', 2], ['offer', 'help', 1], ['offer', 'heart', 0], ['offer', 'love', 0], ['offer', 'dear', 4], ['offer', 'yeah', 0], ['offer', 'hello', 0], ['offer', 'cool', 0], ['offer', 'work', 0], ['offer', 'night', 0], ['offer', 'thought', 0], ['offer', 'life', 0], ['offer', 'tell', 0], ['offer', 'need', 0], ['offer', 'care', 0], ['offer', 'world', 0], ['offer', 'talk', 0], ['offer', 'money', 0], ['offer', 'girl', 0], ['offer', 'wan', 0], ['offer', 'guess', 0], ['offer', 'na', 0], ['offer', 'people', 0], ['offer', 'cant', 0], ['offer', 'wish', 0], ['offer', 'place', 0], ['offer', 'time', 0], ['offer', 'hope', 1], ['offer', 'sorry', 1], ['offer', 'right', 0], ['offer', 'home', 0], ['offer', 'thing', 0], ['offer', 'wait', 0], ['offer', 'pick', 0], ['offer', 'mind', 0], ['offer', 'class', 0], ['offer', 'person', 0], ['offer', 'sure', 0], ['offer', 'plan', 0], ['offer', 'anything', 0], ['offer', 'something', 0], ['offer', 'fine', 1], ['offer', 'sleep', 0], ['offer', 'feel', 0], ['offer', 'morning', 0], ['offer', 'told', 0], ['offer', 'gon', 0], ['offer', 'meeting', 0], ['min', 'video', 20], ['min', 'phone', 18], ['min', 'babe', 0], ['min', 'tone', 0], ['min', 'line', 7], ['min', 'minute', 0], ['min', 'land', 0], ['min', 'half', 8], ['min', 'help', 0], ['min', 'heart', 0], ['min', 'love', 0], ['min', 'dear', 0], ['min', 'yeah', 0], ['min', 'hello', 0], ['min', 'cool', 0], ['min', 'work', 0], ['min', 'night', 0], ['min', 'thought', 0], ['min', 'life', 1], ['min', 'tell', 0], ['min', 'need', 0], ['min', 'care', 0], ['min', 'world', 0], ['min', 'talk', 0], ['min', 'money', 0], ['min', 'girl', 0], ['min', 'wan', 0], ['min', 'guess', 0], ['min', 'na', 0], ['min', 'people', 0], ['min', 'cant', 0], ['min', 'wish', 0], ['min', 'place', 0], ['min', 'time', 2], ['min', 'hope', 1], ['min', 'sorry', 0], ['min', 'right', 0], ['min', 'home', 0], ['min', 'thing', 0], ['min', 'wait', 0], ['min', 'pick', 0], ['min', 'mind', 0], ['min', 'class', 0], ['min', 'person', 1], ['min', 'sure', 0], ['min', 'plan', 0], ['min', 'anything', 0], ['min', 'something', 0], ['min', 'fine', 0], ['min', 'sleep', 0], ['min', 'feel', 0], ['min', 'morning', 0], ['min', 'told', 0], ['min', 'gon', 0], ['min', 'meeting', 0], ['video', 'phone', 16], ['video', 'babe', 1], ['video', 'tone', 0], ['video', 'line', 7], ['video', 'minute', 0], ['video', 'land', 0], ['video', 'half', 8], ['video', 'help', 2], ['video', 'heart', 0], ['video', 'love', 0], ['video', 'dear', 0], ['video', 'yeah', 0], ['video', 'hello', 0], ['video', 'cool', 0], ['video', 'work', 1], ['video', 'night', 0], ['video', 'thought', 0], ['video', 'life', 0], ['video', 'tell', 0], ['video', 'need', 1], ['video', 'care', 0], ['video', 'world', 0], ['video', 'talk', 0], ['video', 'money', 0], ['video', 'girl', 1], ['video', 'wan', 0], ['video', 'guess', 0], ['video', 'na', 0], ['video', 'people', 0], ['video', 'cant', 0], ['video', 'wish', 0], ['video', 'place', 0], ['video', 'time', 1], ['video', 'hope', 0], ['video', 'sorry', 0], ['video', 'right', 0], ['video', 'home', 0], ['video', 'thing', 0], ['video', 'wait', 0], ['video', 'pick', 0], ['video', 'mind', 0], ['video', 'class', 0], ['video', 'person', 0], ['video', 'sure', 0], ['video', 'plan', 0], ['video', 'anything', 0], ['video', 'something', 0], ['video', 'fine', 0], ['video', 'sleep', 0], ['video', 'feel', 0], ['video', 'morning', 0], ['video', 'told', 0], ['video', 'gon', 0], ['video', 'meeting', 0], ['phone', 'babe', 2], ['phone', 'tone', 2], ['phone', 'line', 8], ['phone', 'minute', 5], ['phone', 'land', 0], ['phone', 'half', 9], ['phone', 'help', 1], ['phone', 'heart', 0], ['phone', 'love', 3], ['phone', 'dear', 0], ['phone', 'yeah', 1], ['phone', 'hello', 0], ['phone', 'cool', 1], ['phone', 'work', 1], ['phone', 'night', 1], ['phone', 'thought', 0], ['phone', 'life', 0], ['phone', 'tell', 2], ['phone', 'need', 2], ['phone', 'care', 0], ['phone', 'world', 0], ['phone', 'talk', 3], ['phone', 'money', 0], ['phone', 'girl', 2], ['phone', 'wan', 1], ['phone', 'guess', 0], ['phone', 'na', 1], ['phone', 'people', 0], ['phone', 'cant', 11], ['phone', 'wish', 0], ['phone', 'place', 1], ['phone', 'time', 3], ['phone', 'hope', 0], ['phone', 'sorry', 2], ['phone', 'right', 11], ['phone', 'home', 1], ['phone', 'thing', 1], ['phone', 'wait', 0], ['phone', 'pick', 11], ['phone', 'mind', 0], ['phone', 'class', 0], ['phone', 'person', 0], ['phone', 'sure', 0], ['phone', 'plan', 1], ['phone', 'anything', 1], ['phone', 'something', 1], ['phone', 'fine', 1], ['phone', 'sleep', 1], ['phone', 'feel', 0], ['phone', 'morning', 0], ['phone', 'told', 0], ['phone', 'gon', 1], ['phone', 'meeting', 1], ['babe', 'tone', 1], ['babe', 'line', 0], ['babe', 'minute', 0], ['babe', 'land', 0], ['babe', 'half', 0], ['babe', 'help', 1], ['babe', 'heart', 0], ['babe', 'love', 15], ['babe', 'dear', 0], ['babe', 'yeah', 0], ['babe', 'hello', 1], ['babe', 'cool', 0], ['babe', 'work', 1], ['babe', 'night', 2], ['babe', 'thought', 1], ['babe', 'life', 0], ['babe', 'tell', 0], ['babe', 'need', 6], ['babe', 'care', 1], ['babe', 'world', 0], ['babe', 'talk', 1], ['babe', 'money', 3], ['babe', 'girl', 0], ['babe', 'wan', 2], ['babe', 'guess', 0], ['babe', 'na', 2], ['babe', 'people', 0], ['babe', 'cant', 0], ['babe', 'wish', 3], ['babe', 'place', 1], ['babe', 'time', 1], ['babe', 'hope', 8], ['babe', 'sorry', 2], ['babe', 'right', 1], ['babe', 'home', 5], ['babe', 'thing', 1], ['babe', 'wait', 0], ['babe', 'pick', 1], ['babe', 'mind', 0], ['babe', 'class', 1], ['babe', 'person', 1], ['babe', 'sure', 0], ['babe', 'plan', 0], ['babe', 'anything', 0], ['babe', 'something', 1], ['babe', 'fine', 2], ['babe', 'sleep', 3], ['babe', 'feel', 2], ['babe', 'morning', 0], ['babe', 'told', 0], ['babe', 'gon', 0], ['babe', 'meeting', 0], ['tone', 'line', 0], ['tone', 'minute', 0], ['tone', 'land', 0], ['tone', 'half', 0], ['tone', 'help', 3], ['tone', 'heart', 0], ['tone', 'love', 0], ['tone', 'dear', 0], ['tone', 'yeah', 1], ['tone', 'hello', 0], ['tone', 'cool', 1], ['tone', 'work', 0], ['tone', 'night', 0], ['tone', 'thought', 0], ['tone', 'life', 0], ['tone', 'tell', 14], ['tone', 'need', 3], ['tone', 'care', 0], ['tone', 'world', 0], ['tone', 'talk', 0], ['tone', 'money', 0], ['tone', 'girl', 0], ['tone', 'wan', 0], ['tone', 'guess', 0], ['tone', 'na', 0], ['tone', 'people', 0], ['tone', 'cant', 0], ['tone', 'wish', 0], ['tone', 'place', 0], ['tone', 'time', 0], ['tone', 'hope', 2], ['tone', 'sorry', 0], ['tone', 'right', 0], ['tone', 'home', 0], ['tone', 'thing', 0], ['tone', 'wait', 0], ['tone', 'pick', 0], ['tone', 'mind', 0], ['tone', 'class', 0], ['tone', 'person', 0], ['tone', 'sure', 0], ['tone', 'plan', 0], ['tone', 'anything', 0], ['tone', 'something', 0], ['tone', 'fine', 0], ['tone', 'sleep', 0], ['tone', 'feel', 0], ['tone', 'morning', 0], ['tone', 'told', 0], ['tone', 'gon', 0], ['tone', 'meeting', 0], ['line', 'minute', 2], ['line', 'land', 18], ['line', 'half', 11], ['line', 'help', 0], ['line', 'heart', 1], ['line', 'love', 2], ['line', 'dear', 0], ['line', 'yeah', 0], ['line', 'hello', 0], ['line', 'cool', 0], ['line', 'work', 0], ['line', 'night', 0], ['line', 'thought', 0], ['line', 'life', 2], ['line', 'tell', 0], ['line', 'need', 0], ['line', 'care', 0], ['line', 'world', 0], ['line', 'talk', 0], ['line', 'money', 0], ['line', 'girl', 1], ['line', 'wan', 0], ['line', 'guess', 0], ['line', 'na', 0], ['line', 'people', 0], ['line', 'cant', 0], ['line', 'wish', 0], ['line', 'place', 0], ['line', 'time', 1], ['line', 'hope', 0], ['line', 'sorry', 1], ['line', 'right', 0], ['line', 'home', 0], ['line', 'thing', 0], ['line', 'wait', 1], ['line', 'pick', 0], ['line', 'mind', 0], ['line', 'class', 0], ['line', 'person', 0], ['line', 'sure', 0], ['line', 'plan', 0], ['line', 'anything', 2], ['line', 'something', 1], ['line', 'fine', 0], ['line', 'sleep', 0], ['line', 'feel', 0], ['line', 'morning', 0], ['line', 'told', 0], ['line', 'gon', 0], ['line', 'meeting', 0], ['minute', 'land', 0], ['minute', 'half', 0], ['minute', 'help', 0], ['minute', 'heart', 0], ['minute', 'love', 0], ['minute', 'dear', 0], ['minute', 'yeah', 2], ['minute', 'hello', 0], ['minute', 'cool', 0], ['minute', 'work', 2], ['minute', 'night', 0], ['minute', 'thought', 0], ['minute', 'life', 0], ['minute', 'tell', 1], ['minute', 'need', 1], ['minute', 'care', 0], ['minute', 'world', 0], ['minute', 'talk', 0], ['minute', 'money', 0], ['minute', 'girl', 0], ['minute', 'wan', 0], ['minute', 'guess', 0], ['minute', 'na', 0], ['minute', 'people', 0], ['minute', 'cant', 0], ['minute', 'wish', 2], ['minute', 'place', 0], ['minute', 'time', 4], ['minute', 'hope', 0], ['minute', 'sorry', 0], ['minute', 'right', 0], ['minute', 'home', 2], ['minute', 'thing', 1], ['minute', 'wait', 0], ['minute', 'pick', 0], ['minute', 'mind', 4], ['minute', 'class', 1], ['minute', 'person', 0], ['minute', 'sure', 1], ['minute', 'plan', 0], ['minute', 'anything', 0], ['minute', 'something', 0], ['minute', 'fine', 0], ['minute', 'sleep', 0], ['minute', 'feel', 0], ['minute', 'morning', 0], ['minute', 'told', 0], ['minute', 'gon', 0], ['minute', 'meeting', 0], ['land', 'half', 0], ['land', 'help', 0], ['land', 'heart', 0], ['land', 'love', 0], ['land', 'dear', 3], ['land', 'yeah', 0], ['land', 'hello', 0], ['land', 'cool', 0], ['land', 'work', 0], ['land', 'night', 1], ['land', 'thought', 0], ['land', 'life', 0], ['land', 'tell', 0], ['land', 'need', 0], ['land', 'care', 0], ['land', 'world', 0], ['land', 'talk', 0], ['land', 'money', 0], ['land', 'girl', 0], ['land', 'wan', 0], ['land', 'guess', 0], ['land', 'na', 0], ['land', 'people', 0], ['land', 'cant', 0], ['land', 'wish', 0], ['land', 'place', 0], ['land', 'time', 0], ['land', 'hope', 0], ['land', 'sorry', 0], ['land', 'right', 0], ['land', 'home', 0], ['land', 'thing', 0], ['land', 'wait', 0], ['land', 'pick', 0], ['land', 'mind', 0], ['land', 'class', 0], ['land', 'person', 0], ['land', 'sure', 0], ['land', 'plan', 0], ['land', 'anything', 0], ['land', 'something', 0], ['land', 'fine', 0], ['land', 'sleep', 0], ['land', 'feel', 0], ['land', 'morning', 0], ['land', 'told', 0], ['land', 'gon', 0], ['land', 'meeting', 0], ['half', 'help', 0], ['half', 'heart', 0], ['half', 'love', 0], ['half', 'dear', 0], ['half', 'yeah', 0], ['half', 'hello', 0], ['half', 'cool', 0], ['half', 'work', 2], ['half', 'night', 0], ['half', 'thought', 0], ['half', 'life', 0], ['half', 'tell', 1], ['half', 'need', 1], ['half', 'care', 0], ['half', 'world', 1], ['half', 'talk', 0], ['half', 'money', 0], ['half', 'girl', 0], ['half', 'wan', 0], ['half', 'guess', 1], ['half', 'na', 0], ['half', 'people', 0], ['half', 'cant', 0], ['half', 'wish', 0], ['half', 'place', 0], ['half', 'time', 2], ['half', 'hope', 1], ['half', 'sorry', 2], ['half', 'right', 0], ['half', 'home', 2], ['half', 'thing', 1], ['half', 'wait', 0], ['half', 'pick', 0], ['half', 'mind', 1], ['half', 'class', 0], ['half', 'person', 0], ['half', 'sure', 1], ['half', 'plan', 0], ['half', 'anything', 0], ['half', 'something', 0], ['half', 'fine', 0], ['half', 'sleep', 0], ['half', 'feel', 0], ['half', 'morning', 0], ['half', 'told', 0], ['half', 'gon', 0], ['half', 'meeting', 0], ['help', 'heart', 1], ['help', 'love', 1], ['help', 'dear', 0], ['help', 'yeah', 0], ['help', 'hello', 0], ['help', 'cool', 0], ['help', 'work', 1], ['help', 'night', 0], ['help', 'thought', 0], ['help', 'life', 1], ['help', 'tell', 2], ['help', 'need', 4], ['help', 'care', 1], ['help', 'world', 0], ['help', 'talk', 0], ['help', 'money', 1], ['help', 'girl', 1], ['help', 'wan', 0], ['help', 'guess', 0], ['help', 'na', 0], ['help', 'people', 0], ['help', 'cant', 1], ['help', 'wish', 0], ['help', 'place', 1], ['help', 'time', 0], ['help', 'hope', 3], ['help', 'sorry', 2], ['help', 'right', 0], ['help', 'home', 2], ['help', 'thing', 2], ['help', 'wait', 0], ['help', 'pick', 0], ['help', 'mind', 1], ['help', 'class', 0], ['help', 'person', 0], ['help', 'sure', 1], ['help', 'plan', 1], ['help', 'anything', 1], ['help', 'something', 1], ['help', 'fine', 0], ['help', 'sleep', 1], ['help', 'feel', 1], ['help', 'morning', 1], ['help', 'told', 0], ['help', 'gon', 0], ['help', 'meeting', 1], ['heart', 'love', 10], ['heart', 'dear', 3], ['heart', 'yeah', 0], ['heart', 'hello', 1], ['heart', 'cool', 0], ['heart', 'work', 0], ['heart', 'night', 3], ['heart', 'thought', 0], ['heart', 'life', 5], ['heart', 'tell', 0], ['heart', 'need', 6], ['heart', 'care', 2], ['heart', 'world', 2], ['heart', 'talk', 0], ['heart', 'money', 0], ['heart', 'girl', 0], ['heart', 'wan', 0], ['heart', 'guess', 0], ['heart', 'na', 0], ['heart', 'people', 4], ['heart', 'cant', 0], ['heart', 'wish', 1], ['heart', 'place', 2], ['heart', 'time', 1], ['heart', 'hope', 0], ['heart', 'sorry', 0], ['heart', 'right', 0], ['heart', 'home', 0], ['heart', 'thing', 0], ['heart', 'wait', 1], ['heart', 'pick', 0], ['heart', 'mind', 4], ['heart', 'class', 0], ['heart', 'person', 0], ['heart', 'sure', 0], ['heart', 'plan', 0], ['heart', 'anything', 0], ['heart', 'something', 0], ['heart', 'fine', 0], ['heart', 'sleep', 0], ['heart', 'feel', 3], ['heart', 'morning', 0], ['heart', 'told', 0], ['heart', 'gon', 0], ['heart', 'meeting', 0], ['love', 'dear', 2], ['love', 'yeah', 1], ['love', 'hello', 4], ['love', 'cool', 0], ['love', 'work', 3], ['love', 'night', 6], ['love', 'thought', 3], ['love', 'life', 12], ['love', 'tell', 4], ['love', 'need', 11], ['love', 'care', 2], ['love', 'world', 4], ['love', 'talk', 2], ['love', 'money', 1], ['love', 'girl', 3], ['love', 'wan', 0], ['love', 'guess', 0], ['love', 'na', 0], ['love', 'people', 6], ['love', 'cant', 2], ['love', 'wish', 6], ['love', 'place', 0], ['love', 'time', 5], ['love', 'hope', 14], ['love', 'sorry', 3], ['love', 'right', 1], ['love', 'home', 3], ['love', 'thing', 5], ['love', 'wait', 2], ['love', 'pick', 0], ['love', 'mind', 2], ['love', 'class', 0], ['love', 'person', 7], ['love', 'sure', 0], ['love', 'plan', 0], ['love', 'anything', 0], ['love', 'something', 0], ['love', 'fine', 3], ['love', 'sleep', 3], ['love', 'feel', 5], ['love', 'morning', 5], ['love', 'told', 2], ['love', 'gon', 1], ['love', 'meeting', 0], ['dear', 'yeah', 0], ['dear', 'hello', 0], ['dear', 'cool', 0], ['dear', 'work', 2], ['dear', 'night', 2], ['dear', 'thought', 0], ['dear', 'life', 1], ['dear', 'tell', 5], ['dear', 'need', 0], ['dear', 'care', 5], ['dear', 'world', 3], ['dear', 'talk', 3], ['dear', 'money', 0], ['dear', 'girl', 0], ['dear', 'wan', 0], ['dear', 'guess', 0], ['dear', 'na', 0], ['dear', 'people', 0], ['dear', 'cant', 0], ['dear', 'wish', 0], ['dear', 'place', 1], ['dear', 'time', 0], ['dear', 'hope', 0], ['dear', 'sorry', 1], ['dear', 'right', 0], ['dear', 'home', 1], ['dear', 'thing', 1], ['dear', 'wait', 0], ['dear', 'pick', 1], ['dear', 'mind', 0], ['dear', 'class', 1], ['dear', 'person', 0], ['dear', 'sure', 0], ['dear', 'plan', 1], ['dear', 'anything', 0], ['dear', 'something', 1], ['dear', 'fine', 0], ['dear', 'sleep', 1], ['dear', 'feel', 1], ['dear', 'morning', 6], ['dear', 'told', 0], ['dear', 'gon', 0], ['dear', 'meeting', 0], ['yeah', 'hello', 1], ['yeah', 'cool', 0], ['yeah', 'work', 3], ['yeah', 'night', 2], ['yeah', 'thought', 1], ['yeah', 'life', 0], ['yeah', 'tell', 1], ['yeah', 'need', 1], ['yeah', 'care', 0], ['yeah', 'world', 0], ['yeah', 'talk', 0], ['yeah', 'money', 1], ['yeah', 'girl', 0], ['yeah', 'wan', 1], ['yeah', 'guess', 0], ['yeah', 'na', 1], ['yeah', 'people', 1], ['yeah', 'cant', 0], ['yeah', 'wish', 0], ['yeah', 'place', 1], ['yeah', 'time', 1], ['yeah', 'hope', 0], ['yeah', 'sorry', 0], ['yeah', 'right', 0], ['yeah', 'home', 1], ['yeah', 'thing', 3], ['yeah', 'wait', 1], ['yeah', 'pick', 1], ['yeah', 'mind', 0], ['yeah', 'class', 0], ['yeah', 'person', 0], ['yeah', 'sure', 5], ['yeah', 'plan', 1], ['yeah', 'anything', 2], ['yeah', 'something', 1], ['yeah', 'fine', 2], ['yeah', 'sleep', 0], ['yeah', 'feel', 0], ['yeah', 'morning', 0], ['yeah', 'told', 0], ['yeah', 'gon', 1], ['yeah', 'meeting', 0], ['hello', 'cool', 1], ['hello', 'work', 1], ['hello', 'night', 1], ['hello', 'thought', 2], ['hello', 'life', 0], ['hello', 'tell', 2], ['hello', 'need', 2], ['hello', 'care', 0], ['hello', 'world', 1], ['hello', 'talk', 0], ['hello', 'money', 0], ['hello', 'girl', 1], ['hello', 'wan', 0], ['hello', 'guess', 0], ['hello', 'na', 0], ['hello', 'people', 0], ['hello', 'cant', 0], ['hello', 'wish', 1], ['hello', 'place', 0], ['hello', 'time', 0], ['hello', 'hope', 1], ['hello', 'sorry', 2], ['hello', 'right', 0], ['hello', 'home', 2], ['hello', 'thing', 2], ['hello', 'wait', 1], ['hello', 'pick', 0], ['hello', 'mind', 0], ['hello', 'class', 0], ['hello', 'person', 1], ['hello', 'sure', 0], ['hello', 'plan', 1], ['hello', 'anything', 2], ['hello', 'something', 1], ['hello', 'fine', 1], ['hello', 'sleep', 0], ['hello', 'feel', 0], ['hello', 'morning', 0], ['hello', 'told', 0], ['hello', 'gon', 0], ['hello', 'meeting', 0], ['cool', 'work', 0], ['cool', 'night', 1], ['cool', 'thought', 0], ['cool', 'life', 2], ['cool', 'tell', 0], ['cool', 'need', 0], ['cool', 'care', 2], ['cool', 'world', 0], ['cool', 'talk', 0], ['cool', 'money', 0], ['cool', 'girl', 0], ['cool', 'wan', 0], ['cool', 'guess', 0], ['cool', 'na', 0], ['cool', 'people', 1], ['cool', 'cant', 0], ['cool', 'wish', 1], ['cool', 'place', 2], ['cool', 'time', 3], ['cool', 'hope', 0], ['cool', 'sorry', 0], ['cool', 'right', 0], ['cool', 'home', 2], ['cool', 'thing', 0], ['cool', 'wait', 0], ['cool', 'pick', 1], ['cool', 'mind', 0], ['cool', 'class', 0], ['cool', 'person', 0], ['cool', 'sure', 0], ['cool', 'plan', 0], ['cool', 'anything', 0], ['cool', 'something', 1], ['cool', 'fine', 0], ['cool', 'sleep', 0], ['cool', 'feel', 0], ['cool', 'morning', 0], ['cool', 'told', 0], ['cool', 'gon', 1], ['cool', 'meeting', 0], ['work', 'night', 2], ['work', 'thought', 0], ['work', 'life', 0], ['work', 'tell', 5], ['work', 'need', 6], ['work', 'care', 0], ['work', 'world', 0], ['work', 'talk', 0], ['work', 'money', 3], ['work', 'girl', 0], ['work', 'wan', 0], ['work', 'guess', 0], ['work', 'na', 0], ['work', 'people', 1], ['work', 'cant', 1], ['work', 'wish', 5], ['work', 'place', 3], ['work', 'time', 4], ['work', 'hope', 3], ['work', 'sorry', 0], ['work', 'right', 2], ['work', 'home', 6], ['work', 'thing', 5], ['work', 'wait', 0], ['work', 'pick', 0], ['work', 'mind', 2], ['work', 'class', 1], ['work', 'person', 0], ['work', 'sure', 1], ['work', 'plan', 1], ['work', 'anything', 2], ['work', 'something', 2], ['work', 'fine', 2], ['work', 'sleep', 3], ['work', 'feel', 2], ['work', 'morning', 0], ['work', 'told', 0], ['work', 'gon', 1], ['work', 'meeting', 4], ['night', 'thought', 1], ['night', 'life', 2], ['night', 'tell', 2], ['night', 'need', 3], ['night', 'care', 2], ['night', 'world', 0], ['night', 'talk', 0], ['night', 'money', 0], ['night', 'girl', 2], ['night', 'wan', 1], ['night', 'guess', 1], ['night', 'na', 1], ['night', 'people', 0], ['night', 'cant', 1], ['night', 'wish', 3], ['night', 'place', 0], ['night', 'time', 12], ['night', 'hope', 4], ['night', 'sorry', 2], ['night', 'right', 1], ['night', 'home', 1], ['night', 'thing', 2], ['night', 'wait', 1], ['night', 'pick', 0], ['night', 'mind', 3], ['night', 'class', 0], ['night', 'person', 2], ['night', 'sure', 3], ['night', 'plan', 0], ['night', 'anything', 2], ['night', 'something', 0], ['night', 'fine', 2], ['night', 'sleep', 10], ['night', 'feel', 4], ['night', 'morning', 2], ['night', 'told', 0], ['night', 'gon', 2], ['night', 'meeting', 1], ['thought', 'life', 2], ['thought', 'tell', 2], ['thought', 'need', 2], ['thought', 'care', 1], ['thought', 'world', 0], ['thought', 'talk', 0], ['thought', 'money', 0], ['thought', 'girl', 1], ['thought', 'wan', 2], ['thought', 'guess', 0], ['thought', 'na', 2], ['thought', 'people', 0], ['thought', 'cant', 0], ['thought', 'wish', 1], ['thought', 'place', 1], ['thought', 'time', 1], ['thought', 'hope', 0], ['thought', 'sorry', 1], ['thought', 'right', 0], ['thought', 'home', 0], ['thought', 'thing', 5], ['thought', 'wait', 0], ['thought', 'pick', 0], ['thought', 'mind', 0], ['thought', 'class', 0], ['thought', 'person', 0], ['thought', 'sure', 1], ['thought', 'plan', 0], ['thought', 'anything', 2], ['thought', 'something', 1], ['thought', 'fine', 1], ['thought', 'sleep', 1], ['thought', 'feel', 1], ['thought', 'morning', 2], ['thought', 'told', 1], ['thought', 'gon', 1], ['thought', 'meeting', 0], ['life', 'tell', 1], ['life', 'need', 4], ['life', 'care', 2], ['life', 'world', 3], ['life', 'talk', 0], ['life', 'money', 1], ['life', 'girl', 1], ['life', 'wan', 0], ['life', 'guess', 0], ['life', 'na', 0], ['life', 'people', 5], ['life', 'cant', 0], ['life', 'wish', 0], ['life', 'place', 0], ['life', 'time', 4], ['life', 'hope', 0], ['life', 'sorry', 0], ['life', 'right', 0], ['life', 'home', 2], ['life', 'thing', 4], ['life', 'wait', 1], ['life', 'pick', 0], ['life', 'mind', 2], ['life', 'class', 0], ['life', 'person', 3], ['life', 'sure', 1], ['life', 'plan', 1], ['life', 'anything', 3], ['life', 'something', 1], ['life', 'fine', 1], ['life', 'sleep', 1], ['life', 'feel', 4], ['life', 'morning', 3], ['life', 'told', 0], ['life', 'gon', 0], ['life', 'meeting', 0], ['tell', 'need', 15], ['tell', 'care', 1], ['tell', 'world', 0], ['tell', 'talk', 0], ['tell', 'money', 3], ['tell', 'girl', 2], ['tell', 'wan', 0], ['tell', 'guess', 0], ['tell', 'na', 0], ['tell', 'people', 1], ['tell', 'cant', 2], ['tell', 'wish', 0], ['tell', 'place', 0], ['tell', 'time', 10], ['tell', 'hope', 1], ['tell', 'sorry', 2], ['tell', 'right', 1], ['tell', 'home', 3], ['tell', 'thing', 6], ['tell', 'wait', 2], ['tell', 'pick', 1], ['tell', 'mind', 2], ['tell', 'class', 0], ['tell', 'person', 0], ['tell', 'sure', 3], ['tell', 'plan', 3], ['tell', 'anything', 7], ['tell', 'something', 4], ['tell', 'fine', 0], ['tell', 'sleep', 2], ['tell', 'feel', 3], ['tell', 'morning', 2], ['tell', 'told', 4], ['tell', 'gon', 1], ['tell', 'meeting', 0], ['need', 'care', 3], ['need', 'world', 1], ['need', 'talk', 1], ['need', 'money', 6], ['need', 'girl', 3], ['need', 'wan', 1], ['need', 'guess', 0], ['need', 'na', 1], ['need', 'people', 5], ['need', 'cant', 1], ['need', 'wish', 0], ['need', 'place', 1], ['need', 'time', 6], ['need', 'hope', 2], ['need', 'sorry', 0], ['need', 'right', 2], ['need', 'home', 3], ['need', 'thing', 5], ['need', 'wait', 1], ['need', 'pick', 2], ['need', 'mind', 2], ['need', 'class', 1], ['need', 'person', 3], ['need', 'sure', 1], ['need', 'plan', 1], ['need', 'anything', 4], ['need', 'something', 1], ['need', 'fine', 0], ['need', 'sleep', 2], ['need', 'feel', 5], ['need', 'morning', 2], ['need', 'told', 0], ['need', 'gon', 0], ['need', 'meeting', 0], ['care', 'world', 1], ['care', 'talk', 2], ['care', 'money', 2], ['care', 'girl', 1], ['care', 'wan', 0], ['care', 'guess', 0], ['care', 'na', 0], ['care', 'people', 1], ['care', 'cant', 2], ['care', 'wish', 0], ['care', 'place', 0], ['care', 'time', 3], ['care', 'hope', 4], ['care', 'sorry', 1], ['care', 'right', 2], ['care', 'home', 0], ['care', 'thing', 0], ['care', 'wait', 1], ['care', 'pick', 0], ['care', 'mind', 1], ['care', 'class', 0], ['care', 'person', 2], ['care', 'sure', 1], ['care', 'plan', 1], ['care', 'anything', 0], ['care', 'something', 1], ['care', 'fine', 1], ['care', 'sleep', 3], ['care', 'feel', 1], ['care', 'morning', 4], ['care', 'told', 1], ['care', 'gon', 0], ['care', 'meeting', 0], ['world', 'talk', 2], ['world', 'money', 1], ['world', 'girl', 1], ['world', 'wan', 0], ['world', 'guess', 1], ['world', 'na', 0], ['world', 'people', 3], ['world', 'cant', 0], ['world', 'wish', 0], ['world', 'place', 0], ['world', 'time', 1], ['world', 'hope', 0], ['world', 'sorry', 0], ['world', 'right', 2], ['world', 'home', 0], ['world', 'thing', 2], ['world', 'wait', 3], ['world', 'pick', 0], ['world', 'mind', 1], ['world', 'class', 0], ['world', 'person', 3], ['world', 'sure', 0], ['world', 'plan', 1], ['world', 'anything', 0], ['world', 'something', 0], ['world', 'fine', 0], ['world', 'sleep', 0], ['world', 'feel', 1], ['world', 'morning', 3], ['world', 'told', 1], ['world', 'gon', 0], ['world', 'meeting', 0], ['talk', 'money', 0], ['talk', 'girl', 0], ['talk', 'wan', 0], ['talk', 'guess', 0], ['talk', 'na', 0], ['talk', 'people', 1], ['talk', 'cant', 1], ['talk', 'wish', 1], ['talk', 'place', 2], ['talk', 'time', 4], ['talk', 'hope', 1], ['talk', 'sorry', 2], ['talk', 'right', 0], ['talk', 'home', 0], ['talk', 'thing', 0], ['talk', 'wait', 0], ['talk', 'pick', 0], ['talk', 'mind', 0], ['talk', 'class', 0], ['talk', 'person', 1], ['talk', 'sure', 1], ['talk', 'plan', 0], ['talk', 'anything', 0], ['talk', 'something', 0], ['talk', 'fine', 0], ['talk', 'sleep', 0], ['talk', 'feel', 1], ['talk', 'morning', 1], ['talk', 'told', 1], ['talk', 'gon', 0], ['talk', 'meeting', 0], ['money', 'girl', 0], ['money', 'wan', 0], ['money', 'guess', 0], ['money', 'na', 0], ['money', 'people', 1], ['money', 'cant', 0], ['money', 'wish', 0], ['money', 'place', 0], ['money', 'time', 1], ['money', 'hope', 0], ['money', 'sorry', 0], ['money', 'right', 1], ['money', 'home', 2], ['money', 'thing', 3], ['money', 'wait', 0], ['money', 'pick', 1], ['money', 'mind', 0], ['money', 'class', 0], ['money', 'person', 1], ['money', 'sure', 2], ['money', 'plan', 1], ['money', 'anything', 0], ['money', 'something', 1], ['money', 'fine', 0], ['money', 'sleep', 0], ['money', 'feel', 0], ['money', 'morning', 1], ['money', 'told', 1], ['money', 'gon', 2], ['money', 'meeting', 0], ['girl', 'wan', 0], ['girl', 'guess', 0], ['girl', 'na', 0], ['girl', 'people', 0], ['girl', 'cant', 0], ['girl', 'wish', 0], ['girl', 'place', 1], ['girl', 'time', 4], ['girl', 'hope', 1], ['girl', 'sorry', 1], ['girl', 'right', 0], ['girl', 'home', 0], ['girl', 'thing', 2], ['girl', 'wait', 0], ['girl', 'pick', 0], ['girl', 'mind', 2], ['girl', 'class', 0], ['girl', 'person', 1], ['girl', 'sure', 0], ['girl', 'plan', 1], ['girl', 'anything', 0], ['girl', 'something', 2], ['girl', 'fine', 0], ['girl', 'sleep', 0], ['girl', 'feel', 1], ['girl', 'morning', 1], ['girl', 'told', 1], ['girl', 'gon', 0], ['girl', 'meeting', 0], ['wan', 'guess', 2], ['wan', 'na', 31], ['wan', 'people', 0], ['wan', 'cant', 0], ['wan', 'wish', 0], ['wan', 'place', 0], ['wan', 'time', 2], ['wan', 'hope', 3], ['wan', 'sorry', 0], ['wan', 'right', 2], ['wan', 'home', 4], ['wan', 'thing', 1], ['wan', 'wait', 0], ['wan', 'pick', 0], ['wan', 'mind', 0], ['wan', 'class', 0], ['wan', 'person', 0], ['wan', 'sure', 1], ['wan', 'plan', 0], ['wan', 'anything', 0], ['wan', 'something', 2], ['wan', 'fine', 0], ['wan', 'sleep', 0], ['wan', 'feel', 0], ['wan', 'morning', 0], ['wan', 'told', 0], ['wan', 'gon', 0], ['wan', 'meeting', 0], ['guess', 'na', 2], ['guess', 'people', 0], ['guess', 'cant', 4], ['guess', 'wish', 0], ['guess', 'place', 1], ['guess', 'time', 2], ['guess', 'hope', 0], ['guess', 'sorry', 1], ['guess', 'right', 3], ['guess', 'home', 0], ['guess', 'thing', 1], ['guess', 'wait', 0], ['guess', 'pick', 0], ['guess', 'mind', 0], ['guess', 'class', 0], ['guess', 'person', 0], ['guess', 'sure', 0], ['guess', 'plan', 0], ['guess', 'anything', 0], ['guess', 'something', 2], ['guess', 'fine', 0], ['guess', 'sleep', 0], ['guess', 'feel', 0], ['guess', 'morning', 0], ['guess', 'told', 0], ['guess', 'gon', 0], ['guess', 'meeting', 0], ['na', 'people', 0], ['na', 'cant', 0], ['na', 'wish', 0], ['na', 'place', 0], ['na', 'time', 2], ['na', 'hope', 3], ['na', 'sorry', 0], ['na', 'right', 2], ['na', 'home', 4], ['na', 'thing', 1], ['na', 'wait', 0], ['na', 'pick', 0], ['na', 'mind', 0], ['na', 'class', 0], ['na', 'person', 0], ['na', 'sure', 1], ['na', 'plan', 0], ['na', 'anything', 0], ['na', 'something', 2], ['na', 'fine', 0], ['na', 'sleep', 0], ['na', 'feel', 0], ['na', 'morning', 0], ['na', 'told', 0], ['na', 'gon', 0], ['na', 'meeting', 0], ['people', 'cant', 1], ['people', 'wish', 0], ['people', 'place', 2], ['people', 'time', 1], ['people', 'hope', 1], ['people', 'sorry', 0], ['people', 'right', 1], ['people', 'home', 1], ['people', 'thing', 0], ['people', 'wait', 0], ['people', 'pick', 0], ['people', 'mind', 0], ['people', 'class', 0], ['people', 'person', 0], ['people', 'sure', 1], ['people', 'plan', 0], ['people', 'anything', 0], ['people', 'something', 1], ['people', 'fine', 0], ['people', 'sleep', 0], ['people', 'feel', 3], ['people', 'morning', 1], ['people', 'told', 0], ['people', 'gon', 0], ['people', 'meeting', 0], ['cant', 'wish', 0], ['cant', 'place', 0], ['cant', 'time', 1], ['cant', 'hope', 0], ['cant', 'sorry', 1], ['cant', 'right', 11], ['cant', 'home', 1], ['cant', 'thing', 2], ['cant', 'wait', 5], ['cant', 'pick', 10], ['cant', 'mind', 1], ['cant', 'class', 0], ['cant', 'person', 1], ['cant', 'sure', 1], ['cant', 'plan', 0], ['cant', 'anything', 0], ['cant', 'something', 0], ['cant', 'fine', 0], ['cant', 'sleep', 0], ['cant', 'feel', 0], ['cant', 'morning', 2], ['cant', 'told', 0], ['cant', 'gon', 0], ['cant', 'meeting', 1], ['wish', 'place', 2], ['wish', 'time', 0], ['wish', 'hope', 4], ['wish', 'sorry', 0], ['wish', 'right', 0], ['wish', 'home', 0], ['wish', 'thing', 0], ['wish', 'wait', 0], ['wish', 'pick', 0], ['wish', 'mind', 3], ['wish', 'class', 0], ['wish', 'person', 1], ['wish', 'sure', 0], ['wish', 'plan', 0], ['wish', 'anything', 0], ['wish', 'something', 0], ['wish', 'fine', 2], ['wish', 'sleep', 1], ['wish', 'feel', 2], ['wish', 'morning', 2], ['wish', 'told', 0], ['wish', 'gon', 1], ['wish', 'meeting', 0], ['place', 'time', 3], ['place', 'hope', 1], ['place', 'sorry', 1], ['place', 'right', 0], ['place', 'home', 0], ['place', 'thing', 2], ['place', 'wait', 1], ['place', 'pick', 2], ['place', 'mind', 1], ['place', 'class', 2], ['place', 'person', 0], ['place', 'sure', 0], ['place', 'plan', 1], ['place', 'anything', 1], ['place', 'something', 0], ['place', 'fine', 0], ['place', 'sleep', 0], ['place', 'feel', 0], ['place', 'morning', 1], ['place', 'told', 1], ['place', 'gon', 2], ['place', 'meeting', 0], ['time', 'hope', 9], ['time', 'sorry', 2], ['time', 'right', 1], ['time', 'home', 5], ['time', 'thing', 6], ['time', 'wait', 2], ['time', 'pick', 1], ['time', 'mind', 4], ['time', 'class', 3], ['time', 'person', 1], ['time', 'sure', 2], ['time', 'plan', 1], ['time', 'anything', 0], ['time', 'something', 1], ['time', 'fine', 0], ['time', 'sleep', 4], ['time', 'feel', 2], ['time', 'morning', 2], ['time', 'told', 2], ['time', 'gon', 1], ['time', 'meeting', 1], ['hope', 'sorry', 4], ['hope', 'right', 0], ['hope', 'home', 1], ['hope', 'thing', 4], ['hope', 'wait', 1], ['hope', 'pick', 0], ['hope', 'mind', 0], ['hope', 'class', 1], ['hope', 'person', 1], ['hope', 'sure', 0], ['hope', 'plan', 0], ['hope', 'anything', 0], ['hope', 'something', 0], ['hope', 'fine', 7], ['hope', 'sleep', 2], ['hope', 'feel', 0], ['hope', 'morning', 2], ['hope', 'told', 0], ['hope', 'gon', 0], ['hope', 'meeting', 0], ['sorry', 'right', 2], ['sorry', 'home', 1], ['sorry', 'thing', 3], ['sorry', 'wait', 0], ['sorry', 'pick', 0], ['sorry', 'mind', 1], ['sorry', 'class', 0], ['sorry', 'person', 2], ['sorry', 'sure', 0], ['sorry', 'plan', 1], ['sorry', 'anything', 1], ['sorry', 'something', 1], ['sorry', 'fine', 0], ['sorry', 'sleep', 1], ['sorry', 'feel', 1], ['sorry', 'morning', 2], ['sorry', 'told', 0], ['sorry', 'gon', 0], ['sorry', 'meeting', 9], ['right', 'home', 1], ['right', 'thing', 0], ['right', 'wait', 1], ['right', 'pick', 10], ['right', 'mind', 0], ['right', 'class', 2], ['right', 'person', 4], ['right', 'sure', 1], ['right', 'plan', 0], ['right', 'anything', 0], ['right', 'something', 2], ['right', 'fine', 0], ['right', 'sleep', 0], ['right', 'feel', 0], ['right', 'morning', 2], ['right', 'told', 0], ['right', 'gon', 2], ['right', 'meeting', 0], ['home', 'thing', 2], ['home', 'wait', 3], ['home', 'pick', 3], ['home', 'mind', 1], ['home', 'class', 1], ['home', 'person', 0], ['home', 'sure', 2], ['home', 'plan', 3], ['home', 'anything', 0], ['home', 'something', 2], ['home', 'fine', 1], ['home', 'sleep', 1], ['home', 'feel', 3], ['home', 'morning', 1], ['home', 'told', 0], ['home', 'gon', 1], ['home', 'meeting', 1], ['thing', 'wait', 1], ['thing', 'pick', 0], ['thing', 'mind', 3], ['thing', 'class', 0], ['thing', 'person', 0], ['thing', 'sure', 3], ['thing', 'plan', 2], ['thing', 'anything', 1], ['thing', 'something', 2], ['thing', 'fine', 1], ['thing', 'sleep', 1], ['thing', 'feel', 3], ['thing', 'morning', 3], ['thing', 'told', 2], ['thing', 'gon', 1], ['thing', 'meeting', 0], ['wait', 'pick', 1], ['wait', 'mind', 0], ['wait', 'class', 0], ['wait', 'person', 2], ['wait', 'sure', 1], ['wait', 'plan', 0], ['wait', 'anything', 0], ['wait', 'something', 0], ['wait', 'fine', 0], ['wait', 'sleep', 1], ['wait', 'feel', 0], ['wait', 'morning', 1], ['wait', 'told', 0], ['wait', 'gon', 1], ['wait', 'meeting', 0], ['pick', 'mind', 0], ['pick', 'class', 0], ['pick', 'person', 0], ['pick', 'sure', 0], ['pick', 'plan', 0], ['pick', 'anything', 0], ['pick', 'something', 2], ['pick', 'fine', 0], ['pick', 'sleep', 0], ['pick', 'feel', 0], ['pick', 'morning', 0], ['pick', 'told', 0], ['pick', 'gon', 0], ['pick', 'meeting', 0], ['mind', 'class', 0], ['mind', 'person', 0], ['mind', 'sure', 0], ['mind', 'plan', 0], ['mind', 'anything', 0], ['mind', 'something', 0], ['mind', 'fine', 0], ['mind', 'sleep', 0], ['mind', 'feel', 1], ['mind', 'morning', 0], ['mind', 'told', 0], ['mind', 'gon', 1], ['mind', 'meeting', 0], ['class', 'person', 0], ['class', 'sure', 1], ['class', 'plan', 0], ['class', 'anything', 0], ['class', 'something', 0], ['class', 'fine', 0], ['class', 'sleep', 1], ['class', 'feel', 0], ['class', 'morning', 0], ['class', 'told', 0], ['class', 'gon', 1], ['class', 'meeting', 1], ['person', 'sure', 1], ['person', 'plan', 0], ['person', 'anything', 1], ['person', 'something', 0], ['person', 'fine', 1], ['person', 'sleep', 1], ['person', 'feel', 2], ['person', 'morning', 2], ['person', 'told', 2], ['person', 'gon', 1], ['person', 'meeting', 1], ['sure', 'plan', 1], ['sure', 'anything', 0], ['sure', 'something', 1], ['sure', 'fine', 0], ['sure', 'sleep', 0], ['sure', 'feel', 0], ['sure', 'morning', 0], ['sure', 'told', 1], ['sure', 'gon', 0], ['sure', 'meeting', 0], ['plan', 'anything', 0], ['plan', 'something', 0], ['plan', 'fine', 0], ['plan', 'sleep', 0], ['plan', 'feel', 1], ['plan', 'morning', 0], ['plan', 'told', 0], ['plan', 'gon', 1], ['plan', 'meeting', 0], ['anything', 'something', 2], ['anything', 'fine', 0], ['anything', 'sleep', 2], ['anything', 'feel', 0], ['anything', 'morning', 0], ['anything', 'told', 1], ['anything', 'gon', 0], ['anything', 'meeting', 0], ['something', 'fine', 0], ['something', 'sleep', 0], ['something', 'feel', 0], ['something', 'morning', 0], ['something', 'told', 0], ['something', 'gon', 0], ['something', 'meeting', 0], ['fine', 'sleep', 0], ['fine', 'feel', 1], ['fine', 'morning', 0], ['fine', 'told', 0], ['fine', 'gon', 1], ['fine', 'meeting', 0], ['sleep', 'feel', 0], ['sleep', 'morning', 0], ['sleep', 'told', 0], ['sleep', 'gon', 0], ['sleep', 'meeting', 0], ['feel', 'morning', 3], ['feel', 'told', 0], ['feel', 'gon', 0], ['feel', 'meeting', 2], ['morning', 'told', 1], ['morning', 'gon', 0], ['morning', 'meeting', 0], ['told', 'gon', 2], ['told', 'meeting', 0], ['gon', 'meeting', 0]]\n"
          ]
        }
      ],
      "source": [
        "itemset2=[]\n",
        "for i in range(0,len(fet_con)-1):\n",
        "    for j in range(i+1,len(fet_con)):\n",
        "        itemset2.append([fet_con[i],fet_con[j],dfObj[fet_con[i]][fet_con[j]]+dfObj[fet_con[j]][fet_con[i]]])\n",
        "print(itemset2)"
      ]
    },
    {
      "cell_type": "code",
      "execution_count": null,
      "metadata": {
        "id": "WSJUTO7XV2mW",
        "outputId": "c4b38eac-e921-47fd-9821-f345d78f315e"
      },
      "outputs": [
        {
          "data": {
            "text/plain": [
              "5995"
            ]
          },
          "execution_count": 13,
          "metadata": {},
          "output_type": "execute_result"
        }
      ],
      "source": [
        "len(itemset2)"
      ]
    },
    {
      "cell_type": "code",
      "execution_count": null,
      "metadata": {
        "id": "b0Be_uTPV2mW",
        "outputId": "96288099-bb0a-48ff-8515-a0859500e2ec"
      },
      "outputs": [
        {
          "data": {
            "text/plain": [
              "[['receive', 'call', 16],\n",
              " ['receive', 'claim', 15],\n",
              " ['rate', 'text', 11],\n",
              " ['rate', 'call', 26],\n",
              " ['rate', 'claim', 15],\n",
              " ['text', 'send', 12],\n",
              " ['text', 'week', 13],\n",
              " ['text', 'call', 38],\n",
              " ['text', 'claim', 13],\n",
              " ['text', 'mobile', 31],\n",
              " ['text', 'reply', 24],\n",
              " ['text', 'message', 11],\n",
              " ['text', 'want', 18],\n",
              " ['text', 'chat', 12],\n",
              " ['text', 'stop', 41],\n",
              " ['text', 'voucher', 11],\n",
              " ['text', 'offer', 13],\n",
              " ['text', 'min', 12],\n",
              " ['text', 'video', 15],\n",
              " ['text', 'phone', 20],\n",
              " ['text', 'tone', 16],\n",
              " ['text', 'help', 15],\n",
              " ['send', 'mobile', 11],\n",
              " ['send', 'reply', 17],\n",
              " ['send', 'message', 17],\n",
              " ['send', 'stop', 30],\n",
              " ['send', 'friend', 11],\n",
              " ['send', 'phone', 16],\n",
              " ['send', 'love', 13],\n",
              " ['send', 'cant', 13],\n",
              " ['send', 'right', 12],\n",
              " ['week', 'call', 11],\n",
              " ['week', 'reply', 13],\n",
              " ['week', 'pobox', 11],\n",
              " ['week', 'tone', 19],\n",
              " ['week', 'tell', 11],\n",
              " ['call', 'prize', 71],\n",
              " ['call', 'customer', 43],\n",
              " ['call', 'claim', 79],\n",
              " ['call', 'code', 29],\n",
              " ['call', 'mobile', 72],\n",
              " ['call', 'camera', 29],\n",
              " ['call', 'cash', 40],\n",
              " ['call', 'reply', 30],\n",
              " ['call', 'cost', 21],\n",
              " ['call', 'urgent', 56],\n",
              " ['call', 'pobox', 20],\n",
              " ['call', 'message', 15],\n",
              " ['call', 'dont', 11],\n",
              " ['call', 'please', 55],\n",
              " ['call', 'nokia', 20],\n",
              " ['call', 'tomorrow', 17],\n",
              " ['call', 'guaranteed', 40],\n",
              " ['call', 'service', 39],\n",
              " ['call', 'draw', 18],\n",
              " ['call', 'contact', 52],\n",
              " ['call', 'show', 34],\n",
              " ['call', 'holiday', 26],\n",
              " ['call', 'account', 16],\n",
              " ['call', 'landline', 31],\n",
              " ['call', 'number', 34],\n",
              " ['call', 'today', 25],\n",
              " ['call', 'want', 20],\n",
              " ['call', 'chat', 14],\n",
              " ['call', 'stop', 25],\n",
              " ['call', 'someone', 13],\n",
              " ['call', 'think', 13],\n",
              " ['call', 'offer', 19],\n",
              " ['call', 'min', 43],\n",
              " ['call', 'video', 23],\n",
              " ['call', 'phone', 41],\n",
              " ['call', 'line', 37],\n",
              " ['call', 'minute', 12],\n",
              " ['call', 'land', 18],\n",
              " ['call', 'half', 13],\n",
              " ['call', 'dear', 12],\n",
              " ['call', 'tell', 11],\n",
              " ['call', 'time', 21],\n",
              " ['call', 'sorry', 35],\n",
              " ['call', 'home', 11],\n",
              " ['call', 'meeting', 13],\n",
              " ['prize', 'customer', 19],\n",
              " ['prize', 'claim', 48],\n",
              " ['prize', 'mobile', 22],\n",
              " ['prize', 'cash', 15],\n",
              " ['prize', 'urgent', 33],\n",
              " ['prize', 'guaranteed', 37],\n",
              " ['prize', 'draw', 18],\n",
              " ['prize', 'contact', 28],\n",
              " ['prize', 'show', 14],\n",
              " ['prize', 'line', 16],\n",
              " ['prize', 'land', 16],\n",
              " ['customer', 'claim', 12],\n",
              " ['customer', 'mobile', 14],\n",
              " ['customer', 'please', 16],\n",
              " ['customer', 'service', 28],\n",
              " ['claim', 'code', 16],\n",
              " ['claim', 'mobile', 21],\n",
              " ['claim', 'cash', 18],\n",
              " ['claim', 'urgent', 26],\n",
              " ['claim', 'guaranteed', 31],\n",
              " ['claim', 'draw', 17],\n",
              " ['claim', 'contact', 23],\n",
              " ['claim', 'show', 18],\n",
              " ['claim', 'number', 18],\n",
              " ['claim', 'today', 20],\n",
              " ['claim', 'stop', 15],\n",
              " ['claim', 'voucher', 12],\n",
              " ['claim', 'offer', 14],\n",
              " ['claim', 'line', 15],\n",
              " ['claim', 'land', 14],\n",
              " ['code', 'show', 21],\n",
              " ['code', 'account', 16],\n",
              " ['mobile', 'camera', 13],\n",
              " ['mobile', 'reply', 16],\n",
              " ['mobile', 'urgent', 18],\n",
              " ['mobile', 'nokia', 22],\n",
              " ['mobile', 'service', 14],\n",
              " ['mobile', 'number', 21],\n",
              " ['mobile', 'stop', 12],\n",
              " ['mobile', 'offer', 16],\n",
              " ['mobile', 'phone', 13],\n",
              " ['mobile', 'tone', 13],\n",
              " ['camera', 'phone', 15],\n",
              " ['cash', 'urgent', 14],\n",
              " ['cash', 'please', 14],\n",
              " ['cash', 'guaranteed', 13],\n",
              " ['cash', 'holiday', 20],\n",
              " ['cash', 'landline', 16],\n",
              " ['reply', 'nokia', 11],\n",
              " ['reply', 'want', 17],\n",
              " ['reply', 'stop', 33],\n",
              " ['reply', 'friend', 12],\n",
              " ['reply', 'offer', 11],\n",
              " ['reply', 'min', 16],\n",
              " ['reply', 'video', 16],\n",
              " ['reply', 'phone', 14],\n",
              " ['reply', 'tone', 13],\n",
              " ['urgent', 'please', 12],\n",
              " ['urgent', 'guaranteed', 19],\n",
              " ['urgent', 'draw', 12],\n",
              " ['urgent', 'contact', 20],\n",
              " ['urgent', 'show', 12],\n",
              " ['urgent', 'holiday', 16],\n",
              " ['urgent', 'landline', 14],\n",
              " ['urgent', 'line', 15],\n",
              " ['urgent', 'land', 15],\n",
              " ['pobox', 'tone', 11],\n",
              " ['message', 'please', 11],\n",
              " ['message', 'phone', 14],\n",
              " ['message', 'right', 11],\n",
              " ['miss', 'love', 14],\n",
              " ['please', 'service', 15],\n",
              " ['please', 'number', 15],\n",
              " ['nokia', 'min', 12],\n",
              " ['nokia', 'phone', 14],\n",
              " ['nokia', 'tone', 13],\n",
              " ['guaranteed', 'draw', 18],\n",
              " ['guaranteed', 'contact', 15],\n",
              " ['guaranteed', 'show', 14],\n",
              " ['guaranteed', 'line', 15],\n",
              " ['guaranteed', 'land', 15],\n",
              " ['service', 'stop', 21],\n",
              " ['service', 'someone', 11],\n",
              " ['draw', 'contact', 14],\n",
              " ['draw', 'show', 15],\n",
              " ['draw', 'voucher', 16],\n",
              " ['contact', 'show', 14],\n",
              " ['contact', 'land', 12],\n",
              " ['show', 'account', 16],\n",
              " ['holiday', 'landline', 15],\n",
              " ['want', 'phone', 13],\n",
              " ['want', 'tell', 13],\n",
              " ['chat', 'stop', 11],\n",
              " ['stop', 'tone', 11],\n",
              " ['stop', 'help', 12],\n",
              " ['voucher', 'offer', 11],\n",
              " ['offer', 'min', 11],\n",
              " ['min', 'video', 20],\n",
              " ['min', 'phone', 18],\n",
              " ['video', 'phone', 16],\n",
              " ['phone', 'cant', 11],\n",
              " ['phone', 'right', 11],\n",
              " ['phone', 'pick', 11],\n",
              " ['babe', 'love', 15],\n",
              " ['tone', 'tell', 14],\n",
              " ['line', 'land', 18],\n",
              " ['line', 'half', 11],\n",
              " ['love', 'life', 12],\n",
              " ['love', 'need', 11],\n",
              " ['love', 'hope', 14],\n",
              " ['night', 'time', 12],\n",
              " ['tell', 'need', 15],\n",
              " ['wan', 'na', 31],\n",
              " ['cant', 'right', 11]]"
            ]
          },
          "execution_count": 14,
          "metadata": {},
          "output_type": "execute_result"
        }
      ],
      "source": [
        "finalitemset2=list(filter(lambda x: x[2]>10,itemset2))\n",
        "finalitemset2"
      ]
    },
    {
      "cell_type": "code",
      "execution_count": null,
      "metadata": {
        "id": "nQVeUWt1V2mX"
      },
      "outputs": [],
      "source": [
        "dfis2=pd.DataFrame(finalitemset2)\n",
        "dfis2.drop([2],axis=1,inplace=True)\n",
        "dfis2=dfis2.values.tolist()"
      ]
    },
    {
      "cell_type": "markdown",
      "metadata": {
        "id": "8C4gcJdNV2mX"
      },
      "source": [
        "### Ater the positive feature set expansion, negative feature set is found by:\n",
        "### 1 If none of the item in a two itemset is present in positive feature set, then both are added to negative feature set."
      ]
    },
    {
      "cell_type": "code",
      "execution_count": null,
      "metadata": {
        "id": "RAPOHM3bV2mX",
        "outputId": "2a541c5f-8ab0-4698-8ad1-8163202ab1c6"
      },
      "outputs": [
        {
          "name": "stdout",
          "output_type": "stream",
          "text": [
            "90 195\n",
            "124 2\n"
          ]
        }
      ],
      "source": [
        "psf=list(Positive_f.keys())\n",
        "print(len(psf),len(dfis2))\n",
        "tmp=[]\n",
        "ngf=[]\n",
        "for i in psf:\n",
        "    for j in dfis2:\n",
        "        if i in j:\n",
        "            if i==j[0]:\n",
        "                tmp.append(j[1])\n",
        "            else:\n",
        "                tmp.append(j[0])\n",
        "psf.extend(tmp)\n",
        "psf=set(psf)\n",
        "for j in dfis2:\n",
        "    if j[0] not in psf and j[1] not in psf:\n",
        "        ngf.extend(j)\n",
        "#ngf=set(ngf)\n",
        "print(len(psf),len(ngf))\n",
        ""
      ]
    },
    {
      "cell_type": "code",
      "execution_count": null,
      "metadata": {
        "id": "fK51MYtcV2mX",
        "outputId": "ef2de16a-5706-461d-9e4e-0894c139d811"
      },
      "outputs": [
        {
          "data": {
            "text/plain": [
              "['wan', 'na']"
            ]
          },
          "execution_count": 17,
          "metadata": {},
          "output_type": "execute_result"
        }
      ],
      "source": [
        "ngf"
      ]
    },
    {
      "cell_type": "code",
      "execution_count": null,
      "metadata": {
        "scrolled": true,
        "id": "Gek9656yV2mX",
        "outputId": "17f65593-da20-4f16-db8b-7d7785a01ce4"
      },
      "outputs": [
        {
          "data": {
            "text/plain": [
              "{'account',\n",
              " 'afternoon',\n",
              " 'aight',\n",
              " 'anything',\n",
              " 'babe',\n",
              " 'call',\n",
              " 'camera',\n",
              " 'cant',\n",
              " 'care',\n",
              " 'cash',\n",
              " 'chat',\n",
              " 'check',\n",
              " 'claim',\n",
              " 'class',\n",
              " 'code',\n",
              " 'contact',\n",
              " 'cost',\n",
              " 'customer',\n",
              " 'dear',\n",
              " 'decimal',\n",
              " 'didnt',\n",
              " 'dinner',\n",
              " 'dont',\n",
              " 'draw',\n",
              " 'dunno',\n",
              " 'enjoy',\n",
              " 'everything',\n",
              " 'feel',\n",
              " 'finish',\n",
              " 'forgot',\n",
              " 'friend',\n",
              " 'girl',\n",
              " 'gon',\n",
              " 'guaranteed',\n",
              " 'haha',\n",
              " 'half',\n",
              " 'hello',\n",
              " 'help',\n",
              " 'holiday',\n",
              " 'home',\n",
              " 'hope',\n",
              " 'hour',\n",
              " 'house',\n",
              " 'land',\n",
              " 'landline',\n",
              " 'lesson',\n",
              " 'liao',\n",
              " 'life',\n",
              " 'line',\n",
              " 'look',\n",
              " 'love',\n",
              " 'lunch',\n",
              " 'mean',\n",
              " 'meet',\n",
              " 'meeting',\n",
              " 'message',\n",
              " 'min',\n",
              " 'minute',\n",
              " 'miss',\n",
              " 'mobile',\n",
              " 'money',\n",
              " 'month',\n",
              " 'morning',\n",
              " 'need',\n",
              " 'night',\n",
              " 'nokia',\n",
              " 'nothing',\n",
              " 'number',\n",
              " 'offer',\n",
              " 'office',\n",
              " 'people',\n",
              " 'person',\n",
              " 'phone',\n",
              " 'pick',\n",
              " 'place',\n",
              " 'please',\n",
              " 'pobox',\n",
              " 'prize',\n",
              " 'problem',\n",
              " 'rate',\n",
              " 'receive',\n",
              " 'reply',\n",
              " 'right',\n",
              " 'room',\n",
              " 'send',\n",
              " 'sent',\n",
              " 'service',\n",
              " 'shit',\n",
              " 'show',\n",
              " 'sleep',\n",
              " 'someone',\n",
              " 'something',\n",
              " 'sorry',\n",
              " 'stop',\n",
              " 'sure',\n",
              " 'talk',\n",
              " 'tell',\n",
              " 'text',\n",
              " 'thank',\n",
              " 'thanks',\n",
              " 'thats',\n",
              " 'thing',\n",
              " 'think',\n",
              " 'thought',\n",
              " 'time',\n",
              " 'today',\n",
              " 'told',\n",
              " 'tomorrow',\n",
              " 'tone',\n",
              " 'tonight',\n",
              " 'urgent',\n",
              " 'video',\n",
              " 'voucher',\n",
              " 'wait',\n",
              " 'want',\n",
              " 'watch',\n",
              " 'week',\n",
              " 'wish',\n",
              " 'wont',\n",
              " 'word',\n",
              " 'work',\n",
              " 'worry',\n",
              " 'yeah',\n",
              " 'year'}"
            ]
          },
          "execution_count": 18,
          "metadata": {},
          "output_type": "execute_result"
        }
      ],
      "source": [
        "psf"
      ]
    },
    {
      "cell_type": "code",
      "execution_count": null,
      "metadata": {
        "id": "n6tXVt8xV2mX"
      },
      "outputs": [],
      "source": [
        "unls=list(X_train['v2'])\n",
        "unl_ws=[]\n",
        "for i in range(len(unls)):\n",
        "    unl_ws.append(split(unls[i]))"
      ]
    },
    {
      "cell_type": "markdown",
      "metadata": {
        "id": "NY4PyNVsV2mY"
      },
      "source": [
        "### The unlabeled dataset is now labeled using the positive and negative feature sets.\n",
        "### 1 If a message contains more positive features then the negative featues, then it is labeled ham.\n",
        "### 2 Otherwise labeled as spam."
      ]
    },
    {
      "cell_type": "code",
      "execution_count": null,
      "metadata": {
        "id": "q7B9Ad3aV2mY",
        "outputId": "e2384ee9-72f6-4deb-9049-fb835ca29b04"
      },
      "outputs": [
        {
          "data": {
            "text/plain": [
              "Counter({'ham': 2443, 'spam': 934})"
            ]
          },
          "execution_count": 20,
          "metadata": {},
          "output_type": "execute_result"
        }
      ],
      "source": [
        "labels=[]\n",
        "for i in unl_ws:\n",
        "    if len(i)!=0:\n",
        "        fp = sum(el in psf for el in i)\n",
        "        fn = sum(el in ngf for el in i)\n",
        "        #print(fp,fn)\n",
        "        if fp>fn:\n",
        "            labels.append(\"ham\")\n",
        "        elif fn>=fp:\n",
        "            labels.append(\"spam\")\n",
        "    else:\n",
        "        labels.append(\"ham\")\n",
        "Counter(labels)"
      ]
    },
    {
      "cell_type": "code",
      "execution_count": null,
      "metadata": {
        "id": "ULa7u11MV2mY"
      },
      "outputs": [],
      "source": [
        "X_train[\"v1\"]=labels"
      ]
    },
    {
      "cell_type": "code",
      "execution_count": null,
      "metadata": {
        "id": "3Q2YxexeV2mY",
        "outputId": "03cee9c4-e8ac-4e0d-d5b9-da68a2e5670c"
      },
      "outputs": [
        {
          "data": {
            "text/html": [
              "<div>\n",
              "<style scoped>\n",
              "    .dataframe tbody tr th:only-of-type {\n",
              "        vertical-align: middle;\n",
              "    }\n",
              "\n",
              "    .dataframe tbody tr th {\n",
              "        vertical-align: top;\n",
              "    }\n",
              "\n",
              "    .dataframe thead th {\n",
              "        text-align: right;\n",
              "    }\n",
              "</style>\n",
              "<table border=\"1\" class=\"dataframe\">\n",
              "  <thead>\n",
              "    <tr style=\"text-align: right;\">\n",
              "      <th></th>\n",
              "      <th>v1</th>\n",
              "      <th>v2</th>\n",
              "      <th>Unnamed: 2</th>\n",
              "      <th>Unnamed: 3</th>\n",
              "      <th>Unnamed: 4</th>\n",
              "    </tr>\n",
              "  </thead>\n",
              "  <tbody>\n",
              "    <tr>\n",
              "      <td>281</td>\n",
              "      <td>ham</td>\n",
              "      <td>\\Wen u miss someone</td>\n",
              "      <td>the person is definitely special for u..... B...</td>\n",
              "      <td>why to miss them</td>\n",
              "      <td>just Keep-in-touch\\\" gdeve..\"</td>\n",
              "    </tr>\n",
              "    <tr>\n",
              "      <td>552</td>\n",
              "      <td>ham</td>\n",
              "      <td>Sure, if I get an acknowledgement from you tha...</td>\n",
              "      <td>NaN</td>\n",
              "      <td>NaN</td>\n",
              "      <td>NaN</td>\n",
              "    </tr>\n",
              "    <tr>\n",
              "      <td>5055</td>\n",
              "      <td>ham</td>\n",
              "      <td>Goodnight da thangam I really miss u dear.</td>\n",
              "      <td>NaN</td>\n",
              "      <td>NaN</td>\n",
              "      <td>NaN</td>\n",
              "    </tr>\n",
              "    <tr>\n",
              "      <td>3138</td>\n",
              "      <td>spam</td>\n",
              "      <td>Is ur lecture over?</td>\n",
              "      <td>NaN</td>\n",
              "      <td>NaN</td>\n",
              "      <td>NaN</td>\n",
              "    </tr>\n",
              "    <tr>\n",
              "      <td>4621</td>\n",
              "      <td>spam</td>\n",
              "      <td>They finally came to fix the ceiling.</td>\n",
              "      <td>NaN</td>\n",
              "      <td>NaN</td>\n",
              "      <td>NaN</td>\n",
              "    </tr>\n",
              "    <tr>\n",
              "      <td>...</td>\n",
              "      <td>...</td>\n",
              "      <td>...</td>\n",
              "      <td>...</td>\n",
              "      <td>...</td>\n",
              "      <td>...</td>\n",
              "    </tr>\n",
              "    <tr>\n",
              "      <td>1004</td>\n",
              "      <td>ham</td>\n",
              "      <td>Umma. Did she say anything</td>\n",
              "      <td>NaN</td>\n",
              "      <td>NaN</td>\n",
              "      <td>NaN</td>\n",
              "    </tr>\n",
              "    <tr>\n",
              "      <td>5162</td>\n",
              "      <td>ham</td>\n",
              "      <td>Just send a text. We'll skype later.</td>\n",
              "      <td>NaN</td>\n",
              "      <td>NaN</td>\n",
              "      <td>NaN</td>\n",
              "    </tr>\n",
              "    <tr>\n",
              "      <td>3465</td>\n",
              "      <td>spam</td>\n",
              "      <td>Actually fuck that, just do whatever, do find ...</td>\n",
              "      <td>NaN</td>\n",
              "      <td>NaN</td>\n",
              "      <td>NaN</td>\n",
              "    </tr>\n",
              "    <tr>\n",
              "      <td>3543</td>\n",
              "      <td>ham</td>\n",
              "      <td>Lol ok ill try to send. Be warned Sprint is de...</td>\n",
              "      <td>NaN</td>\n",
              "      <td>NaN</td>\n",
              "      <td>NaN</td>\n",
              "    </tr>\n",
              "    <tr>\n",
              "      <td>4209</td>\n",
              "      <td>ham</td>\n",
              "      <td>No da:)he is stupid da..always sending like th...</td>\n",
              "      <td>NaN</td>\n",
              "      <td>NaN</td>\n",
              "      <td>NaN</td>\n",
              "    </tr>\n",
              "  </tbody>\n",
              "</table>\n",
              "<p>3377 rows × 5 columns</p>\n",
              "</div>"
            ],
            "text/plain": [
              "        v1                                                 v2  \\\n",
              "281    ham                                \\Wen u miss someone   \n",
              "552    ham  Sure, if I get an acknowledgement from you tha...   \n",
              "5055   ham         Goodnight da thangam I really miss u dear.   \n",
              "3138  spam                                Is ur lecture over?   \n",
              "4621  spam              They finally came to fix the ceiling.   \n",
              "...    ...                                                ...   \n",
              "1004   ham                         Umma. Did she say anything   \n",
              "5162   ham               Just send a text. We'll skype later.   \n",
              "3465  spam  Actually fuck that, just do whatever, do find ...   \n",
              "3543   ham  Lol ok ill try to send. Be warned Sprint is de...   \n",
              "4209   ham  No da:)he is stupid da..always sending like th...   \n",
              "\n",
              "                                             Unnamed: 2         Unnamed: 3  \\\n",
              "281    the person is definitely special for u..... B...   why to miss them   \n",
              "552                                                 NaN                NaN   \n",
              "5055                                                NaN                NaN   \n",
              "3138                                                NaN                NaN   \n",
              "4621                                                NaN                NaN   \n",
              "...                                                 ...                ...   \n",
              "1004                                                NaN                NaN   \n",
              "5162                                                NaN                NaN   \n",
              "3465                                                NaN                NaN   \n",
              "3543                                                NaN                NaN   \n",
              "4209                                                NaN                NaN   \n",
              "\n",
              "                          Unnamed: 4  \n",
              "281    just Keep-in-touch\\\" gdeve..\"  \n",
              "552                              NaN  \n",
              "5055                             NaN  \n",
              "3138                             NaN  \n",
              "4621                             NaN  \n",
              "...                              ...  \n",
              "1004                             NaN  \n",
              "5162                             NaN  \n",
              "3465                             NaN  \n",
              "3543                             NaN  \n",
              "4209                             NaN  \n",
              "\n",
              "[3377 rows x 5 columns]"
            ]
          },
          "execution_count": 22,
          "metadata": {},
          "output_type": "execute_result"
        }
      ],
      "source": [
        "X_train"
      ]
    },
    {
      "cell_type": "code",
      "execution_count": null,
      "metadata": {
        "id": "g4RZ-lYzV2mY"
      },
      "outputs": [],
      "source": [
        "df_rejoined = pd.concat([X_train, X_test, df[df['v1'] == \"spam\"]], ignore_index=True)\n",
        "for i in range(len(df_rejoined)):\n",
        "    df_rejoined.at[i,'v2']=' '.join(split(df_rejoined.iloc[i][\"v2\"]))"
      ]
    },
    {
      "cell_type": "code",
      "execution_count": null,
      "metadata": {
        "scrolled": true,
        "id": "0_EOxjIaV2mY",
        "outputId": "a3200ad1-e1e6-4493-838b-c9aec23780f5"
      },
      "outputs": [
        {
          "name": "stdout",
          "output_type": "stream",
          "text": [
            "        v1                                                 v2  \\\n",
            "0      ham                                       miss someone   \n",
            "1      ham  sure acknowledgement tactless faggy demand blo...   \n",
            "2      ham                        goodnight thangam miss dear   \n",
            "3     spam                                            lecture   \n",
            "4     spam                                            ceiling   \n",
            "...    ...                                                ...   \n",
            "5567  spam             want explicit sec ring cost gsex pobox   \n",
            "5568  spam  mobile chatlines inclu min india cust servs me...   \n",
            "5569  spam  contract mobile mnths motorola nokia min text ...   \n",
            "5570  spam  reminder pound call credit detail offer reply ...   \n",
            "5571  spam    time contact pound prize claim call minute rate   \n",
            "\n",
            "                                             Unnamed: 2         Unnamed: 3  \\\n",
            "0      the person is definitely special for u..... B...   why to miss them   \n",
            "1                                                   NaN                NaN   \n",
            "2                                                   NaN                NaN   \n",
            "3                                                   NaN                NaN   \n",
            "4                                                   NaN                NaN   \n",
            "...                                                 ...                ...   \n",
            "5567                                                NaN                NaN   \n",
            "5568                                                NaN                NaN   \n",
            "5569                                                NaN                NaN   \n",
            "5570                                                NaN                NaN   \n",
            "5571                                                NaN                NaN   \n",
            "\n",
            "                          Unnamed: 4  \n",
            "0      just Keep-in-touch\\\" gdeve..\"  \n",
            "1                                NaN  \n",
            "2                                NaN  \n",
            "3                                NaN  \n",
            "4                                NaN  \n",
            "...                              ...  \n",
            "5567                             NaN  \n",
            "5568                             NaN  \n",
            "5569                             NaN  \n",
            "5570                             NaN  \n",
            "5571                             NaN  \n",
            "\n",
            "[5572 rows x 5 columns]\n"
          ]
        }
      ],
      "source": [
        "print(df_rejoined)"
      ]
    },
    {
      "cell_type": "markdown",
      "metadata": {
        "id": "0zvJHXolV2mY"
      },
      "source": [
        "### Inorder to train the ensemble model, the text data should be converted to vectors.\n",
        "### For this purpose, a method of word vectorization called CountVectorizer is used."
      ]
    },
    {
      "cell_type": "code",
      "execution_count": null,
      "metadata": {
        "id": "6mpCb4x8V2mZ"
      },
      "outputs": [],
      "source": [
        "from sklearn.feature_extraction.text import CountVectorizer\n",
        "count_vectorizer = CountVectorizer()"
      ]
    },
    {
      "cell_type": "code",
      "execution_count": null,
      "metadata": {
        "id": "-kgaFf8NV2mZ"
      },
      "outputs": [],
      "source": [
        "df_testing = pd.concat([X_train, df[df['v1'] == \"spam\"]], ignore_index=True)\n",
        "for i in range(len(df_testing)):\n",
        "    df_testing.at[i,'v2']=' '.join(split(df_testing.iloc[i][\"v2\"]))"
      ]
    },
    {
      "cell_type": "code",
      "execution_count": null,
      "metadata": {
        "id": "jdXFaf1MV2mZ",
        "outputId": "b6defef3-96f8-4291-bb15-09bfd8754fc4"
      },
      "outputs": [
        {
          "data": {
            "text/plain": [
              "5572"
            ]
          },
          "execution_count": 27,
          "metadata": {},
          "output_type": "execute_result"
        }
      ],
      "source": [
        "len(df_rejoined['v2'].values)"
      ]
    },
    {
      "cell_type": "code",
      "execution_count": null,
      "metadata": {
        "id": "o5jjDEkgV2mZ"
      },
      "outputs": [],
      "source": [
        "t=list(df_rejoined['v2'].values)+list(df_testing['v2'].values)"
      ]
    },
    {
      "cell_type": "code",
      "execution_count": null,
      "metadata": {
        "id": "xgd3ILsTV2mZ"
      },
      "outputs": [],
      "source": [
        "counts = count_vectorizer.fit_transform(t)"
      ]
    },
    {
      "cell_type": "code",
      "execution_count": null,
      "metadata": {
        "id": "IZfZyfOBV2mZ",
        "outputId": "50e11cd4-39bb-40f9-9338-d656439728be"
      },
      "outputs": [
        {
          "data": {
            "text/plain": [
              "scipy.sparse.csr.csr_matrix"
            ]
          },
          "execution_count": 30,
          "metadata": {},
          "output_type": "execute_result"
        }
      ],
      "source": [
        "type(counts)"
      ]
    },
    {
      "cell_type": "code",
      "execution_count": null,
      "metadata": {
        "id": "z7_yNfjtV2mZ",
        "outputId": "af5a5016-c172-44a0-b731-08fda29ca320"
      },
      "outputs": [
        {
          "data": {
            "text/plain": [
              "<5572x4816 sparse matrix of type '<class 'numpy.int64'>'\n",
              "\twith 24060 stored elements in Compressed Sparse Row format>"
            ]
          },
          "execution_count": 31,
          "metadata": {},
          "output_type": "execute_result"
        }
      ],
      "source": [
        "counts[:5572]"
      ]
    },
    {
      "cell_type": "markdown",
      "metadata": {
        "id": "u7pgMyEqV2mi"
      },
      "source": [
        "### counts1 contains the vectors for training.\n",
        "### counts2 contains the vectors for testing."
      ]
    },
    {
      "cell_type": "code",
      "execution_count": null,
      "metadata": {
        "id": "rP9s2_h3V2mi"
      },
      "outputs": [],
      "source": [
        "counts1=counts[:5572]"
      ]
    },
    {
      "cell_type": "code",
      "execution_count": null,
      "metadata": {
        "id": "IEV3lf7eV2mi"
      },
      "outputs": [],
      "source": [
        "counts2=counts[5572:]"
      ]
    },
    {
      "cell_type": "markdown",
      "metadata": {
        "id": "FsktpoOIV2mi"
      },
      "source": [
        "### The ensemble of classifiers contains\n",
        "#### #1 Multinomial Naive Bayes\n",
        "#### #2 Support Vector Machine\n",
        "#### #3 Random Forest"
      ]
    },
    {
      "cell_type": "code",
      "execution_count": null,
      "metadata": {
        "id": "F_VEOFrqV2mi",
        "outputId": "e5e8e62c-8c54-45ee-e06f-3ced500691b1"
      },
      "outputs": [
        {
          "data": {
            "text/plain": [
              "MultinomialNB(alpha=1.0, class_prior=None, fit_prior=True)"
            ]
          },
          "execution_count": 34,
          "metadata": {},
          "output_type": "execute_result"
        }
      ],
      "source": [
        "from sklearn.naive_bayes import MultinomialNB\n",
        "classifier1 = MultinomialNB()\n",
        "targets = df_rejoined['v1'].values\n",
        "classifier1.fit(counts1, targets)"
      ]
    },
    {
      "cell_type": "code",
      "execution_count": null,
      "metadata": {
        "id": "IYh1EIktV2mj",
        "outputId": "52fbc161-b63e-4af7-9742-3776c48c6a28"
      },
      "outputs": [
        {
          "name": "stderr",
          "output_type": "stream",
          "text": [
            "/usr/local/anaconda3/lib/python3.7/site-packages/sklearn/svm/base.py:193: FutureWarning: The default value of gamma will change from 'auto' to 'scale' in version 0.22 to account better for unscaled features. Set gamma explicitly to 'auto' or 'scale' to avoid this warning.\n",
            "  \"avoid this warning.\", FutureWarning)\n"
          ]
        },
        {
          "data": {
            "text/plain": [
              "SVC(C=1.0, cache_size=200, class_weight=None, coef0=0.0,\n",
              "    decision_function_shape='ovr', degree=3, gamma='auto_deprecated',\n",
              "    kernel='rbf', max_iter=-1, probability=False, random_state=None,\n",
              "    shrinking=True, tol=0.001, verbose=False)"
            ]
          },
          "execution_count": 35,
          "metadata": {},
          "output_type": "execute_result"
        }
      ],
      "source": [
        "from sklearn import svm\n",
        "targets = df_rejoined['v1'].values\n",
        "classifier2 = svm.SVC()\n",
        "classifier2.fit(counts1, targets)\n",
        "#SVC()"
      ]
    },
    {
      "cell_type": "code",
      "execution_count": null,
      "metadata": {
        "id": "kFoHTnfNV2mj",
        "outputId": "a56bed51-6b88-4693-acdf-7fd7610c19c5"
      },
      "outputs": [
        {
          "data": {
            "text/plain": [
              "RandomForestClassifier(bootstrap=True, class_weight=None, criterion='gini',\n",
              "                       max_depth=None, max_features='auto', max_leaf_nodes=None,\n",
              "                       min_impurity_decrease=0.0, min_impurity_split=None,\n",
              "                       min_samples_leaf=1, min_samples_split=2,\n",
              "                       min_weight_fraction_leaf=0.0, n_estimators=100,\n",
              "                       n_jobs=None, oob_score=False, random_state=None,\n",
              "                       verbose=0, warm_start=False)"
            ]
          },
          "execution_count": 36,
          "metadata": {},
          "output_type": "execute_result"
        }
      ],
      "source": [
        "from sklearn.ensemble import RandomForestClassifier\n",
        "targets = df_rejoined['v1'].values\n",
        "classifier3=RandomForestClassifier(n_estimators=100)\n",
        "classifier3.fit(counts1, targets)"
      ]
    },
    {
      "cell_type": "code",
      "execution_count": null,
      "metadata": {
        "id": "NLs6aoPmV2mj"
      },
      "outputs": [],
      "source": [
        "y_pred1=classifier1.predict(counts2)\n",
        "y_pred2=classifier2.predict(counts2)\n",
        "y_pred3=classifier3.predict(counts2)"
      ]
    },
    {
      "cell_type": "code",
      "execution_count": null,
      "metadata": {
        "id": "8_mv4ULlV2mj",
        "outputId": "5c4bfefa-0333-4c4b-fdd7-2528adeabd19"
      },
      "outputs": [
        {
          "data": {
            "text/plain": [
              "array(['ham', 'ham', 'ham', ..., 'spam', 'spam', 'spam'], dtype='<U4')"
            ]
          },
          "execution_count": 38,
          "metadata": {},
          "output_type": "execute_result"
        }
      ],
      "source": [
        "y_pred1"
      ]
    },
    {
      "cell_type": "code",
      "execution_count": null,
      "metadata": {
        "id": "eahl781sV2mj",
        "outputId": "f01bf7e8-6c53-4acc-888a-8113c8bb794d"
      },
      "outputs": [
        {
          "data": {
            "text/plain": [
              "array(['ham', 'ham', 'ham', ..., 'ham', 'ham', 'ham'], dtype=object)"
            ]
          },
          "execution_count": 39,
          "metadata": {},
          "output_type": "execute_result"
        }
      ],
      "source": [
        "y_pred2"
      ]
    },
    {
      "cell_type": "code",
      "execution_count": null,
      "metadata": {
        "id": "CGNLUm4qV2mj",
        "outputId": "64c93d4e-dce8-4f54-9218-10a5e467a1c7"
      },
      "outputs": [
        {
          "data": {
            "text/plain": [
              "array(['ham', 'ham', 'ham', ..., 'spam', 'spam', 'spam'], dtype=object)"
            ]
          },
          "execution_count": 41,
          "metadata": {},
          "output_type": "execute_result"
        }
      ],
      "source": [
        "y_pred3"
      ]
    },
    {
      "cell_type": "markdown",
      "metadata": {
        "id": "LkD2bwVvV2mk"
      },
      "source": [
        "### Majority Voting Scheme is used for ensemble prediction."
      ]
    },
    {
      "cell_type": "code",
      "execution_count": null,
      "metadata": {
        "id": "Nv2K2klwV2mk"
      },
      "outputs": [],
      "source": [
        "y_pred=list()\n",
        "for i in range(len(y_pred1)):\n",
        "    spamcount=0\n",
        "    hamcount=0\n",
        "    if(y_pred1[i]=='spam'):\n",
        "        spamcount=spamcount+1\n",
        "    if(y_pred2[i]=='spam'):\n",
        "        spamcount=spamcount+1\n",
        "    if(y_pred3[i]=='spam'):\n",
        "        spamcount=spamcount+1\n",
        "    hamcount=3-spamcount\n",
        "    if(spamcount>hamcount):\n",
        "        y_pred.append('spam')\n",
        "    else:\n",
        "        y_pred.append('ham')"
      ]
    },
    {
      "cell_type": "code",
      "execution_count": null,
      "metadata": {
        "id": "8ZuuGT5GV2mk",
        "outputId": "ad76c6b7-ca32-4d86-c92c-b614d19759ef"
      },
      "outputs": [
        {
          "name": "stdout",
          "output_type": "stream",
          "text": [
            "4124\n",
            "4124\n",
            "4124\n",
            "4124\n"
          ]
        }
      ],
      "source": [
        "print(len(y_pred1))\n",
        "print(len(y_pred2))\n",
        "print(len(y_pred3))\n",
        "print(len(y_pred))"
      ]
    },
    {
      "cell_type": "markdown",
      "metadata": {
        "id": "xviIV1NsV2mk"
      },
      "source": [
        "### The following metrics show accuracy, precision, recall, f-score and support"
      ]
    },
    {
      "cell_type": "code",
      "execution_count": null,
      "metadata": {
        "id": "DAfCxZGZV2mk",
        "outputId": "b80cc9b8-4a43-459b-b1f7-3e459af9944d"
      },
      "outputs": [
        {
          "name": "stdout",
          "output_type": "stream",
          "text": [
            "Accuracy: 0.8656644034917556\n"
          ]
        }
      ],
      "source": [
        "from sklearn import metrics\n",
        "# Model Accuracy, how often is the classifier correct?\n",
        "print(\"Accuracy:\",metrics.accuracy_score(df_testing['v1'].values, y_pred))"
      ]
    },
    {
      "cell_type": "code",
      "execution_count": null,
      "metadata": {
        "id": "GOF4a721V2mk",
        "outputId": "b0b87443-b1ba-46b0-8a12-7fa458cbbd25"
      },
      "outputs": [
        {
          "name": "stdout",
          "output_type": "stream",
          "text": [
            "CLassification Report\n",
            "              precision    recall  f1-score   support\n",
            "\n",
            "         ham       0.82      1.00      0.90      2443\n",
            "        spam       1.00      0.67      0.80      1681\n",
            "\n",
            "    accuracy                           0.87      4124\n",
            "   macro avg       0.91      0.84      0.85      4124\n",
            "weighted avg       0.89      0.87      0.86      4124\n",
            "\n"
          ]
        }
      ],
      "source": [
        "print(\"CLassification Report\")\n",
        "print(metrics.classification_report(df_testing['v1'].values, y_pred))"
      ]
    }
  ],
  "metadata": {
    "kernelspec": {
      "display_name": "Python 3",
      "language": "python",
      "name": "python3"
    },
    "language_info": {
      "codemirror_mode": {
        "name": "ipython",
        "version": 3
      },
      "file_extension": ".py",
      "mimetype": "text/x-python",
      "name": "python",
      "nbconvert_exporter": "python",
      "pygments_lexer": "ipython3",
      "version": "3.7.4"
    },
    "colab": {
      "provenance": [],
      "include_colab_link": true
    }
  },
  "nbformat": 4,
  "nbformat_minor": 0
}